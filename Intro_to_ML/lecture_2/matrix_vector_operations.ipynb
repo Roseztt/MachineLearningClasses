{
 "cells": [
  {
   "cell_type": "code",
   "execution_count": 1,
   "metadata": {
    "execution": {
     "iopub.execute_input": "2025-01-17T20:47:54.853464Z",
     "iopub.status.busy": "2025-01-17T20:47:54.851816Z",
     "iopub.status.idle": "2025-01-17T20:47:54.856373Z",
     "shell.execute_reply": "2025-01-17T20:47:54.855111Z"
    }
   },
   "outputs": [],
   "source": [
    "#!/usr/bin/env python"
   ]
  },
  {
   "cell_type": "code",
   "execution_count": 2,
   "metadata": {
    "execution": {
     "iopub.execute_input": "2025-01-17T20:47:54.857694Z",
     "iopub.status.busy": "2025-01-17T20:47:54.857577Z",
     "iopub.status.idle": "2025-01-17T20:47:54.898485Z",
     "shell.execute_reply": "2025-01-17T20:47:54.898044Z"
    }
   },
   "outputs": [],
   "source": [
    "import numpy as np\n",
    "from numpy import array\n",
    "from numpy import trace"
   ]
  },
  {
   "cell_type": "code",
   "execution_count": 3,
   "metadata": {
    "execution": {
     "iopub.execute_input": "2025-01-17T20:47:54.901239Z",
     "iopub.status.busy": "2025-01-17T20:47:54.900438Z",
     "iopub.status.idle": "2025-01-17T20:47:54.930783Z",
     "shell.execute_reply": "2025-01-17T20:47:54.930342Z"
    }
   },
   "outputs": [
    {
     "name": "stdout",
     "output_type": "stream",
     "text": [
      "[[1]\n",
      " [2]\n",
      " [3]]\n"
     ]
    }
   ],
   "source": [
    "v = array([[1],[2],[3]])\n",
    "print(v)"
   ]
  },
  {
   "cell_type": "code",
   "execution_count": 4,
   "metadata": {
    "execution": {
     "iopub.execute_input": "2025-01-17T20:47:54.934652Z",
     "iopub.status.busy": "2025-01-17T20:47:54.934378Z",
     "iopub.status.idle": "2025-01-17T20:47:54.938568Z",
     "shell.execute_reply": "2025-01-17T20:47:54.938222Z"
    }
   },
   "outputs": [
    {
     "name": "stdout",
     "output_type": "stream",
     "text": [
      "[[3]\n",
      " [1]\n",
      " [4]]\n"
     ]
    }
   ],
   "source": [
    "u = array([[3],[1],[4]])\n",
    "print(u)"
   ]
  },
  {
   "cell_type": "code",
   "execution_count": 5,
   "metadata": {
    "execution": {
     "iopub.execute_input": "2025-01-17T20:47:54.940161Z",
     "iopub.status.busy": "2025-01-17T20:47:54.940051Z",
     "iopub.status.idle": "2025-01-17T20:47:54.942181Z",
     "shell.execute_reply": "2025-01-17T20:47:54.941936Z"
    }
   },
   "outputs": [
    {
     "name": "stdout",
     "output_type": "stream",
     "text": [
      "[[1 2 3]\n",
      " [3 2 1]\n",
      " [3 1 1]]\n"
     ]
    }
   ],
   "source": [
    "A = array([[1,2,3],[3,2,1],[3,1,1]])\n",
    "print(A)"
   ]
  },
  {
   "cell_type": "markdown",
   "metadata": {},
   "source": [
    "outer product $u v^{\\top}$"
   ]
  },
  {
   "cell_type": "code",
   "execution_count": 6,
   "metadata": {
    "execution": {
     "iopub.execute_input": "2025-01-17T20:47:54.943438Z",
     "iopub.status.busy": "2025-01-17T20:47:54.943318Z",
     "iopub.status.idle": "2025-01-17T20:47:54.945130Z",
     "shell.execute_reply": "2025-01-17T20:47:54.944899Z"
    }
   },
   "outputs": [
    {
     "name": "stdout",
     "output_type": "stream",
     "text": [
      "[[ 3  6  9]\n",
      " [ 1  2  3]\n",
      " [ 4  8 12]]\n",
      "[[ 3  6  9]\n",
      " [ 1  2  3]\n",
      " [ 4  8 12]]\n"
     ]
    }
   ],
   "source": [
    "print(u.dot(v.T))\n",
    "print(u @ v.T)"
   ]
  },
  {
   "cell_type": "markdown",
   "metadata": {},
   "source": [
    "inner/dot product $v^{\\top} v$"
   ]
  },
  {
   "cell_type": "code",
   "execution_count": 7,
   "metadata": {
    "execution": {
     "iopub.execute_input": "2025-01-17T20:47:54.946334Z",
     "iopub.status.busy": "2025-01-17T20:47:54.946194Z",
     "iopub.status.idle": "2025-01-17T20:47:54.947987Z",
     "shell.execute_reply": "2025-01-17T20:47:54.947742Z"
    }
   },
   "outputs": [
    {
     "name": "stdout",
     "output_type": "stream",
     "text": [
      "[[14]]\n",
      "[[14]]\n"
     ]
    }
   ],
   "source": [
    "print(v.T.dot(v))\n",
    "print(v.T @ v)"
   ]
  },
  {
   "cell_type": "markdown",
   "metadata": {},
   "source": [
    "$x^{\\top} A x$"
   ]
  },
  {
   "cell_type": "code",
   "execution_count": 8,
   "metadata": {
    "execution": {
     "iopub.execute_input": "2025-01-17T20:47:54.949226Z",
     "iopub.status.busy": "2025-01-17T20:47:54.949047Z",
     "iopub.status.idle": "2025-01-17T20:47:54.950999Z",
     "shell.execute_reply": "2025-01-17T20:47:54.950720Z"
    }
   },
   "outputs": [
    {
     "name": "stdout",
     "output_type": "stream",
     "text": [
      "[[58]]\n",
      "[[58]]\n"
     ]
    }
   ],
   "source": [
    "print(v.T.dot(A).dot(v))\n",
    "print(v.T @ A @v)"
   ]
  },
  {
   "cell_type": "markdown",
   "metadata": {},
   "source": [
    "hadamard"
   ]
  },
  {
   "cell_type": "code",
   "execution_count": 9,
   "metadata": {
    "execution": {
     "iopub.execute_input": "2025-01-17T20:47:54.952278Z",
     "iopub.status.busy": "2025-01-17T20:47:54.952090Z",
     "iopub.status.idle": "2025-01-17T20:47:54.953939Z",
     "shell.execute_reply": "2025-01-17T20:47:54.953674Z"
    }
   },
   "outputs": [
    {
     "name": "stdout",
     "output_type": "stream",
     "text": [
      "[[ 3]\n",
      " [ 2]\n",
      " [12]]\n"
     ]
    }
   ],
   "source": [
    "print(v*u)"
   ]
  },
  {
   "cell_type": "markdown",
   "metadata": {},
   "source": [
    "matrix inner product"
   ]
  },
  {
   "cell_type": "code",
   "execution_count": 10,
   "metadata": {
    "execution": {
     "iopub.execute_input": "2025-01-17T20:47:54.955231Z",
     "iopub.status.busy": "2025-01-17T20:47:54.955042Z",
     "iopub.status.idle": "2025-01-17T20:47:54.956868Z",
     "shell.execute_reply": "2025-01-17T20:47:54.956599Z"
    }
   },
   "outputs": [
    {
     "name": "stdout",
     "output_type": "stream",
     "text": [
      "39\n"
     ]
    }
   ],
   "source": [
    "print(trace(A.dot(A.T)))"
   ]
  }
 ],
 "metadata": {
  "kernelspec": {
   "display_name": "Python 3",
   "language": "python",
   "name": "python3"
  },
  "language_info": {
   "codemirror_mode": {
    "name": "ipython",
    "version": 3
   },
   "file_extension": ".py",
   "mimetype": "text/x-python",
   "name": "python",
   "nbconvert_exporter": "python",
   "pygments_lexer": "ipython3",
   "version": "3.10.12"
  }
 },
 "nbformat": 4,
 "nbformat_minor": 2
}
