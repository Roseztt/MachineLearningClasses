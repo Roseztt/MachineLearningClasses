{
 "cells": [
  {
   "cell_type": "code",
   "execution_count": 1,
   "metadata": {
    "execution": {
     "iopub.execute_input": "2024-01-12T00:14:56.163265Z",
     "iopub.status.busy": "2024-01-12T00:14:56.162800Z",
     "iopub.status.idle": "2024-01-12T00:14:56.309589Z",
     "shell.execute_reply": "2024-01-12T00:14:56.308889Z"
    }
   },
   "outputs": [
    {
     "name": "stdout",
     "output_type": "stream",
     "text": [
      "[[1]\n",
      " [2]\n",
      " [3]]\n"
     ]
    }
   ],
   "source": [
    "#!/usr/bin/env python\n",
    "import numpy as np\n",
    "from numpy import array\n",
    "from numpy import trace\n",
    "\n",
    "v = array([[1],[2],[3]])\n",
    "print(v)"
   ]
  },
  {
   "cell_type": "code",
   "execution_count": 2,
   "metadata": {
    "execution": {
     "iopub.execute_input": "2024-01-12T00:14:56.357454Z",
     "iopub.status.busy": "2024-01-12T00:14:56.357112Z",
     "iopub.status.idle": "2024-01-12T00:14:56.363419Z",
     "shell.execute_reply": "2024-01-12T00:14:56.362232Z"
    }
   },
   "outputs": [
    {
     "name": "stdout",
     "output_type": "stream",
     "text": [
      "[[3]\n",
      " [1]\n",
      " [4]]\n"
     ]
    }
   ],
   "source": [
    "u = array([[3],[1],[4]])\n",
    "print(u)"
   ]
  },
  {
   "cell_type": "code",
   "execution_count": 3,
   "metadata": {
    "execution": {
     "iopub.execute_input": "2024-01-12T00:14:56.367866Z",
     "iopub.status.busy": "2024-01-12T00:14:56.367526Z",
     "iopub.status.idle": "2024-01-12T00:14:56.373227Z",
     "shell.execute_reply": "2024-01-12T00:14:56.372443Z"
    }
   },
   "outputs": [
    {
     "name": "stdout",
     "output_type": "stream",
     "text": [
      "[[1 2 3]\n",
      " [3 2 1]\n",
      " [3 1 1]]\n"
     ]
    }
   ],
   "source": [
    "A = array([[1,2,3],[3,2,1],[3,1,1]])\n",
    "print(A)"
   ]
  },
  {
   "cell_type": "markdown",
   "metadata": {},
   "source": [
    "outer product $u v^{\\top}$"
   ]
  },
  {
   "cell_type": "code",
   "execution_count": 4,
   "metadata": {
    "execution": {
     "iopub.execute_input": "2024-01-12T00:14:56.377758Z",
     "iopub.status.busy": "2024-01-12T00:14:56.377550Z",
     "iopub.status.idle": "2024-01-12T00:14:56.381537Z",
     "shell.execute_reply": "2024-01-12T00:14:56.380670Z"
    }
   },
   "outputs": [
    {
     "name": "stdout",
     "output_type": "stream",
     "text": [
      "[[ 3  6  9]\n",
      " [ 1  2  3]\n",
      " [ 4  8 12]]\n"
     ]
    }
   ],
   "source": [
    "print(u.dot(v.T))"
   ]
  },
  {
   "cell_type": "markdown",
   "metadata": {},
   "source": [
    "inner/dot product $v^{\\top} v$"
   ]
  },
  {
   "cell_type": "code",
   "execution_count": 5,
   "metadata": {
    "execution": {
     "iopub.execute_input": "2024-01-12T00:14:56.385091Z",
     "iopub.status.busy": "2024-01-12T00:14:56.384824Z",
     "iopub.status.idle": "2024-01-12T00:14:56.389607Z",
     "shell.execute_reply": "2024-01-12T00:14:56.388848Z"
    }
   },
   "outputs": [
    {
     "name": "stdout",
     "output_type": "stream",
     "text": [
      "[[14]]\n"
     ]
    }
   ],
   "source": [
    "print(v.T.dot(v))"
   ]
  },
  {
   "cell_type": "markdown",
   "metadata": {},
   "source": [
    "$x^{\\top} A x$"
   ]
  },
  {
   "cell_type": "code",
   "execution_count": 6,
   "metadata": {
    "execution": {
     "iopub.execute_input": "2024-01-12T00:14:56.393125Z",
     "iopub.status.busy": "2024-01-12T00:14:56.392857Z",
     "iopub.status.idle": "2024-01-12T00:14:56.397270Z",
     "shell.execute_reply": "2024-01-12T00:14:56.396415Z"
    }
   },
   "outputs": [
    {
     "name": "stdout",
     "output_type": "stream",
     "text": [
      "[[58]]\n"
     ]
    }
   ],
   "source": [
    "print(v.T.dot(A).dot(v))"
   ]
  },
  {
   "cell_type": "markdown",
   "metadata": {},
   "source": [
    "hadamard"
   ]
  },
  {
   "cell_type": "code",
   "execution_count": 7,
   "metadata": {
    "execution": {
     "iopub.execute_input": "2024-01-12T00:14:56.423931Z",
     "iopub.status.busy": "2024-01-12T00:14:56.423693Z",
     "iopub.status.idle": "2024-01-12T00:14:56.428873Z",
     "shell.execute_reply": "2024-01-12T00:14:56.427821Z"
    }
   },
   "outputs": [
    {
     "name": "stdout",
     "output_type": "stream",
     "text": [
      "[[ 3]\n",
      " [ 2]\n",
      " [12]]\n"
     ]
    }
   ],
   "source": [
    "print(v*u)"
   ]
  },
  {
   "cell_type": "markdown",
   "metadata": {},
   "source": [
    "matrix inner product"
   ]
  },
  {
   "cell_type": "code",
   "execution_count": 8,
   "metadata": {
    "execution": {
     "iopub.execute_input": "2024-01-12T00:14:56.436343Z",
     "iopub.status.busy": "2024-01-12T00:14:56.436039Z",
     "iopub.status.idle": "2024-01-12T00:14:56.441694Z",
     "shell.execute_reply": "2024-01-12T00:14:56.440598Z"
    }
   },
   "outputs": [
    {
     "name": "stdout",
     "output_type": "stream",
     "text": [
      "39\n"
     ]
    }
   ],
   "source": [
    "print(trace(A.dot(A.T)))"
   ]
  }
 ],
 "metadata": {
  "kernelspec": {
   "display_name": "Python 3",
   "language": "python",
   "name": "python3"
  },
  "language_info": {
   "codemirror_mode": {
    "name": "ipython",
    "version": 3
   },
   "file_extension": ".py",
   "mimetype": "text/x-python",
   "name": "python",
   "nbconvert_exporter": "python",
   "pygments_lexer": "ipython3",
   "version": "3.8.10"
  }
 },
 "nbformat": 4,
 "nbformat_minor": 2
}
