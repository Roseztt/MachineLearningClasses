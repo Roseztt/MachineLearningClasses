{
 "cells": [
  {
   "cell_type": "code",
   "execution_count": 1,
   "metadata": {
    "execution": {
     "iopub.execute_input": "2023-05-24T16:49:27.805785Z",
     "iopub.status.busy": "2023-05-24T16:49:27.805264Z",
     "iopub.status.idle": "2023-05-24T16:49:28.586727Z",
     "shell.execute_reply": "2023-05-24T16:49:28.585940Z"
    }
   },
   "outputs": [],
   "source": [
    "#!/usr/bin/env python\n",
    "#\n",
    "import numpy as np\n",
    "import pandas as pd\n",
    "from sklearn.preprocessing import LabelEncoder"
   ]
  },
  {
   "cell_type": "code",
   "execution_count": 2,
   "metadata": {
    "execution": {
     "iopub.execute_input": "2023-05-24T16:49:28.592205Z",
     "iopub.status.busy": "2023-05-24T16:49:28.592003Z",
     "iopub.status.idle": "2023-05-24T16:49:28.607172Z",
     "shell.execute_reply": "2023-05-24T16:49:28.606404Z"
    }
   },
   "outputs": [
    {
     "name": "stdout",
     "output_type": "stream",
     "text": [
      "    Day   Outlook Temprature Humidity    Wind Play_Tennis\n",
      "0    D1     Sunny        Hot     High    Weak          No\n",
      "1    D2     Sunny        Hot     High  Strong          No\n",
      "2    D3  Overcast        Hot     High    Weak         Yes\n",
      "3    D4      Rain       Mild     High    Weak         Yes\n",
      "4    D5      Rain       Cool   Normal    Weak         Yes\n",
      "5    D6      Rain       Cool   Normal  Strong          No\n",
      "6    D7  Overcast       Cool   Normal  Strong         Yes\n",
      "7    D8     Sunny       Mild     High    Weak          No\n",
      "8    D9     Sunny       Cool   Normal    Weak         Yes\n",
      "9   D10      Rain       Mild   Normal    Weak         Yes\n",
      "10  D11     Sunny       Mild   Normal  Strong         Yes\n",
      "11  D12  Overcast       Mild     High  Strong         Yes\n",
      "12  D13  Overcast        Hot   Normal    Weak         Yes\n",
      "13  D14      Rain       Mild     High  Strong          No \n",
      "\n",
      "\n",
      "    Day  Outlook Temprature Humidity    Wind  Play_Tennis\n",
      "0    D1        2        Hot     High    Weak            0\n",
      "1    D2        2        Hot     High  Strong            0\n",
      "2    D3        0        Hot     High    Weak            1\n",
      "3    D4        1       Mild     High    Weak            1\n",
      "4    D5        1       Cool   Normal    Weak            1\n",
      "5    D6        1       Cool   Normal  Strong            0\n",
      "6    D7        0       Cool   Normal  Strong            1\n",
      "7    D8        2       Mild     High    Weak            0\n",
      "8    D9        2       Cool   Normal    Weak            1\n",
      "9   D10        1       Mild   Normal    Weak            1\n",
      "10  D11        2       Mild   Normal  Strong            1\n",
      "11  D12        0       Mild     High  Strong            1\n",
      "12  D13        0        Hot   Normal    Weak            1\n",
      "13  D14        1       Mild     High  Strong            0\n",
      "[['D1' 2 'Hot' 'High' 'Weak' 0]\n",
      " ['D2' 2 'Hot' 'High' 'Strong' 0]\n",
      " ['D3' 0 'Hot' 'High' 'Weak' 1]\n",
      " ['D4' 1 'Mild' 'High' 'Weak' 1]\n",
      " ['D5' 1 'Cool' 'Normal' 'Weak' 1]\n",
      " ['D6' 1 'Cool' 'Normal' 'Strong' 0]\n",
      " ['D7' 0 'Cool' 'Normal' 'Strong' 1]\n",
      " ['D8' 2 'Mild' 'High' 'Weak' 0]\n",
      " ['D9' 2 'Cool' 'Normal' 'Weak' 1]\n",
      " ['D10' 1 'Mild' 'Normal' 'Weak' 1]\n",
      " ['D11' 2 'Mild' 'Normal' 'Strong' 1]\n",
      " ['D12' 0 'Mild' 'High' 'Strong' 1]\n",
      " ['D13' 0 'Hot' 'Normal' 'Weak' 1]\n",
      " ['D14' 1 'Mild' 'High' 'Strong' 0]]\n"
     ]
    }
   ],
   "source": [
    "df=pd.read_csv(\"Tennis.csv\")\n",
    "print(df, '\\n\\n')\n",
    "#\n",
    "enc = LabelEncoder()\n",
    "#Make sure label start from 0\n",
    "df['Outlook'] = enc.fit_transform(df['Outlook'])\t\n",
    "df['Play_Tennis'] = enc.fit_transform(df['Play_Tennis'])\t\n",
    "print(df)\n",
    "print(df.to_numpy())"
   ]
  }
 ],
 "metadata": {
  "kernelspec": {
   "display_name": "Python 3 (ipykernel)",
   "language": "python",
   "name": "python3"
  },
  "language_info": {
   "codemirror_mode": {
    "name": "ipython",
    "version": 3
   },
   "file_extension": ".py",
   "mimetype": "text/x-python",
   "name": "python",
   "nbconvert_exporter": "python",
   "pygments_lexer": "ipython3",
   "version": "3.10.12"
  }
 },
 "nbformat": 4,
 "nbformat_minor": 2
}
