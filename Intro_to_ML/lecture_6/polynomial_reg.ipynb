{
 "cells": [
  {
   "cell_type": "code",
   "execution_count": 1,
   "metadata": {
    "execution": {
     "iopub.execute_input": "2023-05-25T16:44:55.592329Z",
     "iopub.status.busy": "2023-05-25T16:44:55.591629Z",
     "iopub.status.idle": "2023-05-25T16:44:56.092127Z",
     "shell.execute_reply": "2023-05-25T16:44:56.090877Z"
    }
   },
   "outputs": [
    {
     "name": "stdout",
     "output_type": "stream",
     "text": [
      "[[1. 1. 0. 1. 0. 0.]\n",
      " [1. 2. 1. 4. 2. 1.]\n",
      " [1. 0. 1. 0. 0. 1.]]\n"
     ]
    }
   ],
   "source": [
    "#!/usr/bin/env python\n",
    "#\n",
    "import numpy as np\n",
    "from sklearn.preprocessing import PolynomialFeatures\n",
    "#\n",
    "X = np.array([\t[1,0],\n",
    "\t\t\t\t[2,1],\n",
    "\t\t\t\t[0,1]])\n",
    "#\n",
    "#[1, a, b, a^2, ab, b^2].\n",
    "poly = PolynomialFeatures(2)\n",
    "newX = poly.fit_transform(X)\n",
    "print(newX)"
   ]
  }
 ],
 "metadata": {
  "kernelspec": {
   "display_name": "Python 3",
   "language": "python",
   "name": "python3"
  },
  "language_info": {
   "codemirror_mode": {
    "name": "ipython",
    "version": 3
   },
   "file_extension": ".py",
   "mimetype": "text/x-python",
   "name": "python",
   "nbconvert_exporter": "python",
   "pygments_lexer": "ipython3",
   "version": "3.8.10"
  }
 },
 "nbformat": 4,
 "nbformat_minor": 2
}
