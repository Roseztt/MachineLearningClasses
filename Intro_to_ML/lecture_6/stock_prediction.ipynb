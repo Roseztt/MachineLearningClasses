{
 "cells": [
  {
   "cell_type": "code",
   "execution_count": 1,
   "metadata": {
    "execution": {
     "iopub.execute_input": "2024-01-18T14:25:39.428687Z",
     "iopub.status.busy": "2024-01-18T14:25:39.428226Z",
     "iopub.status.idle": "2024-01-18T14:25:40.182110Z",
     "shell.execute_reply": "2024-01-18T14:25:40.181335Z"
    }
   },
   "outputs": [],
   "source": [
    "#!/usr/bin/env python\n",
    "#\n",
    "import numpy as np\n",
    "from numpy import ones\n",
    "import matplotlib.pyplot as plt\n",
    "from sklearn.linear_model import LinearRegression\n",
    "from numpy import genfromtxt\n",
    "from numpy import mean\n",
    "from numpy.random import randn\n",
    "import sys\n",
    "#\n",
    "#\tthese make printing nicer\n",
    "np.set_printoptions(precision=4)\n",
    "np.set_printoptions(threshold=30)\n",
    "np.set_printoptions(linewidth=300)\n",
    "np.set_printoptions(suppress=True)\n",
    "np.set_printoptions(threshold=sys.maxsize)\n",
    "#"
   ]
  },
  {
   "cell_type": "markdown",
   "metadata": {},
   "source": []
  },
  {
   "cell_type": "code",
   "execution_count": 2,
   "metadata": {
    "execution": {
     "iopub.execute_input": "2024-01-18T14:25:40.186561Z",
     "iopub.status.busy": "2024-01-18T14:25:40.186384Z",
     "iopub.status.idle": "2024-01-18T14:25:40.194468Z",
     "shell.execute_reply": "2024-01-18T14:25:40.193897Z"
    }
   },
   "outputs": [],
   "source": [
    "X = genfromtxt('stock_prediction_data_scaled.csv', delimiter=',')\n",
    "n = X.shape[0]\n",
    "d = X.shape[1]\n",
    "η = 0.001\n",
    "#\n",
    "y = genfromtxt('stock_price.csv', delimiter=',')\n",
    "y = np.reshape(y, (n,1))\n",
    "#\n",
    "Ⅱ = ones((n,1))\t# this is a column vector of 1s\n",
    "Φ = np.hstack((X,Ⅱ))\n",
    "w = randn(d+1,1)\n",
    "#"
   ]
  },
  {
   "cell_type": "code",
   "execution_count": 3,
   "metadata": {
    "execution": {
     "iopub.execute_input": "2024-01-18T14:25:40.198010Z",
     "iopub.status.busy": "2024-01-18T14:25:40.197835Z",
     "iopub.status.idle": "2024-01-18T14:25:40.307463Z",
     "shell.execute_reply": "2024-01-18T14:25:40.306738Z"
    }
   },
   "outputs": [
    {
     "data": {
      "text/plain": [
       "Text(0, 0.5, 'MSE')"
      ]
     },
     "execution_count": 3,
     "metadata": {},
     "output_type": "execute_result"
    }
   ],
   "source": [
    "mse_list = []\n",
    "for i in range(20):\n",
    "\tfᑊ = Φ.T.dot(Φ.dot(w) - y)\t# derivative in compact matrix form\n",
    "\tw = w - η*fᑊ\t\t\t\t# gradient descent update w\n",
    "#\n",
    "\tε = (Φ.dot(w) - y)\t\t\t\t# latest error\n",
    "\tmse = (ε.T.dot(ε)/n).item()\t\t# item() extracts the number\n",
    "\tmse_list.append(mse)\t\t\t# record mse\n",
    "#\n",
    "plt.plot(mse_list)\n",
    "plt.title('MSE over GD')\n",
    "plt.xlabel('steps')\n",
    "plt.ylabel('MSE')\n",
    "#"
   ]
  },
  {
   "cell_type": "markdown",
   "metadata": {},
   "source": [
    "Display the plot"
   ]
  },
  {
   "cell_type": "code",
   "execution_count": 4,
   "metadata": {
    "execution": {
     "iopub.execute_input": "2024-01-18T14:25:40.332338Z",
     "iopub.status.busy": "2024-01-18T14:25:40.332132Z",
     "iopub.status.idle": "2024-01-18T14:25:40.494414Z",
     "shell.execute_reply": "2024-01-18T14:25:40.493693Z"
    }
   },
   "outputs": [
    {
     "data": {
      "image/png": "[encoded data removed]",
      "text/plain": [
       "<Figure size 640x480 with 1 Axes>"
      ]
     },
     "metadata": {},
     "output_type": "display_data"
    }
   ],
   "source": [
    "plt.show()\n",
    "#"
   ]
  },
  {
   "cell_type": "markdown",
   "metadata": {},
   "source": [
    "my stock price change prediction"
   ]
  },
  {
   "cell_type": "code",
   "execution_count": 5,
   "metadata": {
    "execution": {
     "iopub.execute_input": "2024-01-18T14:25:40.498604Z",
     "iopub.status.busy": "2024-01-18T14:25:40.498425Z",
     "iopub.status.idle": "2024-01-18T14:25:40.503331Z",
     "shell.execute_reply": "2024-01-18T14:25:40.502706Z"
    }
   },
   "outputs": [
    {
     "name": "stdout",
     "output_type": "stream",
     "text": [
      "Side by side comparison ŷ vs y\n",
      "[[ -0.2743  -0.31  ]\n",
      " [-16.6088 -16.86  ]\n",
      " [  1.4448   1.36  ]\n",
      " [ 12.5972  12.75  ]\n",
      " [  7.8247   7.91  ]\n",
      " [ -3.0438  -2.75  ]\n",
      " [ -0.3893  -0.54  ]\n",
      " [-11.014  -11.51  ]\n",
      " [ -4.2413  -4.01  ]\n",
      " [  3.448    3.08  ]\n",
      " [ -8.134   -8.23  ]\n",
      " [  0.0116  -0.14  ]\n",
      " [  2.1679   2.56  ]\n",
      " [ -7.0064  -6.87  ]\n",
      " [  4.6103   4.43  ]\n",
      " [  1.8002   1.98  ]\n",
      " [  3.7778   3.76  ]\n",
      " [  3.9886   4.16  ]\n",
      " [  6.5422   6.67  ]\n",
      " [ -7.0728  -7.21  ]]\n"
     ]
    }
   ],
   "source": [
    "ŷ = Φ.dot(w)\n",
    "Y = np.hstack((ŷ, y))\n",
    "print('Side by side comparison ŷ vs y') \n",
    "print(Y[0:20,:])"
   ]
  }
 ],
 "metadata": {
  "kernelspec": {
   "display_name": "Python 3",
   "language": "python",
   "name": "python3"
  },
  "language_info": {
   "codemirror_mode": {
    "name": "ipython",
    "version": 3
   },
   "file_extension": ".py",
   "mimetype": "text/x-python",
   "name": "python",
   "nbconvert_exporter": "python",
   "pygments_lexer": "ipython3",
   "version": "3.8.10"
  }
 },
 "nbformat": 4,
 "nbformat_minor": 2
}
