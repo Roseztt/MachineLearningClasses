{
 "cells": [
  {
   "cell_type": "code",
   "execution_count": 1,
   "metadata": {
    "execution": {
     "iopub.execute_input": "2025-01-23T13:28:24.935585Z",
     "iopub.status.busy": "2025-01-23T13:28:24.935109Z",
     "iopub.status.idle": "2025-01-23T13:28:25.504863Z",
     "shell.execute_reply": "2025-01-23T13:28:25.504048Z"
    }
   },
   "outputs": [
    {
     "name": "stdout",
     "output_type": "stream",
     "text": [
      "[[0.95770147]\n",
      " [1.08362577]\n",
      " [1.27766637]]\n"
     ]
    }
   ],
   "source": [
    "#!/usr/bin/env python\n",
    "#\n",
    "import numpy as np\n",
    "from sklearn.linear_model import LinearRegression\n",
    "from numpy.linalg import inv\n",
    "#\n",
    "X = np.array([\t[  4.,  -9.2], \n",
    "\t\t\t\t[ -4.,  -6.], \n",
    "\t\t\t\t[ 12., -10.], \n",
    "\t\t\t\t[ -1., -16.]])\n",
    "#\n",
    "y = np.array( [\t[ -5.],\n",
    "\t\t\t\t[ -9.],\n",
    "\t\t\t\t[  2.], \n",
    "\t\t\t\t[-17.]])\n",
    "#\n",
    "Ⅱ = np.ones((4,1))\n",
    "Φ = np.hstack((X,Ⅱ))\n",
    "#\n",
    "#\tClosed form solution \n",
    "w = inv(Φ.T@Φ) @ Φ.T @ y\n",
    "print(w)\n",
    "#"
   ]
  },
  {
   "cell_type": "code",
   "execution_count": 2,
   "metadata": {
    "execution": {
     "iopub.execute_input": "2025-01-23T13:28:25.591350Z",
     "iopub.status.busy": "2025-01-23T13:28:25.590973Z",
     "iopub.status.idle": "2025-01-23T13:28:25.597913Z",
     "shell.execute_reply": "2025-01-23T13:28:25.597206Z"
    }
   },
   "outputs": [
    {
     "name": "stdout",
     "output_type": "stream",
     "text": [
      "Predicted labels vs True Labels Compared Side by Side\n",
      "[[ -4.86088482  -5.        ]\n",
      " [ -9.0548941   -9.        ]\n",
      " [  1.93382629   2.        ]\n",
      " [-17.01804737 -17.        ]]\n"
     ]
    }
   ],
   "source": [
    "print('Predicted labels vs True Labels Compared Side by Side')\n",
    "print(np.hstack((Φ @ w, y)))\n",
    "#"
   ]
  },
  {
   "cell_type": "markdown",
   "metadata": {},
   "source": [
    "----------------- Using a library"
   ]
  },
  {
   "cell_type": "code",
   "execution_count": 3,
   "metadata": {
    "execution": {
     "iopub.execute_input": "2025-01-23T13:28:25.604002Z",
     "iopub.status.busy": "2025-01-23T13:28:25.603734Z",
     "iopub.status.idle": "2025-01-23T13:28:25.613007Z",
     "shell.execute_reply": "2025-01-23T13:28:25.611966Z"
    }
   },
   "outputs": [
    {
     "name": "stdout",
     "output_type": "stream",
     "text": [
      "[[0.95770147 1.08362577]]\n",
      "[1.27766637]\n",
      "Predicted labels\n",
      "[[ -4.86088482]\n",
      " [ -9.0548941 ]\n",
      " [  1.93382629]\n",
      " [-17.01804737]]\n"
     ]
    }
   ],
   "source": [
    "reg = LinearRegression().fit(X, y)\n",
    "print(reg.coef_)\n",
    "print(reg.intercept_)\n",
    "#\n",
    "pred_y = reg.predict(X)\n",
    "print('Predicted labels')\n",
    "print(pred_y)\n",
    "#"
   ]
  }
 ],
 "metadata": {
  "kernelspec": {
   "display_name": "Python 3",
   "language": "python",
   "name": "python3"
  },
  "language_info": {
   "codemirror_mode": {
    "name": "ipython",
    "version": 3
   },
   "file_extension": ".py",
   "mimetype": "text/x-python",
   "name": "python",
   "nbconvert_exporter": "python",
   "pygments_lexer": "ipython3",
   "version": "3.8.10"
  }
 },
 "nbformat": 4,
 "nbformat_minor": 2
}
