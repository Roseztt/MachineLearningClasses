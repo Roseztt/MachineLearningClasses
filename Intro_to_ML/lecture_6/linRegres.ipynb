{
 "cells": [
  {
   "cell_type": "code",
   "execution_count": 1,
   "metadata": {
    "execution": {
     "iopub.execute_input": "2024-09-24T17:00:01.227330Z",
     "iopub.status.busy": "2024-09-24T17:00:01.226720Z",
     "iopub.status.idle": "2024-09-24T17:00:01.231403Z",
     "shell.execute_reply": "2024-09-24T17:00:01.229878Z"
    }
   },
   "outputs": [],
   "source": [
    "#!/usr/bin/env python"
   ]
  },
  {
   "cell_type": "code",
   "execution_count": 2,
   "metadata": {
    "execution": {
     "iopub.execute_input": "2024-09-24T17:00:01.233441Z",
     "iopub.status.busy": "2024-09-24T17:00:01.233298Z",
     "iopub.status.idle": "2024-09-24T17:00:01.488384Z",
     "shell.execute_reply": "2024-09-24T17:00:01.488039Z"
    }
   },
   "outputs": [],
   "source": [
    "import numpy as np\n",
    "from sklearn.linear_model import LinearRegression"
   ]
  },
  {
   "cell_type": "code",
   "execution_count": 3,
   "metadata": {
    "execution": {
     "iopub.execute_input": "2024-09-24T17:00:01.490129Z",
     "iopub.status.busy": "2024-09-24T17:00:01.489977Z",
     "iopub.status.idle": "2024-09-24T17:00:01.491835Z",
     "shell.execute_reply": "2024-09-24T17:00:01.491596Z"
    }
   },
   "outputs": [],
   "source": [
    "X = np.array([\t[  4.,  -9.2], \n",
    "\t\t\t\t[ -4.,  -6.], \n",
    "\t\t\t\t[ 12., -10.], \n",
    "\t\t\t\t[ -1., -16.]])"
   ]
  },
  {
   "cell_type": "code",
   "execution_count": 4,
   "metadata": {
    "execution": {
     "iopub.execute_input": "2024-09-24T17:00:01.493321Z",
     "iopub.status.busy": "2024-09-24T17:00:01.493071Z",
     "iopub.status.idle": "2024-09-24T17:00:01.494744Z",
     "shell.execute_reply": "2024-09-24T17:00:01.494532Z"
    }
   },
   "outputs": [],
   "source": [
    "y = np.array( [\t[ -5.],\n",
    "\t\t\t\t[ -9.],\n",
    "\t\t\t\t[  2.], \n",
    "\t\t\t\t[-17.]])"
   ]
  },
  {
   "cell_type": "code",
   "execution_count": 5,
   "metadata": {
    "execution": {
     "iopub.execute_input": "2024-09-24T17:00:01.496047Z",
     "iopub.status.busy": "2024-09-24T17:00:01.495946Z",
     "iopub.status.idle": "2024-09-24T17:00:01.497772Z",
     "shell.execute_reply": "2024-09-24T17:00:01.497522Z"
    }
   },
   "outputs": [],
   "source": [
    "Ⅱ = np.ones((4,1))\n",
    "Φ = np.hstack((X,Ⅱ))"
   ]
  },
  {
   "cell_type": "markdown",
   "metadata": {},
   "source": [
    "Closed form solution "
   ]
  },
  {
   "cell_type": "code",
   "execution_count": 6,
   "metadata": {
    "execution": {
     "iopub.execute_input": "2024-09-24T17:00:01.499161Z",
     "iopub.status.busy": "2024-09-24T17:00:01.499009Z",
     "iopub.status.idle": "2024-09-24T17:00:01.501240Z",
     "shell.execute_reply": "2024-09-24T17:00:01.500977Z"
    }
   },
   "outputs": [
    {
     "name": "stdout",
     "output_type": "stream",
     "text": [
      "[[0.95770147]\n",
      " [1.08362577]\n",
      " [1.27766637]]\n"
     ]
    }
   ],
   "source": [
    "w = np.linalg.inv(Φ.T.dot(Φ)).dot(Φ.T.dot(y))\n",
    "print(w)"
   ]
  },
  {
   "cell_type": "code",
   "execution_count": 7,
   "metadata": {
    "execution": {
     "iopub.execute_input": "2024-09-24T17:00:01.518802Z",
     "iopub.status.busy": "2024-09-24T17:00:01.518539Z",
     "iopub.status.idle": "2024-09-24T17:00:01.521312Z",
     "shell.execute_reply": "2024-09-24T17:00:01.520894Z"
    }
   },
   "outputs": [
    {
     "name": "stdout",
     "output_type": "stream",
     "text": [
      "Predicted labels vs True Labels Compared Side by Side\n",
      "[[ -4.86088482  -5.        ]\n",
      " [ -9.0548941   -9.        ]\n",
      " [  1.93382629   2.        ]\n",
      " [-17.01804737 -17.        ]]\n"
     ]
    }
   ],
   "source": [
    "print('Predicted labels vs True Labels Compared Side by Side')\n",
    "print(np.hstack((Φ.dot(w), y)))"
   ]
  },
  {
   "cell_type": "markdown",
   "metadata": {},
   "source": [
    "----------------- Using a library"
   ]
  },
  {
   "cell_type": "code",
   "execution_count": 8,
   "metadata": {
    "execution": {
     "iopub.execute_input": "2024-09-24T17:00:01.522716Z",
     "iopub.status.busy": "2024-09-24T17:00:01.522581Z",
     "iopub.status.idle": "2024-09-24T17:00:01.525308Z",
     "shell.execute_reply": "2024-09-24T17:00:01.525056Z"
    }
   },
   "outputs": [
    {
     "name": "stdout",
     "output_type": "stream",
     "text": [
      "[[0.95770147 1.08362577]]\n",
      "[1.27766637]\n"
     ]
    }
   ],
   "source": [
    "reg = LinearRegression().fit(X, y)\n",
    "print(reg.coef_)\n",
    "print(reg.intercept_)"
   ]
  },
  {
   "cell_type": "code",
   "execution_count": 9,
   "metadata": {
    "execution": {
     "iopub.execute_input": "2024-09-24T17:00:01.526679Z",
     "iopub.status.busy": "2024-09-24T17:00:01.526480Z",
     "iopub.status.idle": "2024-09-24T17:00:01.528559Z",
     "shell.execute_reply": "2024-09-24T17:00:01.528295Z"
    }
   },
   "outputs": [
    {
     "name": "stdout",
     "output_type": "stream",
     "text": [
      "Predicted labels\n",
      "[[ -4.86088482]\n",
      " [ -9.0548941 ]\n",
      " [  1.93382629]\n",
      " [-17.01804737]]\n"
     ]
    }
   ],
   "source": [
    "pred_y = reg.predict(X)\n",
    "print('Predicted labels')\n",
    "print(pred_y)"
   ]
  }
 ],
 "metadata": {
  "kernelspec": {
   "display_name": "Python 3 (ipykernel)",
   "language": "python",
   "name": "python3"
  },
  "language_info": {
   "codemirror_mode": {
    "name": "ipython",
    "version": 3
   },
   "file_extension": ".py",
   "mimetype": "text/x-python",
   "name": "python",
   "nbconvert_exporter": "python",
   "pygments_lexer": "ipython3",
   "version": "3.10.12"
  }
 },
 "nbformat": 4,
 "nbformat_minor": 4
}
