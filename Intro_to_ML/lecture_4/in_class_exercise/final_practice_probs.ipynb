{
 "cells": [
  {
   "cell_type": "code",
   "execution_count": 1,
   "metadata": {
    "execution": {
     "iopub.execute_input": "2025-01-17T20:40:56.844538Z",
     "iopub.status.busy": "2025-01-17T20:40:56.843917Z",
     "iopub.status.idle": "2025-01-17T20:40:56.855365Z",
     "shell.execute_reply": "2025-01-17T20:40:56.853293Z"
    }
   },
   "outputs": [],
   "source": [
    "#!/usr/bin/env python"
   ]
  },
  {
   "cell_type": "code",
   "execution_count": 2,
   "metadata": {
    "execution": {
     "iopub.execute_input": "2025-01-17T20:40:56.862435Z",
     "iopub.status.busy": "2025-01-17T20:40:56.861638Z",
     "iopub.status.idle": "2025-01-17T20:40:56.915952Z",
     "shell.execute_reply": "2025-01-17T20:40:56.915519Z"
    }
   },
   "outputs": [],
   "source": [
    "import autograd.numpy as np\n",
    "from autograd.numpy import exp\n",
    "from autograd.numpy.linalg import inv\n",
    "from autograd import grad"
   ]
  },
  {
   "cell_type": "code",
   "execution_count": 3,
   "metadata": {
    "execution": {
     "iopub.execute_input": "2025-01-17T20:40:56.919197Z",
     "iopub.status.busy": "2025-01-17T20:40:56.918399Z",
     "iopub.status.idle": "2025-01-17T20:40:56.922265Z",
     "shell.execute_reply": "2025-01-17T20:40:56.921900Z"
    }
   },
   "outputs": [],
   "source": [
    "y = np.array([[2], [5]])\n",
    "ӏ = np.array([[1], [1]])\n",
    "x = np.random.random((2, 1))\n",
    "w = np.array([[7], [8]])"
   ]
  },
  {
   "cell_type": "markdown",
   "metadata": {},
   "source": [
    "Problem 1"
   ]
  },
  {
   "cell_type": "code",
   "execution_count": 4,
   "metadata": {
    "execution": {
     "iopub.execute_input": "2025-01-17T20:40:56.925030Z",
     "iopub.status.busy": "2025-01-17T20:40:56.924289Z",
     "iopub.status.idle": "2025-01-17T20:40:56.927461Z",
     "shell.execute_reply": "2025-01-17T20:40:56.927115Z"
    }
   },
   "outputs": [],
   "source": [
    "def f(x,y,ӏ):\n",
    "    return y.T@x + x.T@ӏ"
   ]
  },
  {
   "cell_type": "code",
   "execution_count": 5,
   "metadata": {
    "execution": {
     "iopub.execute_input": "2025-01-17T20:40:56.930147Z",
     "iopub.status.busy": "2025-01-17T20:40:56.929408Z",
     "iopub.status.idle": "2025-01-17T20:40:56.932434Z",
     "shell.execute_reply": "2025-01-17T20:40:56.932075Z"
    }
   },
   "outputs": [],
   "source": [
    "grad_foo = grad(f)"
   ]
  },
  {
   "cell_type": "code",
   "execution_count": 6,
   "metadata": {
    "execution": {
     "iopub.execute_input": "2025-01-17T20:40:56.935118Z",
     "iopub.status.busy": "2025-01-17T20:40:56.934380Z",
     "iopub.status.idle": "2025-01-17T20:40:56.952264Z",
     "shell.execute_reply": "2025-01-17T20:40:56.951835Z"
    }
   },
   "outputs": [
    {
     "name": "stdout",
     "output_type": "stream",
     "text": [
      "Autograd: \n",
      " [[3.]\n",
      " [6.]]\n",
      "Theoretical: \n",
      " [[3]\n",
      " [6]]\n"
     ]
    }
   ],
   "source": [
    "print(\"Autograd: \\n\", grad_foo(x,y,ӏ))\n",
    "print(\"Theoretical: \\n\", np.array([[3], [6]]))"
   ]
  },
  {
   "cell_type": "markdown",
   "metadata": {},
   "source": [
    "Problem 2"
   ]
  },
  {
   "cell_type": "code",
   "execution_count": 7,
   "metadata": {
    "execution": {
     "iopub.execute_input": "2025-01-17T20:40:56.961499Z",
     "iopub.status.busy": "2025-01-17T20:40:56.961342Z",
     "iopub.status.idle": "2025-01-17T20:40:56.963425Z",
     "shell.execute_reply": "2025-01-17T20:40:56.963173Z"
    }
   },
   "outputs": [],
   "source": [
    "A = np.array([\t[2, 1], \n",
    "\t\t\t\t[1, 1]])\n",
    "def f(x, A):\n",
    "\treturn x.T@A@x"
   ]
  },
  {
   "cell_type": "code",
   "execution_count": 8,
   "metadata": {
    "execution": {
     "iopub.execute_input": "2025-01-17T20:40:56.964877Z",
     "iopub.status.busy": "2025-01-17T20:40:56.964693Z",
     "iopub.status.idle": "2025-01-17T20:40:56.966484Z",
     "shell.execute_reply": "2025-01-17T20:40:56.966201Z"
    }
   },
   "outputs": [],
   "source": [
    "def ߜf(x, A):\n",
    "\treturn 2*A@x"
   ]
  },
  {
   "cell_type": "code",
   "execution_count": 9,
   "metadata": {
    "execution": {
     "iopub.execute_input": "2025-01-17T20:40:56.967664Z",
     "iopub.status.busy": "2025-01-17T20:40:56.967502Z",
     "iopub.status.idle": "2025-01-17T20:40:56.969088Z",
     "shell.execute_reply": "2025-01-17T20:40:56.968838Z"
    }
   },
   "outputs": [],
   "source": [
    "grad_foo = grad(f)"
   ]
  },
  {
   "cell_type": "code",
   "execution_count": 10,
   "metadata": {
    "execution": {
     "iopub.execute_input": "2025-01-17T20:40:56.970379Z",
     "iopub.status.busy": "2025-01-17T20:40:56.970170Z",
     "iopub.status.idle": "2025-01-17T20:40:56.972598Z",
     "shell.execute_reply": "2025-01-17T20:40:56.972306Z"
    }
   },
   "outputs": [
    {
     "name": "stdout",
     "output_type": "stream",
     "text": [
      "Autograd: \n",
      " [[4.98936464]\n",
      " [3.40660034]]\n",
      "Theoretical: \n",
      " [[4.98936464]\n",
      " [3.40660034]]\n"
     ]
    }
   ],
   "source": [
    "print(\"Autograd: \\n\", grad_foo(x, A))\n",
    "print(\"Theoretical: \\n\", ߜf(x, A))"
   ]
  },
  {
   "cell_type": "markdown",
   "metadata": {},
   "source": [
    "Problem 3"
   ]
  },
  {
   "cell_type": "code",
   "execution_count": 11,
   "metadata": {
    "execution": {
     "iopub.execute_input": "2025-01-17T20:40:56.973816Z",
     "iopub.status.busy": "2025-01-17T20:40:56.973662Z",
     "iopub.status.idle": "2025-01-17T20:40:56.975437Z",
     "shell.execute_reply": "2025-01-17T20:40:56.975207Z"
    }
   },
   "outputs": [],
   "source": [
    "A = np.array([\t[4, 0], \n",
    "\t\t\t\t[1, 1]])\n",
    "def f(x, A):\n",
    "    return exp(x.T@A@x)"
   ]
  },
  {
   "cell_type": "code",
   "execution_count": 12,
   "metadata": {
    "execution": {
     "iopub.execute_input": "2025-01-17T20:40:56.976593Z",
     "iopub.status.busy": "2025-01-17T20:40:56.976435Z",
     "iopub.status.idle": "2025-01-17T20:40:56.978092Z",
     "shell.execute_reply": "2025-01-17T20:40:56.977862Z"
    }
   },
   "outputs": [],
   "source": [
    "def ߜf(x, A):\n",
    "\tv = (A + A.T)@x\n",
    "\treturn f(x,A)*v"
   ]
  },
  {
   "cell_type": "code",
   "execution_count": 13,
   "metadata": {
    "execution": {
     "iopub.execute_input": "2025-01-17T20:40:56.979266Z",
     "iopub.status.busy": "2025-01-17T20:40:56.979057Z",
     "iopub.status.idle": "2025-01-17T20:40:56.981202Z",
     "shell.execute_reply": "2025-01-17T20:40:56.980966Z"
    }
   },
   "outputs": [
    {
     "name": "stdout",
     "output_type": "stream",
     "text": [
      "Autograd: \n",
      " [[419.24061831]\n",
      " [151.375043  ]]\n",
      "Theoretical: \n",
      " [[419.24061831]\n",
      " [151.375043  ]]\n"
     ]
    }
   ],
   "source": [
    "grad_foo = grad(f)\n",
    "print(\"Autograd: \\n\", grad_foo(x, A))\n",
    "print(\"Theoretical: \\n\", ߜf(x, A))"
   ]
  },
  {
   "cell_type": "markdown",
   "metadata": {},
   "source": [
    "Problem 4"
   ]
  },
  {
   "cell_type": "code",
   "execution_count": 14,
   "metadata": {
    "execution": {
     "iopub.execute_input": "2025-01-17T20:40:56.982474Z",
     "iopub.status.busy": "2025-01-17T20:40:56.982256Z",
     "iopub.status.idle": "2025-01-17T20:40:56.984088Z",
     "shell.execute_reply": "2025-01-17T20:40:56.983838Z"
    }
   },
   "outputs": [],
   "source": [
    "A = np.array([\t[4, 0], \n",
    "\t\t\t\t[1, 1]])\n",
    "def eˉᵂˣ(w,x):\n",
    "\treturn exp(w.T@x)"
   ]
  },
  {
   "cell_type": "code",
   "execution_count": 15,
   "metadata": {
    "execution": {
     "iopub.execute_input": "2025-01-17T20:40:56.985264Z",
     "iopub.status.busy": "2025-01-17T20:40:56.985118Z",
     "iopub.status.idle": "2025-01-17T20:40:56.986731Z",
     "shell.execute_reply": "2025-01-17T20:40:56.986481Z"
    }
   },
   "outputs": [],
   "source": [
    "def f(x, w):\n",
    "    return inv(1 + eˉᵂˣ(w,x))"
   ]
  },
  {
   "cell_type": "code",
   "execution_count": 16,
   "metadata": {
    "execution": {
     "iopub.execute_input": "2025-01-17T20:40:56.987988Z",
     "iopub.status.busy": "2025-01-17T20:40:56.987804Z",
     "iopub.status.idle": "2025-01-17T20:40:56.989496Z",
     "shell.execute_reply": "2025-01-17T20:40:56.989278Z"
    }
   },
   "outputs": [],
   "source": [
    "def ߜf(x, w):\n",
    "\treturn (eˉᵂˣ(w,x)/(1 + eˉᵂˣ(w,x))**2)*w"
   ]
  },
  {
   "cell_type": "code",
   "execution_count": 17,
   "metadata": {
    "execution": {
     "iopub.execute_input": "2025-01-17T20:40:56.990804Z",
     "iopub.status.busy": "2025-01-17T20:40:56.990615Z",
     "iopub.status.idle": "2025-01-17T20:40:56.992858Z",
     "shell.execute_reply": "2025-01-17T20:40:56.992600Z"
    }
   },
   "outputs": [
    {
     "name": "stdout",
     "output_type": "stream",
     "text": [
      "Autograd: \n",
      " [[-1.86602610e-05]\n",
      " [-2.13260126e-05]]\n",
      "Theoretical: \n",
      " [[1.86602610e-05]\n",
      " [2.13260126e-05]]\n"
     ]
    }
   ],
   "source": [
    "grad_foo = grad(f)\n",
    "print(\"Autograd: \\n\", grad_foo(x, w))\n",
    "print(\"Theoretical: \\n\", ߜf(x, w))"
   ]
  }
 ],
 "metadata": {
  "kernelspec": {
   "display_name": "Python 3",
   "language": "python",
   "name": "python3"
  },
  "language_info": {
   "codemirror_mode": {
    "name": "ipython",
    "version": 3
   },
   "file_extension": ".py",
   "mimetype": "text/x-python",
   "name": "python",
   "nbconvert_exporter": "python",
   "pygments_lexer": "ipython3",
   "version": "3.10.12"
  }
 },
 "nbformat": 4,
 "nbformat_minor": 2
}
