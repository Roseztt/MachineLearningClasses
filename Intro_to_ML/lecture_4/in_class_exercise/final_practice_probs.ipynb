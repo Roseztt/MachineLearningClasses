{
 "cells": [
  {
   "cell_type": "code",
   "execution_count": 1,
   "metadata": {
    "execution": {
     "iopub.execute_input": "2025-01-17T18:01:20.743742Z",
     "iopub.status.busy": "2025-01-17T18:01:20.743541Z",
     "iopub.status.idle": "2025-01-17T18:01:20.745657Z",
     "shell.execute_reply": "2025-01-17T18:01:20.745322Z"
    }
   },
   "outputs": [],
   "source": [
    "#!/usr/bin/env python"
   ]
  },
  {
   "cell_type": "code",
   "execution_count": 2,
   "metadata": {
    "execution": {
     "iopub.execute_input": "2025-01-17T18:01:20.747558Z",
     "iopub.status.busy": "2025-01-17T18:01:20.747388Z",
     "iopub.status.idle": "2025-01-17T18:01:20.799580Z",
     "shell.execute_reply": "2025-01-17T18:01:20.799108Z"
    }
   },
   "outputs": [],
   "source": [
    "import autograd.numpy as np\n",
    "from autograd import grad"
   ]
  },
  {
   "cell_type": "code",
   "execution_count": 3,
   "metadata": {
    "execution": {
     "iopub.execute_input": "2025-01-17T18:01:20.802140Z",
     "iopub.status.busy": "2025-01-17T18:01:20.801787Z",
     "iopub.status.idle": "2025-01-17T18:01:20.804957Z",
     "shell.execute_reply": "2025-01-17T18:01:20.804575Z"
    }
   },
   "outputs": [],
   "source": [
    "y = np.array([[2], [5]])\n",
    "ӏ = np.array([[1], [1]])\n",
    "x = np.random.random((2, 1))\n",
    "w = np.array([[7], [8]])"
   ]
  },
  {
   "cell_type": "markdown",
   "metadata": {},
   "source": [
    "Problem 1"
   ]
  },
  {
   "cell_type": "code",
   "execution_count": 4,
   "metadata": {
    "execution": {
     "iopub.execute_input": "2025-01-17T18:01:20.807069Z",
     "iopub.status.busy": "2025-01-17T18:01:20.806783Z",
     "iopub.status.idle": "2025-01-17T18:01:20.809328Z",
     "shell.execute_reply": "2025-01-17T18:01:20.808970Z"
    }
   },
   "outputs": [],
   "source": [
    "def f(x,y,ӏ):\n",
    "    return np.dot(np.transpose(y), x) + np.dot(np.transpose(x), ӏ)"
   ]
  },
  {
   "cell_type": "code",
   "execution_count": 5,
   "metadata": {
    "execution": {
     "iopub.execute_input": "2025-01-17T18:01:20.812349Z",
     "iopub.status.busy": "2025-01-17T18:01:20.812020Z",
     "iopub.status.idle": "2025-01-17T18:01:20.814342Z",
     "shell.execute_reply": "2025-01-17T18:01:20.813972Z"
    }
   },
   "outputs": [],
   "source": [
    "grad_foo = grad(f)"
   ]
  },
  {
   "cell_type": "code",
   "execution_count": 6,
   "metadata": {
    "execution": {
     "iopub.execute_input": "2025-01-17T18:01:20.817679Z",
     "iopub.status.busy": "2025-01-17T18:01:20.815975Z",
     "iopub.status.idle": "2025-01-17T18:01:20.820971Z",
     "shell.execute_reply": "2025-01-17T18:01:20.820618Z"
    }
   },
   "outputs": [
    {
     "name": "stdout",
     "output_type": "stream",
     "text": [
      "Autograd: \n",
      " [[3.]\n",
      " [6.]]\n",
      "Theoretical: \n",
      " [[3]\n",
      " [6]]\n"
     ]
    }
   ],
   "source": [
    "print(\"Autograd: \\n\", grad_foo(x,y,ӏ))\n",
    "print(\"Theoretical: \\n\", np.array([[3], [6]]))"
   ]
  },
  {
   "cell_type": "markdown",
   "metadata": {},
   "source": [
    "Problem 2"
   ]
  },
  {
   "cell_type": "code",
   "execution_count": 7,
   "metadata": {
    "execution": {
     "iopub.execute_input": "2025-01-17T18:01:20.846041Z",
     "iopub.status.busy": "2025-01-17T18:01:20.845779Z",
     "iopub.status.idle": "2025-01-17T18:01:20.848824Z",
     "shell.execute_reply": "2025-01-17T18:01:20.848428Z"
    }
   },
   "outputs": [],
   "source": [
    "A = np.array([\t[2, 1], \n",
    "\t\t\t\t[1, 1]])\n",
    "def f(x, A):\n",
    "    return np.dot(np.dot(np.transpose(x), A), x)"
   ]
  },
  {
   "cell_type": "code",
   "execution_count": 8,
   "metadata": {
    "execution": {
     "iopub.execute_input": "2025-01-17T18:01:20.850280Z",
     "iopub.status.busy": "2025-01-17T18:01:20.850163Z",
     "iopub.status.idle": "2025-01-17T18:01:20.852089Z",
     "shell.execute_reply": "2025-01-17T18:01:20.851834Z"
    }
   },
   "outputs": [],
   "source": [
    "def ߜf(x, A):\n",
    "\treturn 2*A.dot(x)"
   ]
  },
  {
   "cell_type": "code",
   "execution_count": 9,
   "metadata": {
    "execution": {
     "iopub.execute_input": "2025-01-17T18:01:20.853249Z",
     "iopub.status.busy": "2025-01-17T18:01:20.853104Z",
     "iopub.status.idle": "2025-01-17T18:01:20.854780Z",
     "shell.execute_reply": "2025-01-17T18:01:20.854533Z"
    }
   },
   "outputs": [],
   "source": [
    "grad_foo = grad(f)"
   ]
  },
  {
   "cell_type": "code",
   "execution_count": 10,
   "metadata": {
    "execution": {
     "iopub.execute_input": "2025-01-17T18:01:20.856028Z",
     "iopub.status.busy": "2025-01-17T18:01:20.855909Z",
     "iopub.status.idle": "2025-01-17T18:01:20.858151Z",
     "shell.execute_reply": "2025-01-17T18:01:20.857920Z"
    }
   },
   "outputs": [
    {
     "name": "stdout",
     "output_type": "stream",
     "text": [
      "Autograd: \n",
      " [[2.48787638]\n",
      " [1.45698188]]\n",
      "Theoretical: \n",
      " [[2.48787638]\n",
      " [1.45698188]]\n"
     ]
    }
   ],
   "source": [
    "print(\"Autograd: \\n\", grad_foo(x, A))\n",
    "print(\"Theoretical: \\n\", ߜf(x, A))"
   ]
  },
  {
   "cell_type": "markdown",
   "metadata": {},
   "source": [
    "Problem 3"
   ]
  },
  {
   "cell_type": "code",
   "execution_count": 11,
   "metadata": {
    "execution": {
     "iopub.execute_input": "2025-01-17T18:01:20.859324Z",
     "iopub.status.busy": "2025-01-17T18:01:20.859202Z",
     "iopub.status.idle": "2025-01-17T18:01:20.861032Z",
     "shell.execute_reply": "2025-01-17T18:01:20.860795Z"
    }
   },
   "outputs": [],
   "source": [
    "A = np.array([\t[4, 0], \n",
    "\t\t\t\t[1, 1]])\n",
    "def f(x, A):\n",
    "    return np.exp(np.dot(np.dot(np.transpose(x), A), x))"
   ]
  },
  {
   "cell_type": "code",
   "execution_count": 12,
   "metadata": {
    "execution": {
     "iopub.execute_input": "2025-01-17T18:01:20.862195Z",
     "iopub.status.busy": "2025-01-17T18:01:20.862011Z",
     "iopub.status.idle": "2025-01-17T18:01:20.863760Z",
     "shell.execute_reply": "2025-01-17T18:01:20.863535Z"
    }
   },
   "outputs": [],
   "source": [
    "def ߜf(x, A):\n",
    "\tv = (A + np.transpose(A)).dot(x)\n",
    "\treturn f(x,A)*v"
   ]
  },
  {
   "cell_type": "code",
   "execution_count": 13,
   "metadata": {
    "execution": {
     "iopub.execute_input": "2025-01-17T18:01:20.864995Z",
     "iopub.status.busy": "2025-01-17T18:01:20.864838Z",
     "iopub.status.idle": "2025-01-17T18:01:20.867063Z",
     "shell.execute_reply": "2025-01-17T18:01:20.866797Z"
    }
   },
   "outputs": [
    {
     "name": "stdout",
     "output_type": "stream",
     "text": [
      "Autograd: \n",
      " [[14.65878053]\n",
      " [ 3.18260398]]\n",
      "Theoretical: \n",
      " [[14.65878053]\n",
      " [ 3.18260398]]\n"
     ]
    }
   ],
   "source": [
    "grad_foo = grad(f)\n",
    "print(\"Autograd: \\n\", grad_foo(x, A))\n",
    "print(\"Theoretical: \\n\", ߜf(x, A))"
   ]
  },
  {
   "cell_type": "markdown",
   "metadata": {},
   "source": [
    "Problem 4"
   ]
  },
  {
   "cell_type": "code",
   "execution_count": 14,
   "metadata": {
    "execution": {
     "iopub.execute_input": "2025-01-17T18:01:20.868466Z",
     "iopub.status.busy": "2025-01-17T18:01:20.868280Z",
     "iopub.status.idle": "2025-01-17T18:01:20.870198Z",
     "shell.execute_reply": "2025-01-17T18:01:20.869964Z"
    }
   },
   "outputs": [],
   "source": [
    "A = np.array([\t[4, 0], \n",
    "\t\t\t\t[1, 1]])\n",
    "def eˉᵂˣ(w,x):\n",
    "\treturn np.exp(np.dot(np.transpose(w), x))"
   ]
  },
  {
   "cell_type": "code",
   "execution_count": 15,
   "metadata": {
    "execution": {
     "iopub.execute_input": "2025-01-17T18:01:20.871486Z",
     "iopub.status.busy": "2025-01-17T18:01:20.871363Z",
     "iopub.status.idle": "2025-01-17T18:01:20.873124Z",
     "shell.execute_reply": "2025-01-17T18:01:20.872851Z"
    }
   },
   "outputs": [],
   "source": [
    "def f(x, w):\n",
    "    return np.linalg.inv(1 + eˉᵂˣ(w,x))"
   ]
  },
  {
   "cell_type": "code",
   "execution_count": 16,
   "metadata": {
    "execution": {
     "iopub.execute_input": "2025-01-17T18:01:20.874430Z",
     "iopub.status.busy": "2025-01-17T18:01:20.874209Z",
     "iopub.status.idle": "2025-01-17T18:01:20.876039Z",
     "shell.execute_reply": "2025-01-17T18:01:20.875763Z"
    }
   },
   "outputs": [],
   "source": [
    "def ߜf(x, w):\n",
    "\treturn (eˉᵂˣ(w,x)/(1 + eˉᵂˣ(w,x))**2)*w"
   ]
  },
  {
   "cell_type": "code",
   "execution_count": 17,
   "metadata": {
    "execution": {
     "iopub.execute_input": "2025-01-17T18:01:20.877210Z",
     "iopub.status.busy": "2025-01-17T18:01:20.877066Z",
     "iopub.status.idle": "2025-01-17T18:01:20.879368Z",
     "shell.execute_reply": "2025-01-17T18:01:20.879131Z"
    }
   },
   "outputs": [
    {
     "name": "stdout",
     "output_type": "stream",
     "text": [
      "Autograd: \n",
      " [[-0.03417007]\n",
      " [-0.0390515 ]]\n",
      "Theoretical: \n",
      " [[0.03417007]\n",
      " [0.0390515 ]]\n"
     ]
    }
   ],
   "source": [
    "grad_foo = grad(f)\n",
    "print(\"Autograd: \\n\", grad_foo(x, w))\n",
    "print(\"Theoretical: \\n\", ߜf(x, w))"
   ]
  }
 ],
 "metadata": {
  "kernelspec": {
   "display_name": "Python 3",
   "language": "python",
   "name": "python3"
  },
  "language_info": {
   "codemirror_mode": {
    "name": "ipython",
    "version": 3
   },
   "file_extension": ".py",
   "mimetype": "text/x-python",
   "name": "python",
   "nbconvert_exporter": "python",
   "pygments_lexer": "ipython3",
   "version": "3.10.12"
  }
 },
 "nbformat": 4,
 "nbformat_minor": 2
}
