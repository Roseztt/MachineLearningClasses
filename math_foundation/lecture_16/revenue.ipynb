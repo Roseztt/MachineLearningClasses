{
 "cells": [
  {
   "cell_type": "code",
   "execution_count": 1,
   "metadata": {
    "execution": {
     "iopub.execute_input": "2025-05-21T13:27:30.789414Z",
     "iopub.status.busy": "2025-05-21T13:27:30.789010Z",
     "iopub.status.idle": "2025-05-21T13:27:30.924196Z",
     "shell.execute_reply": "2025-05-21T13:27:30.923493Z"
    }
   },
   "outputs": [],
   "source": [
    "#!/usr/bin/env python\n",
    "import numpy as np\n",
    "from numpy import array"
   ]
  },
  {
   "cell_type": "markdown",
   "metadata": {},
   "source": [
    "Define Q, c, and d"
   ]
  },
  {
   "cell_type": "code",
   "execution_count": 2,
   "metadata": {
    "execution": {
     "iopub.execute_input": "2025-05-21T13:27:30.927875Z",
     "iopub.status.busy": "2025-05-21T13:27:30.927702Z",
     "iopub.status.idle": "2025-05-21T13:27:30.930660Z",
     "shell.execute_reply": "2025-05-21T13:27:30.929999Z"
    }
   },
   "outputs": [],
   "source": [
    "Q = array([[2, 1],\n",
    "\t \t  [1, 3]])\n",
    "c = array([8, 10])\n",
    "d = 5"
   ]
  },
  {
   "cell_type": "markdown",
   "metadata": {},
   "source": [
    "Gradient of R(x): ∇R(x) = -Qx + c"
   ]
  },
  {
   "cell_type": "code",
   "execution_count": 3,
   "metadata": {
    "execution": {
     "iopub.execute_input": "2025-05-21T13:27:30.934173Z",
     "iopub.status.busy": "2025-05-21T13:27:30.933999Z",
     "iopub.status.idle": "2025-05-21T13:27:30.937141Z",
     "shell.execute_reply": "2025-05-21T13:27:30.936496Z"
    }
   },
   "outputs": [],
   "source": [
    "def grad_R(a, p):\n",
    "\tߜp = -2*p - a + 8\n",
    "\tߜa = -p - 3*a + 10\n",
    "\treturn [ߜp, ߜa]"
   ]
  },
  {
   "cell_type": "markdown",
   "metadata": {},
   "source": [
    "Gradient ascent"
   ]
  },
  {
   "cell_type": "code",
   "execution_count": 4,
   "metadata": {
    "execution": {
     "iopub.execute_input": "2025-05-21T13:27:30.940126Z",
     "iopub.status.busy": "2025-05-21T13:27:30.939955Z",
     "iopub.status.idle": "2025-05-21T13:27:30.944248Z",
     "shell.execute_reply": "2025-05-21T13:27:30.943542Z"
    }
   },
   "outputs": [],
   "source": [
    "def optimize_revenue(a = 1, p = 1):\n",
    "\twhile True:\n",
    "\t\t[ߜp, ߜa] = grad_R(a, p)\n",
    "\t\tif ߜp > 0: p = p + 0.001\n",
    "\t\telif ߜp < 0: p = p - 0.001\n",
    "#\n",
    "\t\tif ߜa > 0: a = a + 0.001\n",
    "\t\telif ߜa < 0: a = a - 0.001\n",
    "\t\t#print('a = %.3f, p = %.3f, ߜa = %.3f, ߜp = %.3f'%(a, p, ߜa, ߜp))\n",
    "\t\tif np.all(array([ߜp, ߜa]) <= 0):\n",
    "\t\t\tbreak\n",
    "\treturn [a,p]"
   ]
  },
  {
   "cell_type": "markdown",
   "metadata": {},
   "source": [
    "Run"
   ]
  },
  {
   "cell_type": "code",
   "execution_count": 5,
   "metadata": {
    "execution": {
     "iopub.execute_input": "2025-05-21T13:27:30.947369Z",
     "iopub.status.busy": "2025-05-21T13:27:30.947156Z",
     "iopub.status.idle": "2025-05-21T13:27:30.965861Z",
     "shell.execute_reply": "2025-05-21T13:27:30.965167Z"
    }
   },
   "outputs": [],
   "source": [
    "optimal_advertising, optimal_pricing = optimize_revenue()"
   ]
  },
  {
   "cell_type": "code",
   "execution_count": 6,
   "metadata": {
    "execution": {
     "iopub.execute_input": "2025-05-21T13:27:30.969450Z",
     "iopub.status.busy": "2025-05-21T13:27:30.969278Z",
     "iopub.status.idle": "2025-05-21T13:27:30.972913Z",
     "shell.execute_reply": "2025-05-21T13:27:30.972343Z"
    }
   },
   "outputs": [
    {
     "name": "stdout",
     "output_type": "stream",
     "text": [
      "Optimal p = 2.800\n",
      "Optimal a = 2.400\n"
     ]
    }
   ],
   "source": [
    "print(f\"Optimal p = %.3f\"%optimal_pricing)\n",
    "print(f\"Optimal a = %.3f\"%optimal_advertising)"
   ]
  }
 ],
 "metadata": {
  "kernelspec": {
   "display_name": "Python 3",
   "language": "python",
   "name": "python3"
  },
  "language_info": {
   "codemirror_mode": {
    "name": "ipython",
    "version": 3
   },
   "file_extension": ".py",
   "mimetype": "text/x-python",
   "name": "python",
   "nbconvert_exporter": "python",
   "pygments_lexer": "ipython3",
   "version": "3.8.10"
  }
 },
 "nbformat": 4,
 "nbformat_minor": 2
}
