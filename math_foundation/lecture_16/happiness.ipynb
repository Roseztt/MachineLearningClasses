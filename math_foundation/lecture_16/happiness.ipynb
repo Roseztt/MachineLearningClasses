{
 "cells": [
  {
   "cell_type": "code",
   "execution_count": 1,
   "metadata": {
    "execution": {
     "iopub.execute_input": "2025-05-21T14:14:45.311800Z",
     "iopub.status.busy": "2025-05-21T14:14:45.311368Z",
     "iopub.status.idle": "2025-05-21T14:14:45.442620Z",
     "shell.execute_reply": "2025-05-21T14:14:45.441959Z"
    }
   },
   "outputs": [],
   "source": [
    "#!/usr/bin/env python\n",
    "import numpy as np\n",
    "from numpy import array"
   ]
  },
  {
   "cell_type": "markdown",
   "metadata": {},
   "source": [
    "Define Q, c, and d"
   ]
  },
  {
   "cell_type": "code",
   "execution_count": 2,
   "metadata": {
    "execution": {
     "iopub.execute_input": "2025-05-21T14:14:45.445585Z",
     "iopub.status.busy": "2025-05-21T14:14:45.445422Z",
     "iopub.status.idle": "2025-05-21T14:14:45.448424Z",
     "shell.execute_reply": "2025-05-21T14:14:45.447939Z"
    }
   },
   "outputs": [],
   "source": [
    "Q = array([[2,   1,   0.8],\n",
    "           [1,   3,   0.6],\n",
    "           [0.8, 0.6, 2.5]])\n",
    "c = array([7, 5, 10])\n",
    "d = 3"
   ]
  },
  {
   "cell_type": "markdown",
   "metadata": {},
   "source": [
    "Gradient of F(x): ߜF(x) = -Qx + c"
   ]
  },
  {
   "cell_type": "code",
   "execution_count": 3,
   "metadata": {
    "execution": {
     "iopub.execute_input": "2025-05-21T14:14:45.451661Z",
     "iopub.status.busy": "2025-05-21T14:14:45.451498Z",
     "iopub.status.idle": "2025-05-21T14:14:45.454612Z",
     "shell.execute_reply": "2025-05-21T14:14:45.454140Z"
    }
   },
   "outputs": [],
   "source": [
    "def ߜF(f, r, s):\n",
    "    ߜf = -2*f - r - 0.8*s + 7\n",
    "    ߜr = -f - 3*r - 0.6*s + 5\n",
    "    ߜs = -0.8*f - 0.6*r - 2.5*s + 10\n",
    "    return [ߜf, ߜr, ߜs]"
   ]
  },
  {
   "cell_type": "code",
   "execution_count": 4,
   "metadata": {
    "execution": {
     "iopub.execute_input": "2025-05-21T14:14:45.457652Z",
     "iopub.status.busy": "2025-05-21T14:14:45.457448Z",
     "iopub.status.idle": "2025-05-21T14:14:45.461223Z",
     "shell.execute_reply": "2025-05-21T14:14:45.460746Z"
    }
   },
   "outputs": [],
   "source": [
    "def optimize_fulfillment(f=1.0, r=1.0, s=1.0, step=0.0001):\n",
    "    while True:\n",
    "        [ߜf, ߜr, ߜs] = ߜF(f, r, s)\n",
    "\n",
    "        # Update each variable in the direction of its gradient\n",
    "\t\t# note that sign(+) = 1 and sign(-) = -1\n",
    "        f += step * np.sign(ߜf)\n",
    "        r += step * np.sign(ߜr)\n",
    "        s += step * np.sign(ߜs)\n",
    "\n",
    "        #print('f = %.3f, r = %.3f, s = %.3f, ߜf = %.3f, ߜr = %.3f, ߜs = %.3f'%(f, r, s, ߜf, ߜr, ߜs))\n",
    "        # Stop when all partials are non-positive\n",
    "        if np.all(array([ߜf, ߜr, ߜs]) <= 0):\n",
    "            break\n",
    "    return [f, r, s]"
   ]
  },
  {
   "cell_type": "markdown",
   "metadata": {},
   "source": [
    "Run"
   ]
  },
  {
   "cell_type": "code",
   "execution_count": 5,
   "metadata": {
    "execution": {
     "iopub.execute_input": "2025-05-21T14:14:45.464209Z",
     "iopub.status.busy": "2025-05-21T14:14:45.464050Z",
     "iopub.status.idle": "2025-05-21T14:14:45.715160Z",
     "shell.execute_reply": "2025-05-21T14:14:45.714652Z"
    }
   },
   "outputs": [],
   "source": [
    "optimal_f, optimal_r, optimal_s = optimize_fulfillment()"
   ]
  },
  {
   "cell_type": "markdown",
   "metadata": {},
   "source": [
    "Print results"
   ]
  },
  {
   "cell_type": "code",
   "execution_count": 6,
   "metadata": {
    "execution": {
     "iopub.execute_input": "2025-05-21T14:14:45.719353Z",
     "iopub.status.busy": "2025-05-21T14:14:45.719191Z",
     "iopub.status.idle": "2025-05-21T14:14:45.722887Z",
     "shell.execute_reply": "2025-05-21T14:14:45.722335Z"
    }
   },
   "outputs": [
    {
     "name": "stdout",
     "output_type": "stream",
     "text": [
      "Optimal f (friend time) = 2.022\n",
      "Optimal r (reflection) = 0.338\n",
      "Optimal s (school work) = 3.272\n"
     ]
    }
   ],
   "source": [
    "print(f\"Optimal f (friend time) = {optimal_f:.3f}\")\n",
    "print(f\"Optimal r (reflection) = {optimal_r:.3f}\")\n",
    "print(f\"Optimal s (school work) = {optimal_s:.3f}\")"
   ]
  }
 ],
 "metadata": {
  "kernelspec": {
   "display_name": "Python 3",
   "language": "python",
   "name": "python3"
  },
  "language_info": {
   "codemirror_mode": {
    "name": "ipython",
    "version": 3
   },
   "file_extension": ".py",
   "mimetype": "text/x-python",
   "name": "python",
   "nbconvert_exporter": "python",
   "pygments_lexer": "ipython3",
   "version": "3.8.10"
  }
 },
 "nbformat": 4,
 "nbformat_minor": 2
}
