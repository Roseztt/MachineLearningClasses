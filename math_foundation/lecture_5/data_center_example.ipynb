{
 "cells": [
  {
   "cell_type": "code",
   "execution_count": 1,
   "metadata": {
    "execution": {
     "iopub.execute_input": "2025-09-09T16:16:16.860230Z",
     "iopub.status.busy": "2025-09-09T16:16:16.859472Z",
     "iopub.status.idle": "2025-09-09T16:16:17.068785Z",
     "shell.execute_reply": "2025-09-09T16:16:17.068377Z"
    }
   },
   "outputs": [],
   "source": [
    "#!/usr/bin/env python\n",
    "import numpy as np\n",
    "import matplotlib.pyplot as plt"
   ]
  },
  {
   "cell_type": "markdown",
   "metadata": {},
   "source": [
    "Step 1: Define 4 points in 2D"
   ]
  },
  {
   "cell_type": "code",
   "execution_count": 2,
   "metadata": {
    "execution": {
     "iopub.execute_input": "2025-09-09T16:16:17.070520Z",
     "iopub.status.busy": "2025-09-09T16:16:17.070384Z",
     "iopub.status.idle": "2025-09-09T16:16:17.072287Z",
     "shell.execute_reply": "2025-09-09T16:16:17.072058Z"
    }
   },
   "outputs": [],
   "source": [
    "X = np.array([\n",
    "\t[2, 3],\n",
    "\t[4, 7],\n",
    "\t[5, 1],\n",
    "\t[6, 4]\n",
    "], dtype=float)"
   ]
  },
  {
   "cell_type": "markdown",
   "metadata": {},
   "source": [
    "Step 2: Number of points"
   ]
  },
  {
   "cell_type": "code",
   "execution_count": 3,
   "metadata": {
    "execution": {
     "iopub.execute_input": "2025-09-09T16:16:17.073693Z",
     "iopub.status.busy": "2025-09-09T16:16:17.073475Z",
     "iopub.status.idle": "2025-09-09T16:16:17.075051Z",
     "shell.execute_reply": "2025-09-09T16:16:17.074824Z"
    }
   },
   "outputs": [],
   "source": [
    "n = X.shape[0]"
   ]
  },
  {
   "cell_type": "markdown",
   "metadata": {},
   "source": [
    "Step 3: Build the centering matrix C = I - (1/n) * 11ᵀ"
   ]
  },
  {
   "cell_type": "code",
   "execution_count": 4,
   "metadata": {
    "execution": {
     "iopub.execute_input": "2025-09-09T16:16:17.076234Z",
     "iopub.status.busy": "2025-09-09T16:16:17.076053Z",
     "iopub.status.idle": "2025-09-09T16:16:17.077762Z",
     "shell.execute_reply": "2025-09-09T16:16:17.077539Z"
    }
   },
   "outputs": [],
   "source": [
    "I = np.eye(n)\n",
    "one_matrix = np.ones((n, n))\n",
    "C = I - (1/n) * one_matrix"
   ]
  },
  {
   "cell_type": "markdown",
   "metadata": {},
   "source": [
    "Step 4: Apply centering"
   ]
  },
  {
   "cell_type": "code",
   "execution_count": 5,
   "metadata": {
    "execution": {
     "iopub.execute_input": "2025-09-09T16:16:17.078989Z",
     "iopub.status.busy": "2025-09-09T16:16:17.078789Z",
     "iopub.status.idle": "2025-09-09T16:16:17.080358Z",
     "shell.execute_reply": "2025-09-09T16:16:17.080131Z"
    }
   },
   "outputs": [],
   "source": [
    "X_centered = C @ X"
   ]
  },
  {
   "cell_type": "markdown",
   "metadata": {},
   "source": [
    "Step 5: Plot before and after"
   ]
  },
  {
   "cell_type": "code",
   "execution_count": 6,
   "metadata": {
    "execution": {
     "iopub.execute_input": "2025-09-09T16:16:17.081512Z",
     "iopub.status.busy": "2025-09-09T16:16:17.081339Z",
     "iopub.status.idle": "2025-09-09T16:16:17.088164Z",
     "shell.execute_reply": "2025-09-09T16:16:17.087936Z"
    }
   },
   "outputs": [
    {
     "data": {
      "text/plain": [
       "<Figure size 1000x500 with 0 Axes>"
      ]
     },
     "execution_count": 6,
     "metadata": {},
     "output_type": "execute_result"
    },
    {
     "data": {
      "text/plain": [
       "<Figure size 1000x500 with 0 Axes>"
      ]
     },
     "metadata": {},
     "output_type": "display_data"
    }
   ],
   "source": [
    "plt.figure(figsize=(10, 5))"
   ]
  },
  {
   "cell_type": "code",
   "execution_count": 7,
   "metadata": {
    "execution": {
     "iopub.execute_input": "2025-09-09T16:16:17.105419Z",
     "iopub.status.busy": "2025-09-09T16:16:17.105274Z",
     "iopub.status.idle": "2025-09-09T16:16:17.107406Z",
     "shell.execute_reply": "2025-09-09T16:16:17.107150Z"
    }
   },
   "outputs": [],
   "source": [
    "def plot_dots(img_id, label, X):\n",
    "\tplt.subplot(1, 2, img_id)\n",
    "\tplt.scatter(X[:, 0], X[:, 1], color='blue', s=80, label=label)"
   ]
  }
 ],
 "metadata": {
  "kernelspec": {
   "display_name": "Python 3",
   "language": "python",
   "name": "python3"
  },
  "language_info": {
   "codemirror_mode": {
    "name": "ipython",
    "version": 3
   },
   "file_extension": ".py",
   "mimetype": "text/x-python",
   "name": "python",
   "nbconvert_exporter": "python",
   "pygments_lexer": "ipython3",
   "version": "3.10.12"
  }
 },
 "nbformat": 4,
 "nbformat_minor": 2
}
