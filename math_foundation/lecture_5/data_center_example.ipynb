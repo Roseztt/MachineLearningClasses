{
 "cells": [
  {
   "cell_type": "code",
   "execution_count": 1,
   "metadata": {
    "execution": {
     "iopub.execute_input": "2025-09-09T16:18:07.185331Z",
     "iopub.status.busy": "2025-09-09T16:18:07.184687Z",
     "iopub.status.idle": "2025-09-09T16:18:07.394893Z",
     "shell.execute_reply": "2025-09-09T16:18:07.394547Z"
    }
   },
   "outputs": [],
   "source": [
    "#!/usr/bin/env python\n",
    "import numpy as np\n",
    "import matplotlib.pyplot as plt"
   ]
  },
  {
   "cell_type": "markdown",
   "metadata": {},
   "source": [
    "Step 1: Define 4 points in 2D"
   ]
  },
  {
   "cell_type": "code",
   "execution_count": 2,
   "metadata": {
    "execution": {
     "iopub.execute_input": "2025-09-09T16:18:07.396639Z",
     "iopub.status.busy": "2025-09-09T16:18:07.396468Z",
     "iopub.status.idle": "2025-09-09T16:18:07.398414Z",
     "shell.execute_reply": "2025-09-09T16:18:07.398185Z"
    }
   },
   "outputs": [],
   "source": [
    "X = np.array([\n",
    "\t[2, 3],\n",
    "\t[4, 7],\n",
    "\t[5, 1],\n",
    "\t[6, 4]\n",
    "], dtype=float)"
   ]
  },
  {
   "cell_type": "markdown",
   "metadata": {},
   "source": [
    "Step 2: Number of points"
   ]
  },
  {
   "cell_type": "code",
   "execution_count": 3,
   "metadata": {
    "execution": {
     "iopub.execute_input": "2025-09-09T16:18:07.399785Z",
     "iopub.status.busy": "2025-09-09T16:18:07.399673Z",
     "iopub.status.idle": "2025-09-09T16:18:07.401340Z",
     "shell.execute_reply": "2025-09-09T16:18:07.401108Z"
    }
   },
   "outputs": [],
   "source": [
    "n = X.shape[0]"
   ]
  },
  {
   "cell_type": "markdown",
   "metadata": {},
   "source": [
    "Step 3: Build the centering matrix C = I - (1/n) * 11ᵀ"
   ]
  },
  {
   "cell_type": "code",
   "execution_count": 4,
   "metadata": {
    "execution": {
     "iopub.execute_input": "2025-09-09T16:18:07.402697Z",
     "iopub.status.busy": "2025-09-09T16:18:07.402577Z",
     "iopub.status.idle": "2025-09-09T16:18:07.404352Z",
     "shell.execute_reply": "2025-09-09T16:18:07.404119Z"
    }
   },
   "outputs": [],
   "source": [
    "I = np.eye(n)\n",
    "one_matrix = np.ones((n, n))\n",
    "C = I - (1/n) * one_matrix"
   ]
  },
  {
   "cell_type": "markdown",
   "metadata": {},
   "source": [
    "Step 4: Apply centering"
   ]
  },
  {
   "cell_type": "code",
   "execution_count": 5,
   "metadata": {
    "execution": {
     "iopub.execute_input": "2025-09-09T16:18:07.405713Z",
     "iopub.status.busy": "2025-09-09T16:18:07.405524Z",
     "iopub.status.idle": "2025-09-09T16:18:07.407058Z",
     "shell.execute_reply": "2025-09-09T16:18:07.406827Z"
    }
   },
   "outputs": [],
   "source": [
    "X_centered = C @ X"
   ]
  },
  {
   "cell_type": "markdown",
   "metadata": {},
   "source": [
    "Step 5: Plot before and after"
   ]
  },
  {
   "cell_type": "code",
   "execution_count": 6,
   "metadata": {
    "execution": {
     "iopub.execute_input": "2025-09-09T16:18:07.408219Z",
     "iopub.status.busy": "2025-09-09T16:18:07.408035Z",
     "iopub.status.idle": "2025-09-09T16:18:07.414346Z",
     "shell.execute_reply": "2025-09-09T16:18:07.414104Z"
    }
   },
   "outputs": [
    {
     "data": {
      "text/plain": [
       "<Figure size 1000x500 with 0 Axes>"
      ]
     },
     "execution_count": 6,
     "metadata": {},
     "output_type": "execute_result"
    },
    {
     "data": {
      "text/plain": [
       "<Figure size 1000x500 with 0 Axes>"
      ]
     },
     "metadata": {},
     "output_type": "display_data"
    }
   ],
   "source": [
    "plt.figure(figsize=(10, 5))"
   ]
  },
  {
   "cell_type": "code",
   "execution_count": 7,
   "metadata": {
    "execution": {
     "iopub.execute_input": "2025-09-09T16:18:07.431197Z",
     "iopub.status.busy": "2025-09-09T16:18:07.431027Z",
     "iopub.status.idle": "2025-09-09T16:18:07.433347Z",
     "shell.execute_reply": "2025-09-09T16:18:07.433100Z"
    }
   },
   "outputs": [],
   "source": [
    "def plot_dots(img_id, label, X):\n",
    "\tplt.subplot(1, 2, img_id)\n",
    "\tplt.scatter(X[:, 0], X[:, 1], color='blue', s=80, label=label)"
   ]
  }
 ],
 "metadata": {
  "kernelspec": {
   "display_name": "Python 3",
   "language": "python",
   "name": "python3"
  },
  "language_info": {
   "codemirror_mode": {
    "name": "ipython",
    "version": 3
   },
   "file_extension": ".py",
   "mimetype": "text/x-python",
   "name": "python",
   "nbconvert_exporter": "python",
   "pygments_lexer": "ipython3",
   "version": "3.10.12"
  }
 },
 "nbformat": 4,
 "nbformat_minor": 2
}
