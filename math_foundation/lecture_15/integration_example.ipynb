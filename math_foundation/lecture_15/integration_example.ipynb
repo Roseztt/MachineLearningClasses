{
 "cells": [
  {
   "cell_type": "code",
   "execution_count": 1,
   "metadata": {
    "execution": {
     "iopub.execute_input": "2025-05-19T14:57:32.757043Z",
     "iopub.status.busy": "2025-05-19T14:57:32.756689Z",
     "iopub.status.idle": "2025-05-19T14:57:33.066268Z",
     "shell.execute_reply": "2025-05-19T14:57:33.065583Z"
    }
   },
   "outputs": [],
   "source": [
    "#!/usr/bin/env python\n",
    "from scipy.integrate import quad"
   ]
  },
  {
   "cell_type": "markdown",
   "metadata": {},
   "source": [
    "Problem 1: ∫₁² 3x² dx"
   ]
  },
  {
   "cell_type": "code",
   "execution_count": 2,
   "metadata": {
    "execution": {
     "iopub.execute_input": "2025-05-19T14:57:33.070692Z",
     "iopub.status.busy": "2025-05-19T14:57:33.070488Z",
     "iopub.status.idle": "2025-05-19T14:57:33.073687Z",
     "shell.execute_reply": "2025-05-19T14:57:33.073061Z"
    }
   },
   "outputs": [],
   "source": [
    "def f1(x):\n",
    "    return 3 * x**2"
   ]
  },
  {
   "cell_type": "code",
   "execution_count": 3,
   "metadata": {
    "execution": {
     "iopub.execute_input": "2025-05-19T14:57:33.077425Z",
     "iopub.status.busy": "2025-05-19T14:57:33.077225Z",
     "iopub.status.idle": "2025-05-19T14:57:33.080556Z",
     "shell.execute_reply": "2025-05-19T14:57:33.079868Z"
    }
   },
   "outputs": [],
   "source": [
    "A1, _ = quad(f1, 1, 2)"
   ]
  },
  {
   "cell_type": "markdown",
   "metadata": {},
   "source": [
    "Problem 2: ∫₀⁴ (4x³ - 2x² + x) dx"
   ]
  },
  {
   "cell_type": "code",
   "execution_count": 4,
   "metadata": {
    "execution": {
     "iopub.execute_input": "2025-05-19T14:57:33.083623Z",
     "iopub.status.busy": "2025-05-19T14:57:33.083428Z",
     "iopub.status.idle": "2025-05-19T14:57:33.086570Z",
     "shell.execute_reply": "2025-05-19T14:57:33.085809Z"
    }
   },
   "outputs": [],
   "source": [
    "def f2(x):\n",
    "    return 4 * x**3 - 2 * x**2 + x"
   ]
  },
  {
   "cell_type": "code",
   "execution_count": 5,
   "metadata": {
    "execution": {
     "iopub.execute_input": "2025-05-19T14:57:33.089770Z",
     "iopub.status.busy": "2025-05-19T14:57:33.089528Z",
     "iopub.status.idle": "2025-05-19T14:57:33.093216Z",
     "shell.execute_reply": "2025-05-19T14:57:33.092423Z"
    }
   },
   "outputs": [],
   "source": [
    "A2, _ = quad(f2, 0, 4)"
   ]
  },
  {
   "cell_type": "markdown",
   "metadata": {},
   "source": [
    "Problem 3: ∫₂⁵ 7 dx"
   ]
  },
  {
   "cell_type": "code",
   "execution_count": 6,
   "metadata": {
    "execution": {
     "iopub.execute_input": "2025-05-19T14:57:33.117451Z",
     "iopub.status.busy": "2025-05-19T14:57:33.117167Z",
     "iopub.status.idle": "2025-05-19T14:57:33.121651Z",
     "shell.execute_reply": "2025-05-19T14:57:33.120456Z"
    }
   },
   "outputs": [],
   "source": [
    "def f3(x):\n",
    "    return 7"
   ]
  },
  {
   "cell_type": "code",
   "execution_count": 7,
   "metadata": {
    "execution": {
     "iopub.execute_input": "2025-05-19T14:57:33.126605Z",
     "iopub.status.busy": "2025-05-19T14:57:33.126289Z",
     "iopub.status.idle": "2025-05-19T14:57:33.130902Z",
     "shell.execute_reply": "2025-05-19T14:57:33.129947Z"
    }
   },
   "outputs": [],
   "source": [
    "A3, _ = quad(f3, 2, 5)"
   ]
  },
  {
   "cell_type": "markdown",
   "metadata": {},
   "source": [
    "Problem 4: ∫₀¹ (x² + 1)(x³) dx → expanded as x⁵ + x³"
   ]
  },
  {
   "cell_type": "code",
   "execution_count": 8,
   "metadata": {
    "execution": {
     "iopub.execute_input": "2025-05-19T14:57:33.134332Z",
     "iopub.status.busy": "2025-05-19T14:57:33.134049Z",
     "iopub.status.idle": "2025-05-19T14:57:33.138312Z",
     "shell.execute_reply": "2025-05-19T14:57:33.137398Z"
    }
   },
   "outputs": [],
   "source": [
    "def f4(x):\n",
    "    return x**5 + x**3"
   ]
  },
  {
   "cell_type": "code",
   "execution_count": 9,
   "metadata": {
    "execution": {
     "iopub.execute_input": "2025-05-19T14:57:33.141983Z",
     "iopub.status.busy": "2025-05-19T14:57:33.141699Z",
     "iopub.status.idle": "2025-05-19T14:57:33.145509Z",
     "shell.execute_reply": "2025-05-19T14:57:33.144703Z"
    }
   },
   "outputs": [],
   "source": [
    "A4, _ = quad(f4, 0, 1)"
   ]
  },
  {
   "cell_type": "markdown",
   "metadata": {},
   "source": [
    "Print results"
   ]
  },
  {
   "cell_type": "code",
   "execution_count": 10,
   "metadata": {
    "execution": {
     "iopub.execute_input": "2025-05-19T14:57:33.149287Z",
     "iopub.status.busy": "2025-05-19T14:57:33.149070Z",
     "iopub.status.idle": "2025-05-19T14:57:33.153668Z",
     "shell.execute_reply": "2025-05-19T14:57:33.152874Z"
    }
   },
   "outputs": [
    {
     "name": "stdout",
     "output_type": "stream",
     "text": [
      "Problem 1: Area = 7.0000\n",
      "Problem 2: Area = 221.3333\n",
      "Problem 3: Area = 21.0000\n",
      "Problem 4: Area = 0.4167\n"
     ]
    }
   ],
   "source": [
    "print(\"Problem 1: Area = %.4f\" % A1)\n",
    "print(\"Problem 2: Area = %.4f\" % A2)\n",
    "print(\"Problem 3: Area = %.4f\" % A3)\n",
    "print(\"Problem 4: Area = %.4f\" % A4)"
   ]
  }
 ],
 "metadata": {
  "kernelspec": {
   "display_name": "Python 3",
   "language": "python",
   "name": "python3"
  },
  "language_info": {
   "codemirror_mode": {
    "name": "ipython",
    "version": 3
   },
   "file_extension": ".py",
   "mimetype": "text/x-python",
   "name": "python",
   "nbconvert_exporter": "python",
   "pygments_lexer": "ipython3",
   "version": "3.8.10"
  }
 },
 "nbformat": 4,
 "nbformat_minor": 2
}
