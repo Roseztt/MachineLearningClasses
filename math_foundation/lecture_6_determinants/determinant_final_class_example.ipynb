{
 "cells": [
  {
   "cell_type": "code",
   "execution_count": 1,
   "metadata": {
    "execution": {
     "iopub.execute_input": "2025-04-02T14:09:24.476194Z",
     "iopub.status.busy": "2025-04-02T14:09:24.475733Z",
     "iopub.status.idle": "2025-04-02T14:09:24.481706Z",
     "shell.execute_reply": "2025-04-02T14:09:24.480623Z"
    }
   },
   "outputs": [],
   "source": [
    "#!/usr/bin/env python"
   ]
  },
  {
   "cell_type": "code",
   "execution_count": 2,
   "metadata": {
    "execution": {
     "iopub.execute_input": "2025-04-02T14:09:24.485472Z",
     "iopub.status.busy": "2025-04-02T14:09:24.485196Z",
     "iopub.status.idle": "2025-04-02T14:09:24.613679Z",
     "shell.execute_reply": "2025-04-02T14:09:24.612984Z"
    }
   },
   "outputs": [],
   "source": [
    "import numpy as np\n",
    "from numpy.linalg import inv, det"
   ]
  },
  {
   "cell_type": "markdown",
   "metadata": {},
   "source": [
    "Define the matrix D"
   ]
  },
  {
   "cell_type": "code",
   "execution_count": 3,
   "metadata": {
    "execution": {
     "iopub.execute_input": "2025-04-02T14:09:24.616807Z",
     "iopub.status.busy": "2025-04-02T14:09:24.616645Z",
     "iopub.status.idle": "2025-04-02T14:09:24.620336Z",
     "shell.execute_reply": "2025-04-02T14:09:24.619754Z"
    }
   },
   "outputs": [],
   "source": [
    "D = np.array([\n",
    "    [2, 3, 1, 0, 0, 0, 0],\n",
    "    [1, 2, 1, 0, 0, 0, 0],\n",
    "    [1, 1, 1, 0, 0, 0, 0],\n",
    "    [0, 0, 0, 2, 1, 0, 0],\n",
    "    [0, 0, 0, 3, 2, 0, 0],\n",
    "    [0, 0, 0, 0, 0, 3, 0],\n",
    "    [0, 0, 0, 0, 0, 0, 1]\n",
    "])"
   ]
  },
  {
   "cell_type": "code",
   "execution_count": 4,
   "metadata": {
    "execution": {
     "iopub.execute_input": "2025-04-02T14:09:24.623394Z",
     "iopub.status.busy": "2025-04-02T14:09:24.623226Z",
     "iopub.status.idle": "2025-04-02T14:09:24.627718Z",
     "shell.execute_reply": "2025-04-02T14:09:24.626996Z"
    }
   },
   "outputs": [
    {
     "name": "stdout",
     "output_type": "stream",
     "text": [
      "The determinant of 2 * (D^-1) is: 42.66666666666666\n"
     ]
    }
   ],
   "source": [
    "Dˉᣳ = inv(D)\n",
    "ӏDˉᣳӏ = det(2*Dˉᣳ)\n",
    "print(f\"The determinant of 2 * (D^-1) is: {ӏDˉᣳӏ}\")"
   ]
  }
 ],
 "metadata": {
  "kernelspec": {
   "display_name": "Python 3",
   "language": "python",
   "name": "python3"
  },
  "language_info": {
   "codemirror_mode": {
    "name": "ipython",
    "version": 3
   },
   "file_extension": ".py",
   "mimetype": "text/x-python",
   "name": "python",
   "nbconvert_exporter": "python",
   "pygments_lexer": "ipython3",
   "version": "3.8.10"
  }
 },
 "nbformat": 4,
 "nbformat_minor": 2
}
