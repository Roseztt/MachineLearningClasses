{
 "cells": [
  {
   "cell_type": "code",
   "execution_count": 1,
   "metadata": {
    "execution": {
     "iopub.execute_input": "2025-04-02T14:04:09.428333Z",
     "iopub.status.busy": "2025-04-02T14:04:09.427866Z",
     "iopub.status.idle": "2025-04-02T14:04:09.434104Z",
     "shell.execute_reply": "2025-04-02T14:04:09.432938Z"
    }
   },
   "outputs": [],
   "source": [
    "#!/usr/bin/env python"
   ]
  },
  {
   "cell_type": "code",
   "execution_count": 2,
   "metadata": {
    "execution": {
     "iopub.execute_input": "2025-04-02T14:04:09.439373Z",
     "iopub.status.busy": "2025-04-02T14:04:09.439130Z",
     "iopub.status.idle": "2025-04-02T14:04:09.572333Z",
     "shell.execute_reply": "2025-04-02T14:04:09.571442Z"
    }
   },
   "outputs": [],
   "source": [
    "import numpy as np"
   ]
  },
  {
   "cell_type": "code",
   "execution_count": 3,
   "metadata": {
    "execution": {
     "iopub.execute_input": "2025-04-02T14:04:09.575845Z",
     "iopub.status.busy": "2025-04-02T14:04:09.575668Z",
     "iopub.status.idle": "2025-04-02T14:04:09.579056Z",
     "shell.execute_reply": "2025-04-02T14:04:09.578427Z"
    }
   },
   "outputs": [],
   "source": [
    "def calculate_determinant_2_inverse_d(d_matrix):\n",
    "    \"\"\"Calculates the determinant of 2 * (D^-1).\"\"\"\n",
    "    # Calculate the inverse of D\n",
    "    d_inverse = np.linalg.inv(d_matrix)\n",
    "    # Calculate 2 * D^-1\n",
    "    two_inverse_d = 2 * d_inverse\n",
    "    # Calculate the determinant of 2 * D^-1\n",
    "    determinant = np.linalg.det(two_inverse_d)\n",
    "    return determinant"
   ]
  },
  {
   "cell_type": "markdown",
   "metadata": {},
   "source": [
    "Define the matrix D"
   ]
  },
  {
   "cell_type": "code",
   "execution_count": 4,
   "metadata": {
    "execution": {
     "iopub.execute_input": "2025-04-02T14:04:09.582571Z",
     "iopub.status.busy": "2025-04-02T14:04:09.582396Z",
     "iopub.status.idle": "2025-04-02T14:04:09.586124Z",
     "shell.execute_reply": "2025-04-02T14:04:09.585575Z"
    }
   },
   "outputs": [],
   "source": [
    "d_matrix = np.array([\n",
    "    [2, 3, 1, 0, 0, 0, 0],\n",
    "    [1, 2, 1, 0, 0, 0, 0],\n",
    "    [1, 1, 1, 0, 0, 0, 0],\n",
    "    [0, 0, 0, 2, 1, 0, 0],\n",
    "    [0, 0, 0, 3, 2, 0, 0],\n",
    "    [0, 0, 0, 0, 0, 3, 0],\n",
    "    [0, 0, 0, 0, 0, 0, 1]\n",
    "])"
   ]
  },
  {
   "cell_type": "markdown",
   "metadata": {},
   "source": [
    "Calculate and print the result"
   ]
  },
  {
   "cell_type": "code",
   "execution_count": 5,
   "metadata": {
    "execution": {
     "iopub.execute_input": "2025-04-02T14:04:09.589084Z",
     "iopub.status.busy": "2025-04-02T14:04:09.588910Z",
     "iopub.status.idle": "2025-04-02T14:04:09.593881Z",
     "shell.execute_reply": "2025-04-02T14:04:09.592889Z"
    }
   },
   "outputs": [
    {
     "name": "stdout",
     "output_type": "stream",
     "text": [
      "The determinant of 2 * (D^-1) is: 42.66666666666666\n"
     ]
    }
   ],
   "source": [
    "result = calculate_determinant_2_inverse_d(d_matrix)\n",
    "print(f\"The determinant of 2 * (D^-1) is: {result}\")"
   ]
  }
 ],
 "metadata": {
  "kernelspec": {
   "display_name": "Python 3",
   "language": "python",
   "name": "python3"
  },
  "language_info": {
   "codemirror_mode": {
    "name": "ipython",
    "version": 3
   },
   "file_extension": ".py",
   "mimetype": "text/x-python",
   "name": "python",
   "nbconvert_exporter": "python",
   "pygments_lexer": "ipython3",
   "version": "3.8.10"
  }
 },
 "nbformat": 4,
 "nbformat_minor": 2
}
