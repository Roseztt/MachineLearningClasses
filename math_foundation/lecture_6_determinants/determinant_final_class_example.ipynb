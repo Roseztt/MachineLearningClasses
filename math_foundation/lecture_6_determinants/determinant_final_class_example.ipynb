{
 "cells": [
  {
   "cell_type": "code",
   "execution_count": 1,
   "metadata": {
    "execution": {
     "iopub.execute_input": "2025-04-02T14:05:45.563526Z",
     "iopub.status.busy": "2025-04-02T14:05:45.563073Z",
     "iopub.status.idle": "2025-04-02T14:05:45.568980Z",
     "shell.execute_reply": "2025-04-02T14:05:45.567890Z"
    }
   },
   "outputs": [],
   "source": [
    "#!/usr/bin/env python"
   ]
  },
  {
   "cell_type": "code",
   "execution_count": 2,
   "metadata": {
    "execution": {
     "iopub.execute_input": "2025-04-02T14:05:45.572898Z",
     "iopub.status.busy": "2025-04-02T14:05:45.572654Z",
     "iopub.status.idle": "2025-04-02T14:05:45.706772Z",
     "shell.execute_reply": "2025-04-02T14:05:45.705939Z"
    }
   },
   "outputs": [],
   "source": [
    "import numpy as np"
   ]
  },
  {
   "cell_type": "code",
   "execution_count": 3,
   "metadata": {
    "execution": {
     "iopub.execute_input": "2025-04-02T14:05:45.709751Z",
     "iopub.status.busy": "2025-04-02T14:05:45.709591Z",
     "iopub.status.idle": "2025-04-02T14:05:45.712655Z",
     "shell.execute_reply": "2025-04-02T14:05:45.711926Z"
    }
   },
   "outputs": [],
   "source": [
    "def calculate_determinant_2_inverse_d(d_matrix):\n",
    "    d_inverse = np.linalg.inv(d_matrix)\n",
    "    two_inverse_d = 2 * d_inverse\n",
    "    determinant = np.linalg.det(two_inverse_d)\n",
    "    return determinant"
   ]
  },
  {
   "cell_type": "markdown",
   "metadata": {},
   "source": [
    "Define the matrix D"
   ]
  },
  {
   "cell_type": "code",
   "execution_count": 4,
   "metadata": {
    "execution": {
     "iopub.execute_input": "2025-04-02T14:05:45.715925Z",
     "iopub.status.busy": "2025-04-02T14:05:45.715763Z",
     "iopub.status.idle": "2025-04-02T14:05:45.719394Z",
     "shell.execute_reply": "2025-04-02T14:05:45.718790Z"
    }
   },
   "outputs": [],
   "source": [
    "d_matrix = np.array([\n",
    "    [2, 3, 1, 0, 0, 0, 0],\n",
    "    [1, 2, 1, 0, 0, 0, 0],\n",
    "    [1, 1, 1, 0, 0, 0, 0],\n",
    "    [0, 0, 0, 2, 1, 0, 0],\n",
    "    [0, 0, 0, 3, 2, 0, 0],\n",
    "    [0, 0, 0, 0, 0, 3, 0],\n",
    "    [0, 0, 0, 0, 0, 0, 1]\n",
    "])"
   ]
  },
  {
   "cell_type": "markdown",
   "metadata": {},
   "source": [
    "Calculate and print the result"
   ]
  },
  {
   "cell_type": "code",
   "execution_count": 5,
   "metadata": {
    "execution": {
     "iopub.execute_input": "2025-04-02T14:05:45.722341Z",
     "iopub.status.busy": "2025-04-02T14:05:45.722188Z",
     "iopub.status.idle": "2025-04-02T14:05:45.727637Z",
     "shell.execute_reply": "2025-04-02T14:05:45.726493Z"
    }
   },
   "outputs": [
    {
     "name": "stdout",
     "output_type": "stream",
     "text": [
      "The determinant of 2 * (D^-1) is: 42.66666666666666\n"
     ]
    }
   ],
   "source": [
    "result = calculate_determinant_2_inverse_d(d_matrix)\n",
    "print(f\"The determinant of 2 * (D^-1) is: {result}\")"
   ]
  }
 ],
 "metadata": {
  "kernelspec": {
   "display_name": "Python 3",
   "language": "python",
   "name": "python3"
  },
  "language_info": {
   "codemirror_mode": {
    "name": "ipython",
    "version": 3
   },
   "file_extension": ".py",
   "mimetype": "text/x-python",
   "name": "python",
   "nbconvert_exporter": "python",
   "pygments_lexer": "ipython3",
   "version": "3.8.10"
  }
 },
 "nbformat": 4,
 "nbformat_minor": 2
}
