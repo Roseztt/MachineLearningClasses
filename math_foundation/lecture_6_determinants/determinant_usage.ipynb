{
 "cells": [
  {
   "cell_type": "code",
   "execution_count": 1,
   "metadata": {
    "execution": {
     "iopub.execute_input": "2025-04-01T01:26:05.421677Z",
     "iopub.status.busy": "2025-04-01T01:26:05.421214Z",
     "iopub.status.idle": "2025-04-01T01:26:05.427030Z",
     "shell.execute_reply": "2025-04-01T01:26:05.426080Z"
    }
   },
   "outputs": [],
   "source": [
    "#!/usr/bin/env python"
   ]
  },
  {
   "cell_type": "code",
   "execution_count": 2,
   "metadata": {
    "execution": {
     "iopub.execute_input": "2025-04-01T01:26:05.431141Z",
     "iopub.status.busy": "2025-04-01T01:26:05.430894Z",
     "iopub.status.idle": "2025-04-01T01:26:05.564081Z",
     "shell.execute_reply": "2025-04-01T01:26:05.563371Z"
    }
   },
   "outputs": [],
   "source": [
    "import numpy as np"
   ]
  },
  {
   "cell_type": "markdown",
   "metadata": {},
   "source": [
    "Command to find determinant"
   ]
  },
  {
   "cell_type": "code",
   "execution_count": 3,
   "metadata": {
    "execution": {
     "iopub.execute_input": "2025-04-01T01:26:05.567333Z",
     "iopub.status.busy": "2025-04-01T01:26:05.567171Z",
     "iopub.status.idle": "2025-04-01T01:26:05.570009Z",
     "shell.execute_reply": "2025-04-01T01:26:05.569320Z"
    }
   },
   "outputs": [],
   "source": [
    "A = np.array([\t[3,2,1],\n",
    "\t\t\t\t[1,1,1],\n",
    "\t\t\t\t[1,2,1]])"
   ]
  },
  {
   "cell_type": "code",
   "execution_count": 4,
   "metadata": {
    "execution": {
     "iopub.execute_input": "2025-04-01T01:26:05.573418Z",
     "iopub.status.busy": "2025-04-01T01:26:05.573236Z",
     "iopub.status.idle": "2025-04-01T01:26:05.576899Z",
     "shell.execute_reply": "2025-04-01T01:26:05.576285Z"
    }
   },
   "outputs": [
    {
     "name": "stdout",
     "output_type": "stream",
     "text": [
      "-2.0000000000000004\n"
     ]
    }
   ],
   "source": [
    "d = np.linalg.det(A)\n",
    "print(d)"
   ]
  }
 ],
 "metadata": {
  "kernelspec": {
   "display_name": "Python 3",
   "language": "python",
   "name": "python3"
  },
  "language_info": {
   "codemirror_mode": {
    "name": "ipython",
    "version": 3
   },
   "file_extension": ".py",
   "mimetype": "text/x-python",
   "name": "python",
   "nbconvert_exporter": "python",
   "pygments_lexer": "ipython3",
   "version": "3.8.10"
  }
 },
 "nbformat": 4,
 "nbformat_minor": 2
}
