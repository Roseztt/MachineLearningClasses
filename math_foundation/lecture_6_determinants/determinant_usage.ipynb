{
 "cells": [
  {
   "cell_type": "code",
   "execution_count": 1,
   "metadata": {
    "execution": {
     "iopub.execute_input": "2025-04-01T01:38:14.623786Z",
     "iopub.status.busy": "2025-04-01T01:38:14.623454Z",
     "iopub.status.idle": "2025-04-01T01:38:14.628167Z",
     "shell.execute_reply": "2025-04-01T01:38:14.627239Z"
    }
   },
   "outputs": [],
   "source": [
    "#!/usr/bin/env python"
   ]
  },
  {
   "cell_type": "code",
   "execution_count": 2,
   "metadata": {
    "execution": {
     "iopub.execute_input": "2025-04-01T01:38:14.631592Z",
     "iopub.status.busy": "2025-04-01T01:38:14.631343Z",
     "iopub.status.idle": "2025-04-01T01:38:14.764472Z",
     "shell.execute_reply": "2025-04-01T01:38:14.763874Z"
    }
   },
   "outputs": [],
   "source": [
    "import numpy as np"
   ]
  },
  {
   "cell_type": "markdown",
   "metadata": {},
   "source": [
    "Command to find determinant"
   ]
  },
  {
   "cell_type": "code",
   "execution_count": 3,
   "metadata": {
    "execution": {
     "iopub.execute_input": "2025-04-01T01:38:14.767434Z",
     "iopub.status.busy": "2025-04-01T01:38:14.767276Z",
     "iopub.status.idle": "2025-04-01T01:38:14.770037Z",
     "shell.execute_reply": "2025-04-01T01:38:14.769501Z"
    }
   },
   "outputs": [],
   "source": [
    "A = np.array([[3,2,1],\n",
    "\t\t\t[1,1,1],\n",
    "\t\t\t[1,2,1]])"
   ]
  },
  {
   "cell_type": "code",
   "execution_count": 4,
   "metadata": {
    "execution": {
     "iopub.execute_input": "2025-04-01T01:38:14.773160Z",
     "iopub.status.busy": "2025-04-01T01:38:14.772999Z",
     "iopub.status.idle": "2025-04-01T01:38:14.776262Z",
     "shell.execute_reply": "2025-04-01T01:38:14.775730Z"
    }
   },
   "outputs": [
    {
     "name": "stdout",
     "output_type": "stream",
     "text": [
      "-2.0000000000000004\n"
     ]
    }
   ],
   "source": [
    "d = np.linalg.det(A)\n",
    "print(d)"
   ]
  }
 ],
 "metadata": {
  "kernelspec": {
   "display_name": "Python 3",
   "language": "python",
   "name": "python3"
  },
  "language_info": {
   "codemirror_mode": {
    "name": "ipython",
    "version": 3
   },
   "file_extension": ".py",
   "mimetype": "text/x-python",
   "name": "python",
   "nbconvert_exporter": "python",
   "pygments_lexer": "ipython3",
   "version": "3.8.10"
  }
 },
 "nbformat": 4,
 "nbformat_minor": 2
}
