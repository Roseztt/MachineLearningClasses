{
 "cells": [
  {
   "cell_type": "code",
   "execution_count": 1,
   "metadata": {
    "execution": {
     "iopub.execute_input": "2025-05-15T19:14:13.427154Z",
     "iopub.status.busy": "2025-05-15T19:14:13.426668Z",
     "iopub.status.idle": "2025-05-15T19:14:13.432384Z",
     "shell.execute_reply": "2025-05-15T19:14:13.431452Z"
    }
   },
   "outputs": [],
   "source": [
    "#!/usr/bin/env python"
   ]
  },
  {
   "cell_type": "code",
   "execution_count": 2,
   "metadata": {
    "execution": {
     "iopub.execute_input": "2025-05-15T19:14:13.436337Z",
     "iopub.status.busy": "2025-05-15T19:14:13.436083Z",
     "iopub.status.idle": "2025-05-15T19:14:13.555964Z",
     "shell.execute_reply": "2025-05-15T19:14:13.554734Z"
    }
   },
   "outputs": [],
   "source": [
    "import autograd.numpy as np\n",
    "from autograd import grad\n",
    "from autograd.numpy import exp, log2, log"
   ]
  },
  {
   "cell_type": "markdown",
   "metadata": {},
   "source": [
    "Problem 1"
   ]
  },
  {
   "cell_type": "code",
   "execution_count": 3,
   "metadata": {
    "execution": {
     "iopub.execute_input": "2025-05-15T19:14:13.562499Z",
     "iopub.status.busy": "2025-05-15T19:14:13.562136Z",
     "iopub.status.idle": "2025-05-15T19:14:13.566989Z",
     "shell.execute_reply": "2025-05-15T19:14:13.566128Z"
    }
   },
   "outputs": [],
   "source": [
    "def f1(x):\n",
    "    return 1.0 * x + 2.0 * x + 3.0 * x"
   ]
  },
  {
   "cell_type": "code",
   "execution_count": 4,
   "metadata": {
    "execution": {
     "iopub.execute_input": "2025-05-15T19:14:13.569965Z",
     "iopub.status.busy": "2025-05-15T19:14:13.569796Z",
     "iopub.status.idle": "2025-05-15T19:14:13.574233Z",
     "shell.execute_reply": "2025-05-15T19:14:13.573551Z"
    }
   },
   "outputs": [
    {
     "name": "stdout",
     "output_type": "stream",
     "text": [
      "Problem 1 manual derivative: 6\n",
      "Problem 1 autograd derivative at x=2: 6.0\n"
     ]
    }
   ],
   "source": [
    "df1 = grad(f1)\n",
    "print(\"Problem 1 manual derivative:\", 6)\n",
    "print(\"Problem 1 autograd derivative at x=2:\", df1(2.0))"
   ]
  },
  {
   "cell_type": "markdown",
   "metadata": {},
   "source": [
    "Problem 2"
   ]
  },
  {
   "cell_type": "code",
   "execution_count": 5,
   "metadata": {
    "execution": {
     "iopub.execute_input": "2025-05-15T19:14:13.623490Z",
     "iopub.status.busy": "2025-05-15T19:14:13.623199Z",
     "iopub.status.idle": "2025-05-15T19:14:13.627851Z",
     "shell.execute_reply": "2025-05-15T19:14:13.626825Z"
    }
   },
   "outputs": [],
   "source": [
    "def f2(x):\n",
    "    return (2.0 * x + 1.0)**2 + 3.0 * x - 2.0"
   ]
  },
  {
   "cell_type": "code",
   "execution_count": 6,
   "metadata": {
    "execution": {
     "iopub.execute_input": "2025-05-15T19:14:13.630899Z",
     "iopub.status.busy": "2025-05-15T19:14:13.630610Z",
     "iopub.status.idle": "2025-05-15T19:14:13.635770Z",
     "shell.execute_reply": "2025-05-15T19:14:13.635196Z"
    }
   },
   "outputs": [
    {
     "name": "stdout",
     "output_type": "stream",
     "text": [
      "\n",
      "Problem 2 manual derivative at x=1: 15\n",
      "Problem 2 autograd derivative at x=1: 15.0\n"
     ]
    }
   ],
   "source": [
    "df2 = grad(f2)\n",
    "print(\"\\nProblem 2 manual derivative at x=1:\", 8*1 + 7)\n",
    "print(\"Problem 2 autograd derivative at x=1:\", df2(1.0))"
   ]
  },
  {
   "cell_type": "markdown",
   "metadata": {},
   "source": [
    "Problem 3"
   ]
  },
  {
   "cell_type": "code",
   "execution_count": 7,
   "metadata": {
    "execution": {
     "iopub.execute_input": "2025-05-15T19:14:13.638938Z",
     "iopub.status.busy": "2025-05-15T19:14:13.638763Z",
     "iopub.status.idle": "2025-05-15T19:14:13.641661Z",
     "shell.execute_reply": "2025-05-15T19:14:13.641014Z"
    }
   },
   "outputs": [],
   "source": [
    "def f3(x):\n",
    "    return (2.0 * x + 1.0) * exp(-2.0 * x) - log2(x**2)"
   ]
  },
  {
   "cell_type": "code",
   "execution_count": 8,
   "metadata": {
    "execution": {
     "iopub.execute_input": "2025-05-15T19:14:13.644671Z",
     "iopub.status.busy": "2025-05-15T19:14:13.644496Z",
     "iopub.status.idle": "2025-05-15T19:14:13.647697Z",
     "shell.execute_reply": "2025-05-15T19:14:13.646924Z"
    }
   },
   "outputs": [],
   "source": [
    "def manual3(x):\n",
    "\treturn 2*exp(-2*x) - 2 * (2*x + 1)*exp(-2*x) - 2/(x * log(2))"
   ]
  },
  {
   "cell_type": "code",
   "execution_count": 9,
   "metadata": {
    "execution": {
     "iopub.execute_input": "2025-05-15T19:14:13.650598Z",
     "iopub.status.busy": "2025-05-15T19:14:13.650385Z",
     "iopub.status.idle": "2025-05-15T19:14:13.655440Z",
     "shell.execute_reply": "2025-05-15T19:14:13.654692Z"
    }
   },
   "outputs": [
    {
     "name": "stdout",
     "output_type": "stream",
     "text": [
      "\n",
      "Problem 3 manual derivative at x=1: -3.4267312147243776\n",
      "Problem 3 autograd derivative at x=1.0: -3.426731214724377\n"
     ]
    }
   ],
   "source": [
    "df3 = grad(f3)\n",
    "print(\"\\nProblem 3 manual derivative at x=1:\", manual3(1.0))\n",
    "print(\"Problem 3 autograd derivative at x=1.0:\", df3(1.0))"
   ]
  },
  {
   "cell_type": "markdown",
   "metadata": {},
   "source": [
    "Problem 4"
   ]
  },
  {
   "cell_type": "code",
   "execution_count": 10,
   "metadata": {
    "execution": {
     "iopub.execute_input": "2025-05-15T19:14:13.658499Z",
     "iopub.status.busy": "2025-05-15T19:14:13.658287Z",
     "iopub.status.idle": "2025-05-15T19:14:13.661970Z",
     "shell.execute_reply": "2025-05-15T19:14:13.661005Z"
    }
   },
   "outputs": [],
   "source": [
    "def f4(x):\n",
    "    return (exp(2.0 * x) + 1.0)**3 + log(x**2)"
   ]
  },
  {
   "cell_type": "code",
   "execution_count": 11,
   "metadata": {
    "execution": {
     "iopub.execute_input": "2025-05-15T19:14:13.680786Z",
     "iopub.status.busy": "2025-05-15T19:14:13.680493Z",
     "iopub.status.idle": "2025-05-15T19:14:13.685425Z",
     "shell.execute_reply": "2025-05-15T19:14:13.684273Z"
    }
   },
   "outputs": [],
   "source": [
    "def manual4(x):\n",
    "\treturn 6*exp(2*x)*(exp(2*x) + 1)**2 + 2/x"
   ]
  },
  {
   "cell_type": "code",
   "execution_count": 12,
   "metadata": {
    "execution": {
     "iopub.execute_input": "2025-05-15T19:14:13.689574Z",
     "iopub.status.busy": "2025-05-15T19:14:13.689245Z",
     "iopub.status.idle": "2025-05-15T19:14:13.695163Z",
     "shell.execute_reply": "2025-05-15T19:14:13.694551Z"
    }
   },
   "outputs": [
    {
     "name": "stdout",
     "output_type": "stream",
     "text": [
      "\n",
      "Problem 4 manual derivative at x=1: 3122.0848979477255\n",
      "Problem 4 autograd derivative at x=1.0: 3122.0848979477255\n"
     ]
    }
   ],
   "source": [
    "df4 = grad(f4)\n",
    "print(\"\\nProblem 4 manual derivative at x=1:\", manual4(1.0))\n",
    "print(\"Problem 4 autograd derivative at x=1.0:\", df4(1.0))"
   ]
  },
  {
   "cell_type": "markdown",
   "metadata": {},
   "source": [
    "Problem 5"
   ]
  },
  {
   "cell_type": "code",
   "execution_count": 13,
   "metadata": {
    "execution": {
     "iopub.execute_input": "2025-05-15T19:14:13.698521Z",
     "iopub.status.busy": "2025-05-15T19:14:13.698322Z",
     "iopub.status.idle": "2025-05-15T19:14:13.701570Z",
     "shell.execute_reply": "2025-05-15T19:14:13.700862Z"
    }
   },
   "outputs": [],
   "source": [
    "def f5(x):\n",
    "    return np.sqrt(x**2 + 1.0)"
   ]
  },
  {
   "cell_type": "code",
   "execution_count": 14,
   "metadata": {
    "execution": {
     "iopub.execute_input": "2025-05-15T19:14:13.704932Z",
     "iopub.status.busy": "2025-05-15T19:14:13.704688Z",
     "iopub.status.idle": "2025-05-15T19:14:13.710193Z",
     "shell.execute_reply": "2025-05-15T19:14:13.709245Z"
    }
   },
   "outputs": [
    {
     "name": "stdout",
     "output_type": "stream",
     "text": [
      "\n",
      "Problem 5 manual derivative at x=1.0: 0.7071067811865475\n",
      "Problem 5 autograd derivative at x=1.0: 0.7071067811865476\n"
     ]
    }
   ],
   "source": [
    "df5 = grad(f5)\n",
    "print(\"\\nProblem 5 manual derivative at x=1.0:\", 1.0 / np.sqrt(2.0))\n",
    "print(\"Problem 5 autograd derivative at x=1.0:\", df5(1.0))"
   ]
  },
  {
   "cell_type": "markdown",
   "metadata": {},
   "source": [
    "Problem 6"
   ]
  },
  {
   "cell_type": "code",
   "execution_count": 15,
   "metadata": {
    "execution": {
     "iopub.execute_input": "2025-05-15T19:14:13.713471Z",
     "iopub.status.busy": "2025-05-15T19:14:13.713224Z",
     "iopub.status.idle": "2025-05-15T19:14:13.716798Z",
     "shell.execute_reply": "2025-05-15T19:14:13.716170Z"
    }
   },
   "outputs": [],
   "source": [
    "def f6(x):\n",
    "    return (3.0 * x**2 + 5.0) * exp(-x)"
   ]
  },
  {
   "cell_type": "code",
   "execution_count": 16,
   "metadata": {
    "execution": {
     "iopub.execute_input": "2025-05-15T19:14:13.719924Z",
     "iopub.status.busy": "2025-05-15T19:14:13.719714Z",
     "iopub.status.idle": "2025-05-15T19:14:13.723105Z",
     "shell.execute_reply": "2025-05-15T19:14:13.722452Z"
    }
   },
   "outputs": [],
   "source": [
    "def manual6(x):\n",
    "\treturn (-3*x**2 + 6*x -5) * exp(-x)"
   ]
  },
  {
   "cell_type": "code",
   "execution_count": 17,
   "metadata": {
    "execution": {
     "iopub.execute_input": "2025-05-15T19:14:13.726217Z",
     "iopub.status.busy": "2025-05-15T19:14:13.726009Z",
     "iopub.status.idle": "2025-05-15T19:14:13.731691Z",
     "shell.execute_reply": "2025-05-15T19:14:13.730852Z"
    }
   },
   "outputs": [
    {
     "name": "stdout",
     "output_type": "stream",
     "text": [
      "\n",
      "Problem 6 manual derivative at x=1: -0.7357588823428847\n",
      "Problem 6 autograd derivative at x=1.0: -0.7357588823428847\n"
     ]
    }
   ],
   "source": [
    "df6 = grad(f6)\n",
    "print(\"\\nProblem 6 manual derivative at x=1:\", manual6(1.0))\n",
    "print(\"Problem 6 autograd derivative at x=1.0:\", df6(1.0))"
   ]
  },
  {
   "cell_type": "markdown",
   "metadata": {},
   "source": [
    "Problem 7"
   ]
  },
  {
   "cell_type": "code",
   "execution_count": 18,
   "metadata": {
    "execution": {
     "iopub.execute_input": "2025-05-15T19:14:13.735107Z",
     "iopub.status.busy": "2025-05-15T19:14:13.734857Z",
     "iopub.status.idle": "2025-05-15T19:14:13.738577Z",
     "shell.execute_reply": "2025-05-15T19:14:13.737877Z"
    }
   },
   "outputs": [],
   "source": [
    "def f7(x):\n",
    "    return log(np.sqrt(1.0 + x**2))"
   ]
  },
  {
   "cell_type": "code",
   "execution_count": 19,
   "metadata": {
    "execution": {
     "iopub.execute_input": "2025-05-15T19:14:13.741785Z",
     "iopub.status.busy": "2025-05-15T19:14:13.741567Z",
     "iopub.status.idle": "2025-05-15T19:14:13.744972Z",
     "shell.execute_reply": "2025-05-15T19:14:13.744214Z"
    }
   },
   "outputs": [],
   "source": [
    "def manual7(x):\n",
    "\treturn x/(1+x**2)"
   ]
  },
  {
   "cell_type": "code",
   "execution_count": 20,
   "metadata": {
    "execution": {
     "iopub.execute_input": "2025-05-15T19:14:13.748251Z",
     "iopub.status.busy": "2025-05-15T19:14:13.747995Z",
     "iopub.status.idle": "2025-05-15T19:14:13.753511Z",
     "shell.execute_reply": "2025-05-15T19:14:13.752625Z"
    }
   },
   "outputs": [
    {
     "name": "stdout",
     "output_type": "stream",
     "text": [
      "\n",
      "Problem 7 manual derivative at x=1: 0.5\n",
      "Problem 7 autograd derivative at x=1.0: 0.5\n"
     ]
    }
   ],
   "source": [
    "df7 = grad(f7)\n",
    "print(\"\\nProblem 7 manual derivative at x=1:\", manual7(1.0))\n",
    "print(\"Problem 7 autograd derivative at x=1.0:\", df7(1.0))"
   ]
  },
  {
   "cell_type": "markdown",
   "metadata": {},
   "source": [
    "Problem 8 (using product rule style)"
   ]
  },
  {
   "cell_type": "code",
   "execution_count": 21,
   "metadata": {
    "execution": {
     "iopub.execute_input": "2025-05-15T19:14:13.757596Z",
     "iopub.status.busy": "2025-05-15T19:14:13.757271Z",
     "iopub.status.idle": "2025-05-15T19:14:13.761026Z",
     "shell.execute_reply": "2025-05-15T19:14:13.760271Z"
    }
   },
   "outputs": [],
   "source": [
    "def f8(x):\n",
    "    return (x**3 + 2.0 * x) * (x**2 + 1.0)**-1"
   ]
  },
  {
   "cell_type": "code",
   "execution_count": 22,
   "metadata": {
    "execution": {
     "iopub.execute_input": "2025-05-15T19:14:13.764505Z",
     "iopub.status.busy": "2025-05-15T19:14:13.764294Z",
     "iopub.status.idle": "2025-05-15T19:14:13.767958Z",
     "shell.execute_reply": "2025-05-15T19:14:13.767185Z"
    }
   },
   "outputs": [],
   "source": [
    "def manual8(x):\n",
    "\treturn (3*x**2 + 2)/(x**2 + 1) - (2*x*(x**3 + 2*x))/(x**2 + 1)**2"
   ]
  },
  {
   "cell_type": "code",
   "execution_count": 23,
   "metadata": {
    "execution": {
     "iopub.execute_input": "2025-05-15T19:14:13.771433Z",
     "iopub.status.busy": "2025-05-15T19:14:13.771207Z",
     "iopub.status.idle": "2025-05-15T19:14:13.776904Z",
     "shell.execute_reply": "2025-05-15T19:14:13.776251Z"
    }
   },
   "outputs": [
    {
     "name": "stdout",
     "output_type": "stream",
     "text": [
      "\n",
      "Problem 8 manual derivative at x=1: 1.0\n",
      "Problem 8 autograd derivative at x=1.0: 1.0\n"
     ]
    }
   ],
   "source": [
    "df8 = grad(f8)\n",
    "print(\"\\nProblem 8 manual derivative at x=1:\", manual8(1.0))\n",
    "print(\"Problem 8 autograd derivative at x=1.0:\", df8(1.0))"
   ]
  },
  {
   "cell_type": "markdown",
   "metadata": {},
   "source": [
    "Problem 9"
   ]
  },
  {
   "cell_type": "code",
   "execution_count": 24,
   "metadata": {
    "execution": {
     "iopub.execute_input": "2025-05-15T19:14:13.780496Z",
     "iopub.status.busy": "2025-05-15T19:14:13.780243Z",
     "iopub.status.idle": "2025-05-15T19:14:13.783957Z",
     "shell.execute_reply": "2025-05-15T19:14:13.783100Z"
    }
   },
   "outputs": [],
   "source": [
    "def f9(x):\n",
    "    return x**2 + 3.0 * x"
   ]
  },
  {
   "cell_type": "code",
   "execution_count": 25,
   "metadata": {
    "execution": {
     "iopub.execute_input": "2025-05-15T19:14:13.787568Z",
     "iopub.status.busy": "2025-05-15T19:14:13.787321Z",
     "iopub.status.idle": "2025-05-15T19:14:13.792601Z",
     "shell.execute_reply": "2025-05-15T19:14:13.791624Z"
    }
   },
   "outputs": [
    {
     "name": "stdout",
     "output_type": "stream",
     "text": [
      "\n",
      "Problem 9 manual derivative at x=2.0: 7.0\n",
      "Problem 9 autograd derivative at x=2.0: 7.0\n"
     ]
    }
   ],
   "source": [
    "df9 = grad(f9)\n",
    "print(\"\\nProblem 9 manual derivative at x=2.0:\", 2.0 * 2.0 + 3.0)\n",
    "print(\"Problem 9 autograd derivative at x=2.0:\", df9(2.0))"
   ]
  },
  {
   "cell_type": "markdown",
   "metadata": {},
   "source": [
    "Problem 10"
   ]
  },
  {
   "cell_type": "code",
   "execution_count": 26,
   "metadata": {
    "execution": {
     "iopub.execute_input": "2025-05-15T19:14:13.796125Z",
     "iopub.status.busy": "2025-05-15T19:14:13.795905Z",
     "iopub.status.idle": "2025-05-15T19:14:13.799222Z",
     "shell.execute_reply": "2025-05-15T19:14:13.798544Z"
    }
   },
   "outputs": [],
   "source": [
    "def f10(x):\n",
    "    return exp(-2.0 * x)"
   ]
  },
  {
   "cell_type": "code",
   "execution_count": 27,
   "metadata": {
    "execution": {
     "iopub.execute_input": "2025-05-15T19:14:13.802462Z",
     "iopub.status.busy": "2025-05-15T19:14:13.802243Z",
     "iopub.status.idle": "2025-05-15T19:14:13.807936Z",
     "shell.execute_reply": "2025-05-15T19:14:13.807144Z"
    }
   },
   "outputs": [
    {
     "name": "stdout",
     "output_type": "stream",
     "text": [
      "\n",
      "Problem 10 manual derivative at x=0.0: -2.0\n",
      "Problem 10 autograd derivative at x=0.0: -2.0\n"
     ]
    }
   ],
   "source": [
    "df10 = grad(f10)\n",
    "print(\"\\nProblem 10 manual derivative at x=0.0:\", -2.0)\n",
    "print(\"Problem 10 autograd derivative at x=0.0:\", df10(0.0))"
   ]
  },
  {
   "cell_type": "markdown",
   "metadata": {},
   "source": [
    "Problem 11"
   ]
  },
  {
   "cell_type": "code",
   "execution_count": 28,
   "metadata": {
    "execution": {
     "iopub.execute_input": "2025-05-15T19:14:13.811389Z",
     "iopub.status.busy": "2025-05-15T19:14:13.811151Z",
     "iopub.status.idle": "2025-05-15T19:14:13.814344Z",
     "shell.execute_reply": "2025-05-15T19:14:13.813648Z"
    }
   },
   "outputs": [],
   "source": [
    "def f11(x):\n",
    "    return log(x**2 + 1.0)"
   ]
  },
  {
   "cell_type": "code",
   "execution_count": 29,
   "metadata": {
    "execution": {
     "iopub.execute_input": "2025-05-15T19:14:13.817985Z",
     "iopub.status.busy": "2025-05-15T19:14:13.817728Z",
     "iopub.status.idle": "2025-05-15T19:14:13.823261Z",
     "shell.execute_reply": "2025-05-15T19:14:13.822521Z"
    }
   },
   "outputs": [
    {
     "name": "stdout",
     "output_type": "stream",
     "text": [
      "\n",
      "Problem 11 manual derivative at x=1.0: 1.0\n",
      "Problem 11 autograd derivative at x=1.0: 1.0\n"
     ]
    }
   ],
   "source": [
    "df11 = grad(f11)\n",
    "print(\"\\nProblem 11 manual derivative at x=1.0:\", 2.0 / (1.0 + 1.0))\n",
    "print(\"Problem 11 autograd derivative at x=1.0:\", df11(1.0))"
   ]
  }
 ],
 "metadata": {
  "kernelspec": {
   "display_name": "Python 3",
   "language": "python",
   "name": "python3"
  },
  "language_info": {
   "codemirror_mode": {
    "name": "ipython",
    "version": 3
   },
   "file_extension": ".py",
   "mimetype": "text/x-python",
   "name": "python",
   "nbconvert_exporter": "python",
   "pygments_lexer": "ipython3",
   "version": "3.8.10"
  }
 },
 "nbformat": 4,
 "nbformat_minor": 2
}
