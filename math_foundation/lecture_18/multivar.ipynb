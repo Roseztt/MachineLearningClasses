{
 "cells": [
  {
   "cell_type": "code",
   "execution_count": 1,
   "metadata": {
    "execution": {
     "iopub.execute_input": "2025-05-23T15:00:42.625129Z",
     "iopub.status.busy": "2025-05-23T15:00:42.624468Z",
     "iopub.status.idle": "2025-05-23T15:00:42.631108Z",
     "shell.execute_reply": "2025-05-23T15:00:42.630169Z"
    }
   },
   "outputs": [],
   "source": [
    "#!/usr/bin/env python"
   ]
  },
  {
   "cell_type": "markdown",
   "metadata": {},
   "source": [
    "We want to minimize the function:<br>\n",
    "$$ f(\\mathbf{x}) = \\mathbf{x}^\\top A \\mathbf{x} - \\mathbf{b}^\\top \\mathbf{x} $$"
   ]
  },
  {
   "cell_type": "code",
   "execution_count": 2,
   "metadata": {
    "execution": {
     "iopub.execute_input": "2025-05-23T15:00:42.635164Z",
     "iopub.status.busy": "2025-05-23T15:00:42.634943Z",
     "iopub.status.idle": "2025-05-23T15:00:42.914805Z",
     "shell.execute_reply": "2025-05-23T15:00:42.914119Z"
    }
   },
   "outputs": [],
   "source": [
    "import numpy as np\n",
    "from scipy.optimize import minimize"
   ]
  },
  {
   "cell_type": "markdown",
   "metadata": {},
   "source": [
    "Define matrix A and vector b"
   ]
  },
  {
   "cell_type": "code",
   "execution_count": 3,
   "metadata": {
    "execution": {
     "iopub.execute_input": "2025-05-23T15:00:42.917937Z",
     "iopub.status.busy": "2025-05-23T15:00:42.917778Z",
     "iopub.status.idle": "2025-05-23T15:00:42.921095Z",
     "shell.execute_reply": "2025-05-23T15:00:42.920430Z"
    }
   },
   "outputs": [],
   "source": [
    "A = np.array([[2, 1],\n",
    "              [1, 3]])\n",
    "b = np.array([4, 5])"
   ]
  },
  {
   "cell_type": "markdown",
   "metadata": {},
   "source": [
    "Define the objective function"
   ]
  },
  {
   "cell_type": "code",
   "execution_count": 4,
   "metadata": {
    "execution": {
     "iopub.execute_input": "2025-05-23T15:00:42.924013Z",
     "iopub.status.busy": "2025-05-23T15:00:42.923864Z",
     "iopub.status.idle": "2025-05-23T15:00:42.927025Z",
     "shell.execute_reply": "2025-05-23T15:00:42.926262Z"
    }
   },
   "outputs": [],
   "source": [
    "def f(x):\n",
    "    return x @ A @ x - b @ x"
   ]
  },
  {
   "cell_type": "markdown",
   "metadata": {},
   "source": [
    "Initial guess"
   ]
  },
  {
   "cell_type": "code",
   "execution_count": 5,
   "metadata": {
    "execution": {
     "iopub.execute_input": "2025-05-23T15:00:42.930112Z",
     "iopub.status.busy": "2025-05-23T15:00:42.929931Z",
     "iopub.status.idle": "2025-05-23T15:00:42.933155Z",
     "shell.execute_reply": "2025-05-23T15:00:42.932432Z"
    }
   },
   "outputs": [],
   "source": [
    "x0 = np.array([0.0, 0.0])"
   ]
  },
  {
   "cell_type": "markdown",
   "metadata": {},
   "source": [
    "Minimize"
   ]
  },
  {
   "cell_type": "code",
   "execution_count": 6,
   "metadata": {
    "execution": {
     "iopub.execute_input": "2025-05-23T15:00:42.936310Z",
     "iopub.status.busy": "2025-05-23T15:00:42.936130Z",
     "iopub.status.idle": "2025-05-23T15:00:42.980019Z",
     "shell.execute_reply": "2025-05-23T15:00:42.978775Z"
    }
   },
   "outputs": [],
   "source": [
    "result = minimize(f, x0)"
   ]
  },
  {
   "cell_type": "markdown",
   "metadata": {},
   "source": [
    "Output"
   ]
  },
  {
   "cell_type": "code",
   "execution_count": 7,
   "metadata": {
    "execution": {
     "iopub.execute_input": "2025-05-23T15:00:42.997686Z",
     "iopub.status.busy": "2025-05-23T15:00:42.997344Z",
     "iopub.status.idle": "2025-05-23T15:00:43.005779Z",
     "shell.execute_reply": "2025-05-23T15:00:43.004501Z"
    }
   },
   "outputs": [
    {
     "name": "stdout",
     "output_type": "stream",
     "text": [
      "Optimal x: [0.69999999 0.59999999]\n",
      "Minimum value: -2.899999999999999\n"
     ]
    }
   ],
   "source": [
    "print(\"Optimal x:\", result.x)\n",
    "print(\"Minimum value:\", result.fun)"
   ]
  }
 ],
 "metadata": {
  "kernelspec": {
   "display_name": "Python 3",
   "language": "python",
   "name": "python3"
  },
  "language_info": {
   "codemirror_mode": {
    "name": "ipython",
    "version": 3
   },
   "file_extension": ".py",
   "mimetype": "text/x-python",
   "name": "python",
   "nbconvert_exporter": "python",
   "pygments_lexer": "ipython3",
   "version": "3.8.10"
  }
 },
 "nbformat": 4,
 "nbformat_minor": 2
}
