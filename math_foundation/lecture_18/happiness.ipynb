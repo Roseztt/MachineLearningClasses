{
 "cells": [
  {
   "cell_type": "code",
   "execution_count": 1,
   "metadata": {
    "execution": {
     "iopub.execute_input": "2025-05-24T13:49:21.287402Z",
     "iopub.status.busy": "2025-05-24T13:49:21.286933Z",
     "iopub.status.idle": "2025-05-24T13:49:21.293258Z",
     "shell.execute_reply": "2025-05-24T13:49:21.291967Z"
    }
   },
   "outputs": [],
   "source": [
    "#!/usr/bin/env python"
   ]
  },
  {
   "cell_type": "markdown",
   "metadata": {},
   "source": [
    "### Problem: Maximize Happiness<br>\n",
    "We want to maximize:<br>\n",
    "$$ -\\frac{1}{2}x^\\top Q x + c^\\top x + d, \\quad \\text{where} \\quad Q = \\begin{bmatrix} 2 & 1 & 0 \\\\ 1 & 2 & 0 \\\\ 0 & 0 & 1 \\end{bmatrix}, \\quad c = \\begin{bmatrix} 5 \\\\ 4 \\\\ 3 \\end{bmatrix} $$"
   ]
  },
  {
   "cell_type": "code",
   "execution_count": 2,
   "metadata": {
    "execution": {
     "iopub.execute_input": "2025-05-24T13:49:21.297344Z",
     "iopub.status.busy": "2025-05-24T13:49:21.297091Z",
     "iopub.status.idle": "2025-05-24T13:49:21.602446Z",
     "shell.execute_reply": "2025-05-24T13:49:21.601782Z"
    }
   },
   "outputs": [],
   "source": [
    "import numpy as np\n",
    "from scipy.optimize import minimize"
   ]
  },
  {
   "cell_type": "markdown",
   "metadata": {},
   "source": [
    "Define Q and c"
   ]
  },
  {
   "cell_type": "code",
   "execution_count": 3,
   "metadata": {
    "execution": {
     "iopub.execute_input": "2025-05-24T13:49:21.606367Z",
     "iopub.status.busy": "2025-05-24T13:49:21.606181Z",
     "iopub.status.idle": "2025-05-24T13:49:21.609825Z",
     "shell.execute_reply": "2025-05-24T13:49:21.609048Z"
    }
   },
   "outputs": [],
   "source": [
    "Q = np.array([[2, 1, 0],\n",
    "              [1, 2, 0],\n",
    "              [0, 0, 1]])\n",
    "c = np.array([5, 4, 3])"
   ]
  },
  {
   "cell_type": "markdown",
   "metadata": {},
   "source": [
    "Define the objective function (negative because we want to maximize)"
   ]
  },
  {
   "cell_type": "code",
   "execution_count": 4,
   "metadata": {
    "execution": {
     "iopub.execute_input": "2025-05-24T13:49:21.614128Z",
     "iopub.status.busy": "2025-05-24T13:49:21.613949Z",
     "iopub.status.idle": "2025-05-24T13:49:21.616823Z",
     "shell.execute_reply": "2025-05-24T13:49:21.616285Z"
    }
   },
   "outputs": [],
   "source": [
    "def f(x):\n",
    "    return 0.5 * x @ Q @ x - c @ x"
   ]
  },
  {
   "cell_type": "markdown",
   "metadata": {},
   "source": [
    "Initial guess"
   ]
  },
  {
   "cell_type": "code",
   "execution_count": 5,
   "metadata": {
    "execution": {
     "iopub.execute_input": "2025-05-24T13:49:21.620989Z",
     "iopub.status.busy": "2025-05-24T13:49:21.620773Z",
     "iopub.status.idle": "2025-05-24T13:49:21.624120Z",
     "shell.execute_reply": "2025-05-24T13:49:21.623428Z"
    }
   },
   "outputs": [],
   "source": [
    "x0 = np.zeros(3)"
   ]
  },
  {
   "cell_type": "markdown",
   "metadata": {},
   "source": [
    "Solve"
   ]
  },
  {
   "cell_type": "code",
   "execution_count": 6,
   "metadata": {
    "execution": {
     "iopub.execute_input": "2025-05-24T13:49:21.627139Z",
     "iopub.status.busy": "2025-05-24T13:49:21.626924Z",
     "iopub.status.idle": "2025-05-24T13:49:21.633789Z",
     "shell.execute_reply": "2025-05-24T13:49:21.633081Z"
    }
   },
   "outputs": [],
   "source": [
    "result = minimize(f, x0)"
   ]
  },
  {
   "cell_type": "markdown",
   "metadata": {},
   "source": [
    "Output"
   ]
  },
  {
   "cell_type": "code",
   "execution_count": 7,
   "metadata": {
    "execution": {
     "iopub.execute_input": "2025-05-24T13:49:21.659756Z",
     "iopub.status.busy": "2025-05-24T13:49:21.659474Z",
     "iopub.status.idle": "2025-05-24T13:49:21.665935Z",
     "shell.execute_reply": "2025-05-24T13:49:21.664845Z"
    }
   },
   "outputs": [
    {
     "name": "stdout",
     "output_type": "stream",
     "text": [
      "Optimal x: [2.00000058 1.00000008 3.00000122]\n",
      "Maximum value: 11.499999999998863\n"
     ]
    }
   ],
   "source": [
    "print(\"Optimal x:\", result.x)\n",
    "print(\"Maximum value:\", -result.fun)"
   ]
  }
 ],
 "metadata": {
  "kernelspec": {
   "display_name": "Python 3",
   "language": "python",
   "name": "python3"
  },
  "language_info": {
   "codemirror_mode": {
    "name": "ipython",
    "version": 3
   },
   "file_extension": ".py",
   "mimetype": "text/x-python",
   "name": "python",
   "nbconvert_exporter": "python",
   "pygments_lexer": "ipython3",
   "version": "3.8.10"
  }
 },
 "nbformat": 4,
 "nbformat_minor": 2
}
