{
 "cells": [
  {
   "cell_type": "code",
   "execution_count": 1,
   "metadata": {
    "execution": {
     "iopub.execute_input": "2025-05-24T13:46:08.891908Z",
     "iopub.status.busy": "2025-05-24T13:46:08.891459Z",
     "iopub.status.idle": "2025-05-24T13:46:08.897687Z",
     "shell.execute_reply": "2025-05-24T13:46:08.896404Z"
    }
   },
   "outputs": [],
   "source": [
    "#!/usr/bin/env python"
   ]
  },
  {
   "cell_type": "markdown",
   "metadata": {},
   "source": [
    "%% [markdown]<br>\n",
    "### Problem: Maximize Happiness<br>\n",
    "We want to maximize:<br>\n",
    "$$<br>\n",
    "-\\frac{1}{2}x^\\top Q x + c^\\top x + d,<br>\n",
    "\\quad \\text{where} \\quad<br>\n",
    "Q = \\begin{bmatrix} 2 & 1 & 0 \\\\ 1 & 2 & 0 \\\\ 0 & 0 & 1 \\end{bmatrix},<br>\n",
    "\\quad c = \\begin{bmatrix} 5 \\\\ 4 \\\\ 3 \\end{bmatrix}<br>\n",
    "$$"
   ]
  },
  {
   "cell_type": "code",
   "execution_count": 2,
   "metadata": {
    "execution": {
     "iopub.execute_input": "2025-05-24T13:46:08.901658Z",
     "iopub.status.busy": "2025-05-24T13:46:08.901398Z",
     "iopub.status.idle": "2025-05-24T13:46:09.181451Z",
     "shell.execute_reply": "2025-05-24T13:46:09.180559Z"
    }
   },
   "outputs": [],
   "source": [
    "import numpy as np\n",
    "from scipy.optimize import minimize"
   ]
  },
  {
   "cell_type": "markdown",
   "metadata": {},
   "source": [
    "Define Q and c"
   ]
  },
  {
   "cell_type": "code",
   "execution_count": 3,
   "metadata": {
    "execution": {
     "iopub.execute_input": "2025-05-24T13:46:09.184711Z",
     "iopub.status.busy": "2025-05-24T13:46:09.184542Z",
     "iopub.status.idle": "2025-05-24T13:46:09.187619Z",
     "shell.execute_reply": "2025-05-24T13:46:09.187131Z"
    }
   },
   "outputs": [],
   "source": [
    "Q = np.array([[2, 1, 0],\n",
    "              [1, 2, 0],\n",
    "              [0, 0, 1]])\n",
    "c = np.array([5, 4, 3])"
   ]
  },
  {
   "cell_type": "markdown",
   "metadata": {},
   "source": [
    "Define the objective function (negative because we want to maximize)"
   ]
  },
  {
   "cell_type": "code",
   "execution_count": 4,
   "metadata": {
    "execution": {
     "iopub.execute_input": "2025-05-24T13:46:09.191248Z",
     "iopub.status.busy": "2025-05-24T13:46:09.191086Z",
     "iopub.status.idle": "2025-05-24T13:46:09.196200Z",
     "shell.execute_reply": "2025-05-24T13:46:09.193221Z"
    }
   },
   "outputs": [],
   "source": [
    "def f(x):\n",
    "    return 0.5 * x @ Q @ x - c @ x"
   ]
  },
  {
   "cell_type": "markdown",
   "metadata": {},
   "source": [
    "Initial guess"
   ]
  },
  {
   "cell_type": "code",
   "execution_count": 5,
   "metadata": {
    "execution": {
     "iopub.execute_input": "2025-05-24T13:46:09.199805Z",
     "iopub.status.busy": "2025-05-24T13:46:09.199582Z",
     "iopub.status.idle": "2025-05-24T13:46:09.203018Z",
     "shell.execute_reply": "2025-05-24T13:46:09.202115Z"
    }
   },
   "outputs": [],
   "source": [
    "x0 = np.zeros(3)"
   ]
  },
  {
   "cell_type": "markdown",
   "metadata": {},
   "source": [
    "Solve"
   ]
  },
  {
   "cell_type": "code",
   "execution_count": 6,
   "metadata": {
    "execution": {
     "iopub.execute_input": "2025-05-24T13:46:09.206321Z",
     "iopub.status.busy": "2025-05-24T13:46:09.206097Z",
     "iopub.status.idle": "2025-05-24T13:46:09.213173Z",
     "shell.execute_reply": "2025-05-24T13:46:09.212458Z"
    }
   },
   "outputs": [],
   "source": [
    "result = minimize(f, x0)"
   ]
  },
  {
   "cell_type": "markdown",
   "metadata": {},
   "source": [
    "Output"
   ]
  },
  {
   "cell_type": "code",
   "execution_count": 7,
   "metadata": {
    "execution": {
     "iopub.execute_input": "2025-05-24T13:46:09.235440Z",
     "iopub.status.busy": "2025-05-24T13:46:09.235209Z",
     "iopub.status.idle": "2025-05-24T13:46:09.241102Z",
     "shell.execute_reply": "2025-05-24T13:46:09.240189Z"
    }
   },
   "outputs": [
    {
     "name": "stdout",
     "output_type": "stream",
     "text": [
      "Optimal x: [2.00000058 1.00000008 3.00000122]\n",
      "Maximum value: 11.499999999998863\n"
     ]
    }
   ],
   "source": [
    "print(\"Optimal x:\", result.x)\n",
    "print(\"Maximum value:\", -result.fun)"
   ]
  }
 ],
 "metadata": {
  "kernelspec": {
   "display_name": "Python 3",
   "language": "python",
   "name": "python3"
  },
  "language_info": {
   "codemirror_mode": {
    "name": "ipython",
    "version": 3
   },
   "file_extension": ".py",
   "mimetype": "text/x-python",
   "name": "python",
   "nbconvert_exporter": "python",
   "pygments_lexer": "ipython3",
   "version": "3.8.10"
  }
 },
 "nbformat": 4,
 "nbformat_minor": 2
}
