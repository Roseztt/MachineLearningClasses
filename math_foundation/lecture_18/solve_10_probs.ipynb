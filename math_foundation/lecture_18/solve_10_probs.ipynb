{
 "cells": [
  {
   "cell_type": "code",
   "execution_count": 1,
   "metadata": {
    "execution": {
     "iopub.execute_input": "2025-05-23T15:23:52.010394Z",
     "iopub.status.busy": "2025-05-23T15:23:52.009926Z",
     "iopub.status.idle": "2025-05-23T15:23:52.292047Z",
     "shell.execute_reply": "2025-05-23T15:23:52.291171Z"
    }
   },
   "outputs": [],
   "source": [
    "#!/usr/bin/env python\n",
    "import numpy as np\n",
    "from scipy.optimize import minimize"
   ]
  },
  {
   "cell_type": "markdown",
   "metadata": {},
   "source": [
    "Problem 1"
   ]
  },
  {
   "cell_type": "code",
   "execution_count": 2,
   "metadata": {
    "execution": {
     "iopub.execute_input": "2025-05-23T15:23:52.295094Z",
     "iopub.status.busy": "2025-05-23T15:23:52.294941Z",
     "iopub.status.idle": "2025-05-23T15:23:52.300544Z",
     "shell.execute_reply": "2025-05-23T15:23:52.299814Z"
    }
   },
   "outputs": [
    {
     "name": "stdout",
     "output_type": "stream",
     "text": [
      "1: [2.00000002]\n"
     ]
    }
   ],
   "source": [
    "def f1(x):  # $$ f(x) = x^2 - 4x + 3 $$\n",
    "    return x[0]**2 - 4*x[0] + 3\n",
    "result = minimize(f1, [0])\n",
    "print(\"1:\", result.x)"
   ]
  },
  {
   "cell_type": "markdown",
   "metadata": {},
   "source": [
    "Problem 2"
   ]
  },
  {
   "cell_type": "code",
   "execution_count": 3,
   "metadata": {
    "execution": {
     "iopub.execute_input": "2025-05-23T15:23:52.333948Z",
     "iopub.status.busy": "2025-05-23T15:23:52.333694Z",
     "iopub.status.idle": "2025-05-23T15:23:52.340982Z",
     "shell.execute_reply": "2025-05-23T15:23:52.340175Z"
    }
   },
   "outputs": [
    {
     "name": "stdout",
     "output_type": "stream",
     "text": [
      "2: [2.00000002]\n"
     ]
    }
   ],
   "source": [
    "def f2(x):  # $$ f(x) = 2x^2 - 8x + 5 $$\n",
    "    return 2*x[0]**2 - 8*x[0] + 5\n",
    "result = minimize(f2, [0])\n",
    "print(\"2:\", result.x)"
   ]
  },
  {
   "cell_type": "markdown",
   "metadata": {},
   "source": [
    "Problem 3"
   ]
  },
  {
   "cell_type": "code",
   "execution_count": 4,
   "metadata": {
    "execution": {
     "iopub.execute_input": "2025-05-23T15:23:52.344091Z",
     "iopub.status.busy": "2025-05-23T15:23:52.343805Z",
     "iopub.status.idle": "2025-05-23T15:23:52.350650Z",
     "shell.execute_reply": "2025-05-23T15:23:52.350131Z"
    }
   },
   "outputs": [
    {
     "name": "stdout",
     "output_type": "stream",
     "text": [
      "3: [2.99999995 2.00000001]\n"
     ]
    }
   ],
   "source": [
    "def f3(v):  # $$ f(x, y) = x^2 + y^2 - 6x - 4y + 13 $$\n",
    "    x, y = v\n",
    "    return x**2 + y**2 - 6*x - 4*y + 13\n",
    "result = minimize(f3, [0, 0])\n",
    "print(\"3:\", result.x)"
   ]
  },
  {
   "cell_type": "markdown",
   "metadata": {},
   "source": [
    "Problem 4"
   ]
  },
  {
   "cell_type": "code",
   "execution_count": 5,
   "metadata": {
    "execution": {
     "iopub.execute_input": "2025-05-23T15:23:52.353335Z",
     "iopub.status.busy": "2025-05-23T15:23:52.353172Z",
     "iopub.status.idle": "2025-05-23T15:23:52.358407Z",
     "shell.execute_reply": "2025-05-23T15:23:52.357816Z"
    }
   },
   "outputs": [
    {
     "name": "stdout",
     "output_type": "stream",
     "text": [
      "4: [ 1.99999998 -1.00000002]\n"
     ]
    }
   ],
   "source": [
    "def f4(v):  # $$ f(x, y) = (x-2)^2 + (y+1)^2 $$\n",
    "    x, y = v\n",
    "    return (x - 2)**2 + (y + 1)**2\n",
    "result = minimize(f4, [0, 0])\n",
    "print(\"4:\", result.x)"
   ]
  },
  {
   "cell_type": "markdown",
   "metadata": {},
   "source": [
    "Problem 5"
   ]
  },
  {
   "cell_type": "code",
   "execution_count": 6,
   "metadata": {
    "execution": {
     "iopub.execute_input": "2025-05-23T15:23:52.361472Z",
     "iopub.status.busy": "2025-05-23T15:23:52.361285Z",
     "iopub.status.idle": "2025-05-23T15:23:52.367397Z",
     "shell.execute_reply": "2025-05-23T15:23:52.366826Z"
    }
   },
   "outputs": [
    {
     "name": "stdout",
     "output_type": "stream",
     "text": [
      "5: [1.00000003 1.49999998]\n"
     ]
    }
   ],
   "source": [
    "Q5 = np.array([[2, 0], [0, 2]])\n",
    "c5 = np.array([4, 6])\n",
    "def f5(x):  # $$ f(x) = x^T Q x - c^T x $$\n",
    "    return x @ Q5 @ x - c5 @ x\n",
    "result = minimize(f5, [0, 0])\n",
    "print(\"5:\", result.x)"
   ]
  },
  {
   "cell_type": "markdown",
   "metadata": {},
   "source": [
    "Problem 6"
   ]
  },
  {
   "cell_type": "code",
   "execution_count": 7,
   "metadata": {
    "execution": {
     "iopub.execute_input": "2025-05-23T15:23:52.385007Z",
     "iopub.status.busy": "2025-05-23T15:23:52.384738Z",
     "iopub.status.idle": "2025-05-23T15:23:52.395040Z",
     "shell.execute_reply": "2025-05-23T15:23:52.394099Z"
    }
   },
   "outputs": [
    {
     "name": "stdout",
     "output_type": "stream",
     "text": [
      "6: [ 1.00000848e+00 -5.93994266e-06]\n"
     ]
    }
   ],
   "source": [
    "Q6 = np.array([[1, 1], [1, 2]])\n",
    "c6 = np.array([1, 1])\n",
    "def f6(x):  # $$ f(x) = \\frac{1}{2} x^T Q x - c^T x $$\n",
    "    return 0.5 * x @ Q6 @ x - c6 @ x\n",
    "result = minimize(f6, [0, 0])\n",
    "print(\"6:\", result.x)"
   ]
  },
  {
   "cell_type": "markdown",
   "metadata": {},
   "source": [
    "Problem 7"
   ]
  },
  {
   "cell_type": "code",
   "execution_count": 8,
   "metadata": {
    "execution": {
     "iopub.execute_input": "2025-05-23T15:23:52.398979Z",
     "iopub.status.busy": "2025-05-23T15:23:52.398823Z",
     "iopub.status.idle": "2025-05-23T15:23:52.405415Z",
     "shell.execute_reply": "2025-05-23T15:23:52.404897Z"
    }
   },
   "outputs": [
    {
     "name": "stdout",
     "output_type": "stream",
     "text": [
      "7: [0.99999999 0.99999998]\n"
     ]
    }
   ],
   "source": [
    "A7 = np.array([[3, 0], [0, 1]])\n",
    "b7 = np.array([6, 2])\n",
    "def f7(x):  # $$ f(x) = x^T A x - b^T x $$\n",
    "    return x @ A7 @ x - b7 @ x\n",
    "result = minimize(f7, [0, 0])\n",
    "print(\"7:\", result.x)"
   ]
  },
  {
   "cell_type": "markdown",
   "metadata": {},
   "source": [
    "Problem 8"
   ]
  },
  {
   "cell_type": "code",
   "execution_count": 9,
   "metadata": {
    "execution": {
     "iopub.execute_input": "2025-05-23T15:23:52.408548Z",
     "iopub.status.busy": "2025-05-23T15:23:52.408367Z",
     "iopub.status.idle": "2025-05-23T15:23:52.414626Z",
     "shell.execute_reply": "2025-05-23T15:23:52.413937Z"
    }
   },
   "outputs": [
    {
     "name": "stdout",
     "output_type": "stream",
     "text": [
      "8: [ 5.00000033 -2.99999952]\n"
     ]
    }
   ],
   "source": [
    "c8 = np.array([5, -3])\n",
    "def f8(x):  # $$ f(x) = ||x - c||^2 $$\n",
    "    return np.sum((x - c8)**2)\n",
    "result = minimize(f8, [0, 0])\n",
    "print(\"8:\", result.x)"
   ]
  },
  {
   "cell_type": "markdown",
   "metadata": {},
   "source": [
    "Problem 9"
   ]
  },
  {
   "cell_type": "code",
   "execution_count": 10,
   "metadata": {
    "execution": {
     "iopub.execute_input": "2025-05-23T15:23:52.417602Z",
     "iopub.status.busy": "2025-05-23T15:23:52.417420Z",
     "iopub.status.idle": "2025-05-23T15:23:52.423377Z",
     "shell.execute_reply": "2025-05-23T15:23:52.422688Z"
    }
   },
   "outputs": [
    {
     "name": "stdout",
     "output_type": "stream",
     "text": [
      "9: [0.99999999 0.99999999]\n"
     ]
    }
   ],
   "source": [
    "one = np.array([1, 1])\n",
    "def f9(x):  # $$ f(x) = (x - 1)^T (x - 1) $$\n",
    "    return np.sum((x - one)**2)\n",
    "result = minimize(f9, [0, 0])\n",
    "print(\"9:\", result.x)"
   ]
  },
  {
   "cell_type": "markdown",
   "metadata": {},
   "source": [
    "Problem 10"
   ]
  },
  {
   "cell_type": "code",
   "execution_count": 11,
   "metadata": {
    "execution": {
     "iopub.execute_input": "2025-05-23T15:23:52.426344Z",
     "iopub.status.busy": "2025-05-23T15:23:52.426144Z",
     "iopub.status.idle": "2025-05-23T15:23:52.432377Z",
     "shell.execute_reply": "2025-05-23T15:23:52.431754Z"
    }
   },
   "outputs": [
    {
     "name": "stdout",
     "output_type": "stream",
     "text": [
      "10: [ 0.9999999   2.0000001  -2.99999998]\n"
     ]
    }
   ],
   "source": [
    "def f10(v):  # $$ f(x, y, z) = x^2 + y^2 + z^2 - 2x - 4y + 6z $$\n",
    "    x, y, z = v\n",
    "    return x**2 + y**2 + z**2 - 2*x - 4*y + 6*z\n",
    "result = minimize(f10, [0, 0, 0])\n",
    "print(\"10:\", result.x)"
   ]
  }
 ],
 "metadata": {
  "kernelspec": {
   "display_name": "Python 3",
   "language": "python",
   "name": "python3"
  },
  "language_info": {
   "codemirror_mode": {
    "name": "ipython",
    "version": 3
   },
   "file_extension": ".py",
   "mimetype": "text/x-python",
   "name": "python",
   "nbconvert_exporter": "python",
   "pygments_lexer": "ipython3",
   "version": "3.8.10"
  }
 },
 "nbformat": 4,
 "nbformat_minor": 2
}
