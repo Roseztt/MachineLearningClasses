{
 "cells": [
  {
   "cell_type": "code",
   "execution_count": 1,
   "metadata": {
    "execution": {
     "iopub.execute_input": "2025-05-23T14:58:13.876706Z",
     "iopub.status.busy": "2025-05-23T14:58:13.876224Z",
     "iopub.status.idle": "2025-05-23T14:58:13.882371Z",
     "shell.execute_reply": "2025-05-23T14:58:13.881338Z"
    }
   },
   "outputs": [],
   "source": [
    "#!/usr/bin/env python"
   ]
  },
  {
   "cell_type": "markdown",
   "metadata": {},
   "source": [
    "We want to minimize the function:<br>\n",
    "$$ f(x) = (x - 3)^2 + 1 $$"
   ]
  },
  {
   "cell_type": "code",
   "execution_count": 2,
   "metadata": {
    "execution": {
     "iopub.execute_input": "2025-05-23T14:58:13.886314Z",
     "iopub.status.busy": "2025-05-23T14:58:13.886061Z",
     "iopub.status.idle": "2025-05-23T14:58:14.182327Z",
     "shell.execute_reply": "2025-05-23T14:58:14.181676Z"
    }
   },
   "outputs": [],
   "source": [
    "from scipy.optimize import minimize"
   ]
  },
  {
   "cell_type": "markdown",
   "metadata": {},
   "source": [
    "Define the univariate objective function"
   ]
  },
  {
   "cell_type": "code",
   "execution_count": 3,
   "metadata": {
    "execution": {
     "iopub.execute_input": "2025-05-23T14:58:14.185957Z",
     "iopub.status.busy": "2025-05-23T14:58:14.185802Z",
     "iopub.status.idle": "2025-05-23T14:58:14.188677Z",
     "shell.execute_reply": "2025-05-23T14:58:14.188103Z"
    }
   },
   "outputs": [],
   "source": [
    "def f(x):\n",
    "    return (x - 3)**2 + 1"
   ]
  },
  {
   "cell_type": "markdown",
   "metadata": {},
   "source": [
    "Initial guess"
   ]
  },
  {
   "cell_type": "code",
   "execution_count": 4,
   "metadata": {
    "execution": {
     "iopub.execute_input": "2025-05-23T14:58:14.191921Z",
     "iopub.status.busy": "2025-05-23T14:58:14.191749Z",
     "iopub.status.idle": "2025-05-23T14:58:14.194244Z",
     "shell.execute_reply": "2025-05-23T14:58:14.193674Z"
    }
   },
   "outputs": [],
   "source": [
    "x0 = 0"
   ]
  },
  {
   "cell_type": "markdown",
   "metadata": {},
   "source": [
    "Minimize"
   ]
  },
  {
   "cell_type": "code",
   "execution_count": 5,
   "metadata": {
    "execution": {
     "iopub.execute_input": "2025-05-23T14:58:14.196905Z",
     "iopub.status.busy": "2025-05-23T14:58:14.196755Z",
     "iopub.status.idle": "2025-05-23T14:58:14.200595Z",
     "shell.execute_reply": "2025-05-23T14:58:14.200091Z"
    }
   },
   "outputs": [],
   "source": [
    "result = minimize(f, x0)"
   ]
  },
  {
   "cell_type": "markdown",
   "metadata": {},
   "source": [
    "Output"
   ]
  },
  {
   "cell_type": "code",
   "execution_count": 6,
   "metadata": {
    "execution": {
     "iopub.execute_input": "2025-05-23T14:58:14.203170Z",
     "iopub.status.busy": "2025-05-23T14:58:14.203021Z",
     "iopub.status.idle": "2025-05-23T14:58:14.206733Z",
     "shell.execute_reply": "2025-05-23T14:58:14.205846Z"
    }
   },
   "outputs": [
    {
     "name": "stdout",
     "output_type": "stream",
     "text": [
      "Optimal x: 3.0000000283269603\n",
      "Minimum value: 1.0000000000000009\n"
     ]
    }
   ],
   "source": [
    "print(\"Optimal x:\", result.x[0])\n",
    "print(\"Minimum value:\", result.fun)"
   ]
  }
 ],
 "metadata": {
  "kernelspec": {
   "display_name": "Python 3",
   "language": "python",
   "name": "python3"
  },
  "language_info": {
   "codemirror_mode": {
    "name": "ipython",
    "version": 3
   },
   "file_extension": ".py",
   "mimetype": "text/x-python",
   "name": "python",
   "nbconvert_exporter": "python",
   "pygments_lexer": "ipython3",
   "version": "3.8.10"
  }
 },
 "nbformat": 4,
 "nbformat_minor": 2
}
