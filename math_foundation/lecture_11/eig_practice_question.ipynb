{
 "cells": [
  {
   "cell_type": "code",
   "execution_count": 1,
   "metadata": {
    "execution": {
     "iopub.execute_input": "2025-04-28T14:47:03.118171Z",
     "iopub.status.busy": "2025-04-28T14:47:03.117697Z",
     "iopub.status.idle": "2025-04-28T14:47:03.287912Z",
     "shell.execute_reply": "2025-04-28T14:47:03.287158Z"
    }
   },
   "outputs": [],
   "source": [
    "#!/usr/bin/env python\n",
    "import numpy as np\n",
    "from numpy import diag\n",
    "from numpy.linalg import eig, inv\n",
    "from scipy.linalg import null_space"
   ]
  },
  {
   "cell_type": "markdown",
   "metadata": {},
   "source": [
    "Define the matrix A"
   ]
  },
  {
   "cell_type": "code",
   "execution_count": 2,
   "metadata": {
    "execution": {
     "iopub.execute_input": "2025-04-28T14:47:03.291709Z",
     "iopub.status.busy": "2025-04-28T14:47:03.291515Z",
     "iopub.status.idle": "2025-04-28T14:47:03.295344Z",
     "shell.execute_reply": "2025-04-28T14:47:03.294059Z"
    }
   },
   "outputs": [],
   "source": [
    "A = np.array([[-6, 3],\n",
    "              [4, 5]])"
   ]
  },
  {
   "cell_type": "markdown",
   "metadata": {},
   "source": [
    "Eigenvalues and eigenvectors "
   ]
  },
  {
   "cell_type": "code",
   "execution_count": 3,
   "metadata": {
    "execution": {
     "iopub.execute_input": "2025-04-28T14:47:03.298637Z",
     "iopub.status.busy": "2025-04-28T14:47:03.298312Z",
     "iopub.status.idle": "2025-04-28T14:47:03.304947Z",
     "shell.execute_reply": "2025-04-28T14:47:03.304132Z"
    }
   },
   "outputs": [
    {
     "name": "stdout",
     "output_type": "stream",
     "text": [
      "[-7.  6.]\n",
      "[[-0.9486833  -0.24253563]\n",
      " [ 0.31622777 -0.9701425 ]]\n"
     ]
    }
   ],
   "source": [
    "[λ,V] = eig(A)\n",
    "print(λ)\n",
    "print(V)"
   ]
  },
  {
   "cell_type": "markdown",
   "metadata": {},
   "source": [
    "Null Space"
   ]
  },
  {
   "cell_type": "code",
   "execution_count": 4,
   "metadata": {
    "execution": {
     "iopub.execute_input": "2025-04-28T14:47:03.379781Z",
     "iopub.status.busy": "2025-04-28T14:47:03.379608Z",
     "iopub.status.idle": "2025-04-28T14:47:03.383200Z",
     "shell.execute_reply": "2025-04-28T14:47:03.382608Z"
    }
   },
   "outputs": [
    {
     "name": "stdout",
     "output_type": "stream",
     "text": [
      "[]\n"
     ]
    }
   ],
   "source": [
    "print(null_space(V.T))"
   ]
  },
  {
   "cell_type": "markdown",
   "metadata": {},
   "source": [
    "Diagonalization"
   ]
  },
  {
   "cell_type": "code",
   "execution_count": 5,
   "metadata": {
    "execution": {
     "iopub.execute_input": "2025-04-28T14:47:03.386780Z",
     "iopub.status.busy": "2025-04-28T14:47:03.386536Z",
     "iopub.status.idle": "2025-04-28T14:47:03.391108Z",
     "shell.execute_reply": "2025-04-28T14:47:03.390271Z"
    }
   },
   "outputs": [
    {
     "name": "stdout",
     "output_type": "stream",
     "text": [
      "[[-6.  3.]\n",
      " [ 4.  5.]]\n"
     ]
    }
   ],
   "source": [
    "Σ = diag(λ)\n",
    "Vˉᣳ = inv(V)\n",
    "print(V @ Σ @ Vˉᣳ)"
   ]
  },
  {
   "cell_type": "markdown",
   "metadata": {},
   "source": [
    "Not symmetric"
   ]
  },
  {
   "cell_type": "code",
   "execution_count": 6,
   "metadata": {
    "execution": {
     "iopub.execute_input": "2025-04-28T14:47:03.394767Z",
     "iopub.status.busy": "2025-04-28T14:47:03.394609Z",
     "iopub.status.idle": "2025-04-28T14:47:03.398074Z",
     "shell.execute_reply": "2025-04-28T14:47:03.397479Z"
    }
   },
   "outputs": [
    {
     "name": "stdout",
     "output_type": "stream",
     "text": [
      "[[-5.94705882  3.51176471]\n",
      " [ 3.51176471  4.94705882]]\n"
     ]
    }
   ],
   "source": [
    "print(V @ Σ @ V.T)"
   ]
  }
 ],
 "metadata": {
  "kernelspec": {
   "display_name": "Python 3",
   "language": "python",
   "name": "python3"
  },
  "language_info": {
   "codemirror_mode": {
    "name": "ipython",
    "version": 3
   },
   "file_extension": ".py",
   "mimetype": "text/x-python",
   "name": "python",
   "nbconvert_exporter": "python",
   "pygments_lexer": "ipython3",
   "version": "3.8.10"
  }
 },
 "nbformat": 4,
 "nbformat_minor": 2
}
