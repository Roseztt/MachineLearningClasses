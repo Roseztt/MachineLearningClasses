{
 "cells": [
  {
   "cell_type": "code",
   "execution_count": 1,
   "metadata": {
    "execution": {
     "iopub.execute_input": "2025-05-08T16:06:56.373708Z",
     "iopub.status.busy": "2025-05-08T16:06:56.373255Z",
     "iopub.status.idle": "2025-05-08T16:06:56.379333Z",
     "shell.execute_reply": "2025-05-08T16:06:56.378161Z"
    }
   },
   "outputs": [],
   "source": [
    "#!/usr/bin/env python"
   ]
  },
  {
   "cell_type": "code",
   "execution_count": 2,
   "metadata": {
    "execution": {
     "iopub.execute_input": "2025-05-08T16:06:56.383132Z",
     "iopub.status.busy": "2025-05-08T16:06:56.382882Z",
     "iopub.status.idle": "2025-05-08T16:06:56.497381Z",
     "shell.execute_reply": "2025-05-08T16:06:56.496116Z"
    }
   },
   "outputs": [],
   "source": [
    "import numpy as np\n",
    "from numpy.linalg import eigh\n",
    "from numpy import genfromtxt"
   ]
  },
  {
   "cell_type": "code",
   "execution_count": 3,
   "metadata": {
    "execution": {
     "iopub.execute_input": "2025-05-08T16:06:56.503699Z",
     "iopub.status.busy": "2025-05-08T16:06:56.502985Z",
     "iopub.status.idle": "2025-05-08T16:06:57.203877Z",
     "shell.execute_reply": "2025-05-08T16:06:57.203220Z"
    }
   },
   "outputs": [
    {
     "name": "stdout",
     "output_type": "stream",
     "text": [
      "A[0,0] original was 0.0736\n"
     ]
    }
   ],
   "source": [
    "A = genfromtxt('imputation.csv', delimiter=',')\n",
    "print('A[0,0] original was 0.0736')\n",
    "A[0, 0] = 0 # setting unknow value to 0"
   ]
  },
  {
   "cell_type": "markdown",
   "metadata": {},
   "source": [
    "Step 5: Eigendecomposition"
   ]
  },
  {
   "cell_type": "code",
   "execution_count": 4,
   "metadata": {
    "execution": {
     "iopub.execute_input": "2025-05-08T16:06:57.250428Z",
     "iopub.status.busy": "2025-05-08T16:06:57.250093Z",
     "iopub.status.idle": "2025-05-08T16:06:57.873694Z",
     "shell.execute_reply": "2025-05-08T16:06:57.872436Z"
    }
   },
   "outputs": [],
   "source": [
    "[Ū, σ̄ , V̄ᵀ] = np.linalg.svd(A)  "
   ]
  },
  {
   "cell_type": "markdown",
   "metadata": {},
   "source": [
    "I already printed out the singular values <br>\n",
    "and identified that the first 4 eigenvectors are core"
   ]
  },
  {
   "cell_type": "code",
   "execution_count": 5,
   "metadata": {
    "execution": {
     "iopub.execute_input": "2025-05-08T16:06:57.880059Z",
     "iopub.status.busy": "2025-05-08T16:06:57.879717Z",
     "iopub.status.idle": "2025-05-08T16:06:57.887542Z",
     "shell.execute_reply": "2025-05-08T16:06:57.886433Z"
    }
   },
   "outputs": [],
   "source": [
    "k = 4  \n",
    "idx = np.argsort(np.abs(σ̄))[::-1]\n",
    "σ̄ = σ̄[idx[:k]]\t\t# truncate the singular values\n",
    "Ū = Ū[:, idx[:k]]\t# truncate the U \n",
    "V̄ᵀ = V̄ᵀ[idx[:k], :] # truncate the V"
   ]
  },
  {
   "cell_type": "markdown",
   "metadata": {},
   "source": [
    "Step 7: Reconstruct B_lowrank = V Σ V^T"
   ]
  },
  {
   "cell_type": "code",
   "execution_count": 6,
   "metadata": {
    "execution": {
     "iopub.execute_input": "2025-05-08T16:06:57.893451Z",
     "iopub.status.busy": "2025-05-08T16:06:57.892827Z",
     "iopub.status.idle": "2025-05-08T16:06:57.903596Z",
     "shell.execute_reply": "2025-05-08T16:06:57.902359Z"
    }
   },
   "outputs": [],
   "source": [
    "Σ̄  = np.diag(σ̄)\n",
    "Ā = Ū  @ Σ̄ @ V̄ᵀ"
   ]
  },
  {
   "cell_type": "markdown",
   "metadata": {},
   "source": [
    "Step 8: Print reconstructed A[0,0]"
   ]
  },
  {
   "cell_type": "code",
   "execution_count": 7,
   "metadata": {
    "execution": {
     "iopub.execute_input": "2025-05-08T16:06:57.910026Z",
     "iopub.status.busy": "2025-05-08T16:06:57.909675Z",
     "iopub.status.idle": "2025-05-08T16:06:57.916612Z",
     "shell.execute_reply": "2025-05-08T16:06:57.915446Z"
    }
   },
   "outputs": [
    {
     "name": "stdout",
     "output_type": "stream",
     "text": [
      "Reconstructed A[0,0]: 0.07324538395817602\n"
     ]
    }
   ],
   "source": [
    "print(\"Reconstructed A[0,0]:\", Ā[0, 0])"
   ]
  }
 ],
 "metadata": {
  "kernelspec": {
   "display_name": "Python 3",
   "language": "python",
   "name": "python3"
  },
  "language_info": {
   "codemirror_mode": {
    "name": "ipython",
    "version": 3
   },
   "file_extension": ".py",
   "mimetype": "text/x-python",
   "name": "python",
   "nbconvert_exporter": "python",
   "pygments_lexer": "ipython3",
   "version": "3.8.10"
  }
 },
 "nbformat": 4,
 "nbformat_minor": 2
}
