{
 "cells": [
  {
   "cell_type": "code",
   "execution_count": 1,
   "metadata": {
    "execution": {
     "iopub.execute_input": "2025-05-12T12:47:02.088364Z",
     "iopub.status.busy": "2025-05-12T12:47:02.087904Z",
     "iopub.status.idle": "2025-05-12T12:47:02.215595Z",
     "shell.execute_reply": "2025-05-12T12:47:02.214831Z"
    }
   },
   "outputs": [],
   "source": [
    "#!/usr/bin/env python\n",
    "import numpy as np"
   ]
  },
  {
   "cell_type": "markdown",
   "metadata": {},
   "source": [
    "Define the matrix"
   ]
  },
  {
   "cell_type": "code",
   "execution_count": 2,
   "metadata": {
    "execution": {
     "iopub.execute_input": "2025-05-12T12:47:02.218899Z",
     "iopub.status.busy": "2025-05-12T12:47:02.218698Z",
     "iopub.status.idle": "2025-05-12T12:47:02.221890Z",
     "shell.execute_reply": "2025-05-12T12:47:02.221272Z"
    }
   },
   "outputs": [],
   "source": [
    "A = np.array([\n",
    "    [4, 2],\n",
    "    [2, 3]\n",
    "], dtype=float)"
   ]
  },
  {
   "cell_type": "markdown",
   "metadata": {},
   "source": [
    "Eigendecomposition"
   ]
  },
  {
   "cell_type": "code",
   "execution_count": 3,
   "metadata": {
    "execution": {
     "iopub.execute_input": "2025-05-12T12:47:02.224712Z",
     "iopub.status.busy": "2025-05-12T12:47:02.224518Z",
     "iopub.status.idle": "2025-05-12T12:47:02.227832Z",
     "shell.execute_reply": "2025-05-12T12:47:02.227141Z"
    }
   },
   "outputs": [],
   "source": [
    "λ, V = np.linalg.eigh(A)  # Since A is symmetric, use eigh"
   ]
  },
  {
   "cell_type": "markdown",
   "metadata": {},
   "source": [
    "Sort eigenvalues and eigenvectors from largest to smallest for clarity"
   ]
  },
  {
   "cell_type": "code",
   "execution_count": 4,
   "metadata": {
    "execution": {
     "iopub.execute_input": "2025-05-12T12:47:02.230709Z",
     "iopub.status.busy": "2025-05-12T12:47:02.230516Z",
     "iopub.status.idle": "2025-05-12T12:47:02.234388Z",
     "shell.execute_reply": "2025-05-12T12:47:02.233643Z"
    }
   },
   "outputs": [],
   "source": [
    "idx = np.argsort(λ)[::-1]\n",
    "λ = λ[idx]\n",
    "V = V[:, idx]"
   ]
  },
  {
   "cell_type": "code",
   "execution_count": 5,
   "metadata": {
    "execution": {
     "iopub.execute_input": "2025-05-12T12:47:02.237404Z",
     "iopub.status.busy": "2025-05-12T12:47:02.237181Z",
     "iopub.status.idle": "2025-05-12T12:47:02.242685Z",
     "shell.execute_reply": "2025-05-12T12:47:02.241904Z"
    }
   },
   "outputs": [
    {
     "name": "stdout",
     "output_type": "stream",
     "text": [
      "Eigenvalues: [5.56155281 1.43844719]\n",
      "Eigenvectors (columns):\n",
      " [[-0.78820544  0.61541221]\n",
      " [-0.61541221 -0.78820544]]\n"
     ]
    }
   ],
   "source": [
    "print(\"Eigenvalues:\", λ)\n",
    "print(\"Eigenvectors (columns):\\n\", V)"
   ]
  },
  {
   "cell_type": "markdown",
   "metadata": {},
   "source": [
    "Full reconstruction"
   ]
  },
  {
   "cell_type": "code",
   "execution_count": 6,
   "metadata": {
    "execution": {
     "iopub.execute_input": "2025-05-12T12:47:02.277859Z",
     "iopub.status.busy": "2025-05-12T12:47:02.277561Z",
     "iopub.status.idle": "2025-05-12T12:47:02.285473Z",
     "shell.execute_reply": "2025-05-12T12:47:02.284418Z"
    }
   },
   "outputs": [
    {
     "name": "stdout",
     "output_type": "stream",
     "text": [
      "\n",
      "Full reconstruction A:\n",
      "[[4. 2.]\n",
      " [2. 3.]]\n"
     ]
    }
   ],
   "source": [
    "v1 = V[:, 0].reshape(-1,1)\t# extract eigv 1\n",
    "v2 = V[:, 1].reshape(-1,1)\t# extract eigv 2\n",
    "A_full = λ[0] * v1 @ v1.T + λ[1] * v2 @ v2.T\n",
    "print(\"\\nFull reconstruction A:\")\n",
    "print(np.round(A_full, 4))"
   ]
  },
  {
   "cell_type": "markdown",
   "metadata": {},
   "source": [
    "Low-rank reconstruction (setting λ2 = 0)"
   ]
  },
  {
   "cell_type": "code",
   "execution_count": 7,
   "metadata": {
    "execution": {
     "iopub.execute_input": "2025-05-12T12:47:02.289004Z",
     "iopub.status.busy": "2025-05-12T12:47:02.288693Z",
     "iopub.status.idle": "2025-05-12T12:47:02.294206Z",
     "shell.execute_reply": "2025-05-12T12:47:02.293551Z"
    }
   },
   "outputs": [
    {
     "name": "stdout",
     "output_type": "stream",
     "text": [
      "\n",
      "Low-rank reconstruction A (λ2 = 0):\n",
      "[[3.4552 2.6977]\n",
      " [2.6977 2.1063]]\n"
     ]
    }
   ],
   "source": [
    "A_low_rank = λ[0] * v1 @ v1.T\n",
    "print(\"\\nLow-rank reconstruction A (λ2 = 0):\")\n",
    "print(np.round(A_low_rank, 4))"
   ]
  },
  {
   "cell_type": "markdown",
   "metadata": {},
   "source": [
    "Difference"
   ]
  },
  {
   "cell_type": "code",
   "execution_count": 8,
   "metadata": {
    "execution": {
     "iopub.execute_input": "2025-05-12T12:47:02.297128Z",
     "iopub.status.busy": "2025-05-12T12:47:02.296937Z",
     "iopub.status.idle": "2025-05-12T12:47:02.301022Z",
     "shell.execute_reply": "2025-05-12T12:47:02.300309Z"
    }
   },
   "outputs": [
    {
     "name": "stdout",
     "output_type": "stream",
     "text": [
      "\n",
      "Difference between original A and low-rank reconstruction:\n",
      "[[ 0.5448 -0.6977]\n",
      " [-0.6977  0.8937]]\n"
     ]
    }
   ],
   "source": [
    "print(\"\\nDifference between original A and low-rank reconstruction:\")\n",
    "print(np.round(A - A_low_rank, 4))"
   ]
  }
 ],
 "metadata": {
  "kernelspec": {
   "display_name": "Python 3",
   "language": "python",
   "name": "python3"
  },
  "language_info": {
   "codemirror_mode": {
    "name": "ipython",
    "version": 3
   },
   "file_extension": ".py",
   "mimetype": "text/x-python",
   "name": "python",
   "nbconvert_exporter": "python",
   "pygments_lexer": "ipython3",
   "version": "3.8.10"
  }
 },
 "nbformat": 4,
 "nbformat_minor": 2
}
