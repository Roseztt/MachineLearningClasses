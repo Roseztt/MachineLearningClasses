{
 "cells": [
  {
   "cell_type": "code",
   "execution_count": 1,
   "metadata": {
    "execution": {
     "iopub.execute_input": "2025-05-12T12:39:50.483663Z",
     "iopub.status.busy": "2025-05-12T12:39:50.483227Z",
     "iopub.status.idle": "2025-05-12T12:39:50.598920Z",
     "shell.execute_reply": "2025-05-12T12:39:50.597668Z"
    }
   },
   "outputs": [],
   "source": [
    "#!/usr/bin/env python\n",
    "import numpy as np"
   ]
  },
  {
   "cell_type": "markdown",
   "metadata": {},
   "source": [
    "Define the matrix"
   ]
  },
  {
   "cell_type": "code",
   "execution_count": 2,
   "metadata": {
    "execution": {
     "iopub.execute_input": "2025-05-12T12:39:50.605409Z",
     "iopub.status.busy": "2025-05-12T12:39:50.604662Z",
     "iopub.status.idle": "2025-05-12T12:39:50.609604Z",
     "shell.execute_reply": "2025-05-12T12:39:50.609041Z"
    }
   },
   "outputs": [],
   "source": [
    "A = np.array([\n",
    "    [4, 2],\n",
    "    [2, 3]\n",
    "], dtype=float)"
   ]
  },
  {
   "cell_type": "markdown",
   "metadata": {},
   "source": [
    "Eigendecomposition"
   ]
  },
  {
   "cell_type": "code",
   "execution_count": 3,
   "metadata": {
    "execution": {
     "iopub.execute_input": "2025-05-12T12:39:50.612587Z",
     "iopub.status.busy": "2025-05-12T12:39:50.612416Z",
     "iopub.status.idle": "2025-05-12T12:39:50.615402Z",
     "shell.execute_reply": "2025-05-12T12:39:50.614766Z"
    }
   },
   "outputs": [],
   "source": [
    "λ, V = np.linalg.eigh(A)  # Since A is symmetric, use eigh"
   ]
  },
  {
   "cell_type": "markdown",
   "metadata": {},
   "source": [
    "Sort eigenvalues and eigenvectors from largest to smallest for clarity"
   ]
  },
  {
   "cell_type": "code",
   "execution_count": 4,
   "metadata": {
    "execution": {
     "iopub.execute_input": "2025-05-12T12:39:50.618318Z",
     "iopub.status.busy": "2025-05-12T12:39:50.618162Z",
     "iopub.status.idle": "2025-05-12T12:39:50.621372Z",
     "shell.execute_reply": "2025-05-12T12:39:50.620734Z"
    }
   },
   "outputs": [],
   "source": [
    "idx = np.argsort(λ)[::-1]\n",
    "λ = λ[idx]\n",
    "V = V[:, idx]"
   ]
  },
  {
   "cell_type": "code",
   "execution_count": 5,
   "metadata": {
    "execution": {
     "iopub.execute_input": "2025-05-12T12:39:50.624252Z",
     "iopub.status.busy": "2025-05-12T12:39:50.624051Z",
     "iopub.status.idle": "2025-05-12T12:39:50.628793Z",
     "shell.execute_reply": "2025-05-12T12:39:50.628121Z"
    }
   },
   "outputs": [
    {
     "name": "stdout",
     "output_type": "stream",
     "text": [
      "Eigenvalues: [5.56155281 1.43844719]\n",
      "Eigenvectors (columns):\n",
      " [[-0.78820544  0.61541221]\n",
      " [-0.61541221 -0.78820544]]\n"
     ]
    }
   ],
   "source": [
    "print(\"Eigenvalues:\", λ)\n",
    "print(\"Eigenvectors (columns):\\n\", V)"
   ]
  },
  {
   "cell_type": "markdown",
   "metadata": {},
   "source": [
    "Full reconstruction"
   ]
  },
  {
   "cell_type": "code",
   "execution_count": 6,
   "metadata": {
    "execution": {
     "iopub.execute_input": "2025-05-12T12:39:50.699468Z",
     "iopub.status.busy": "2025-05-12T12:39:50.699137Z",
     "iopub.status.idle": "2025-05-12T12:39:50.707505Z",
     "shell.execute_reply": "2025-05-12T12:39:50.706436Z"
    }
   },
   "outputs": [
    {
     "name": "stdout",
     "output_type": "stream",
     "text": [
      "\n",
      "Full reconstruction A:\n",
      "[[4. 2.]\n",
      " [2. 3.]]\n"
     ]
    }
   ],
   "source": [
    "A_full = λ[0] * np.outer(V[:, 0], V[:, 0]) + λ[1] * np.outer(V[:, 1], V[:, 1])\n",
    "print(\"\\nFull reconstruction A:\")\n",
    "print(np.round(A_full, 4))"
   ]
  },
  {
   "cell_type": "markdown",
   "metadata": {},
   "source": [
    "Low-rank reconstruction (setting λ2 = 0)"
   ]
  },
  {
   "cell_type": "code",
   "execution_count": 7,
   "metadata": {
    "execution": {
     "iopub.execute_input": "2025-05-12T12:39:50.711381Z",
     "iopub.status.busy": "2025-05-12T12:39:50.711039Z",
     "iopub.status.idle": "2025-05-12T12:39:50.716017Z",
     "shell.execute_reply": "2025-05-12T12:39:50.715383Z"
    }
   },
   "outputs": [
    {
     "name": "stdout",
     "output_type": "stream",
     "text": [
      "\n",
      "Low-rank reconstruction A (λ2 = 0):\n",
      "[[3.4552 2.6977]\n",
      " [2.6977 2.1063]]\n"
     ]
    }
   ],
   "source": [
    "A_low_rank = λ[0] * np.outer(V[:, 0], V[:, 0])\n",
    "print(\"\\nLow-rank reconstruction A (λ2 = 0):\")\n",
    "print(np.round(A_low_rank, 4))"
   ]
  },
  {
   "cell_type": "markdown",
   "metadata": {},
   "source": [
    "Difference"
   ]
  },
  {
   "cell_type": "code",
   "execution_count": 8,
   "metadata": {
    "execution": {
     "iopub.execute_input": "2025-05-12T12:39:50.719611Z",
     "iopub.status.busy": "2025-05-12T12:39:50.719418Z",
     "iopub.status.idle": "2025-05-12T12:39:50.723762Z",
     "shell.execute_reply": "2025-05-12T12:39:50.723044Z"
    }
   },
   "outputs": [
    {
     "name": "stdout",
     "output_type": "stream",
     "text": [
      "\n",
      "Difference between original A and low-rank reconstruction:\n",
      "[[ 0.5448 -0.6977]\n",
      " [-0.6977  0.8937]]\n"
     ]
    }
   ],
   "source": [
    "print(\"\\nDifference between original A and low-rank reconstruction:\")\n",
    "print(np.round(A - A_low_rank, 4))"
   ]
  }
 ],
 "metadata": {
  "kernelspec": {
   "display_name": "Python 3",
   "language": "python",
   "name": "python3"
  },
  "language_info": {
   "codemirror_mode": {
    "name": "ipython",
    "version": 3
   },
   "file_extension": ".py",
   "mimetype": "text/x-python",
   "name": "python",
   "nbconvert_exporter": "python",
   "pygments_lexer": "ipython3",
   "version": "3.8.10"
  }
 },
 "nbformat": 4,
 "nbformat_minor": 2
}
