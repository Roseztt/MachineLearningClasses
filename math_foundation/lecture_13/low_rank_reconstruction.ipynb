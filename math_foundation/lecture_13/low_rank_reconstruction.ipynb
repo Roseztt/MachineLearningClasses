{
 "cells": [
  {
   "cell_type": "code",
   "execution_count": 1,
   "metadata": {
    "execution": {
     "iopub.execute_input": "2025-05-07T13:27:15.709080Z",
     "iopub.status.busy": "2025-05-07T13:27:15.708673Z",
     "iopub.status.idle": "2025-05-07T13:27:15.812580Z",
     "shell.execute_reply": "2025-05-07T13:27:15.811355Z"
    }
   },
   "outputs": [],
   "source": [
    "#!/usr/bin/env python\n",
    "import numpy as np\n",
    "from numpy.linalg import eig, eigh, norm\n",
    "np.set_printoptions(suppress=True, precision=4)"
   ]
  },
  {
   "cell_type": "code",
   "execution_count": 2,
   "metadata": {
    "execution": {
     "iopub.execute_input": "2025-05-07T13:27:15.818919Z",
     "iopub.status.busy": "2025-05-07T13:27:15.818551Z",
     "iopub.status.idle": "2025-05-07T13:27:15.826214Z",
     "shell.execute_reply": "2025-05-07T13:27:15.825029Z"
    }
   },
   "outputs": [],
   "source": [
    "def pretty_np_array(m, title=None, end_space=''):\n",
    "\tm = str(m)\n",
    "\tL1 = m.split('\\n')\n",
    "\tL1_max_width = len(max(L1, key=len))\n",
    "\tif title is not None:\n",
    "\t\tt1 = str.center(title, L1_max_width)\n",
    "\t\tm = t1 + '\\n' + m + end_space\n",
    "\telse: m = m + end_space\n",
    "\tprint(m, '\\n')"
   ]
  },
  {
   "cell_type": "markdown",
   "metadata": {},
   "source": [
    "Original matrix A and eigenvalue matrix Λ"
   ]
  },
  {
   "cell_type": "code",
   "execution_count": 3,
   "metadata": {
    "execution": {
     "iopub.execute_input": "2025-05-07T13:27:15.831978Z",
     "iopub.status.busy": "2025-05-07T13:27:15.831235Z",
     "iopub.status.idle": "2025-05-07T13:27:15.837086Z",
     "shell.execute_reply": "2025-05-07T13:27:15.836183Z"
    }
   },
   "outputs": [],
   "source": [
    "A = np.array([\n",
    "    [2, -2, 0, 0],\n",
    "    [-2, 2, 0, 0],\n",
    "    [0, 0, 2.5005, -2.4995],\n",
    "    [0, 0, -2.4995, 2.5005]\n",
    "])"
   ]
  },
  {
   "cell_type": "markdown",
   "metadata": {},
   "source": [
    "Eigen-decomposition (A should already be symmetric)"
   ]
  },
  {
   "cell_type": "code",
   "execution_count": 4,
   "metadata": {
    "execution": {
     "iopub.execute_input": "2025-05-07T13:27:15.840644Z",
     "iopub.status.busy": "2025-05-07T13:27:15.840337Z",
     "iopub.status.idle": "2025-05-07T13:27:15.844049Z",
     "shell.execute_reply": "2025-05-07T13:27:15.843378Z"
    }
   },
   "outputs": [],
   "source": [
    "λ, V = eigh(A)  # `eigh` guarantees real symmetric output and orthonormal V"
   ]
  },
  {
   "cell_type": "markdown",
   "metadata": {},
   "source": [
    "Verify A = V Λ Vᵀ"
   ]
  },
  {
   "cell_type": "code",
   "execution_count": 5,
   "metadata": {
    "execution": {
     "iopub.execute_input": "2025-05-07T13:27:15.847094Z",
     "iopub.status.busy": "2025-05-07T13:27:15.846906Z",
     "iopub.status.idle": "2025-05-07T13:27:15.850938Z",
     "shell.execute_reply": "2025-05-07T13:27:15.850429Z"
    }
   },
   "outputs": [
    {
     "name": "stdout",
     "output_type": "stream",
     "text": [
      " Original Reconstruction A = V Λ Vᵀ\n",
      "[[ 2.     -2.      0.      0.    ]\n",
      " [-2.      2.      0.      0.    ]\n",
      " [ 0.      0.      2.5005 -2.4995]\n",
      " [ 0.      0.     -2.4995  2.5005]] \n",
      "\n"
     ]
    }
   ],
   "source": [
    "Λ = np.diag(λ)\n",
    "Aᣳ = V @ Λ @ V.T\n",
    "pretty_np_array(Aᣳ, title='Original Reconstruction A = V Λ Vᵀ')"
   ]
  },
  {
   "cell_type": "markdown",
   "metadata": {},
   "source": [
    "Step 2 - Remove trivial eigenvalue (0)"
   ]
  },
  {
   "cell_type": "code",
   "execution_count": 6,
   "metadata": {
    "execution": {
     "iopub.execute_input": "2025-05-07T13:27:15.887738Z",
     "iopub.status.busy": "2025-05-07T13:27:15.887496Z",
     "iopub.status.idle": "2025-05-07T13:27:15.893702Z",
     "shell.execute_reply": "2025-05-07T13:27:15.892937Z"
    }
   },
   "outputs": [
    {
     "name": "stdout",
     "output_type": "stream",
     "text": [
      "Non-trivial reconstruction : Ã = Ṽ Λ̃ Ṽᵀ\n",
      "[[ 2.     -2.      0.      0.    ]\n",
      " [-2.      2.      0.      0.    ]\n",
      " [ 0.      0.      2.5005 -2.4995]\n",
      " [ 0.      0.     -2.4995  2.5005]] \n",
      "\n"
     ]
    }
   ],
   "source": [
    "non_trivial_indices = np.where(λ > 1e-10)[0]\n",
    "Λ̃ = np.diag(λ[non_trivial_indices])\n",
    "Ṽ = V[:, non_trivial_indices]\n",
    "Ã = Ṽ @ Λ̃ @ Ṽ.T\n",
    "pretty_np_array(Ã, title='Non-trivial reconstruction : Ã = Ṽ Λ̃ Ṽᵀ')"
   ]
  },
  {
   "cell_type": "markdown",
   "metadata": {},
   "source": [
    "Step 3 - Remove trivial and *almost* trivial (e.g., eigenvalue < 0.01)"
   ]
  },
  {
   "cell_type": "code",
   "execution_count": 7,
   "metadata": {
    "execution": {
     "iopub.execute_input": "2025-05-07T13:27:15.896680Z",
     "iopub.status.busy": "2025-05-07T13:27:15.896462Z",
     "iopub.status.idle": "2025-05-07T13:27:15.901239Z",
     "shell.execute_reply": "2025-05-07T13:27:15.900685Z"
    }
   },
   "outputs": [
    {
     "name": "stdout",
     "output_type": "stream",
     "text": [
      "  Core Reconstruction  \n",
      "[[ 2.  -2.   0.   0. ]\n",
      " [-2.   2.   0.   0. ]\n",
      " [ 0.   0.   2.5 -2.5]\n",
      " [ 0.   0.  -2.5  2.5]] \n",
      "\n"
     ]
    }
   ],
   "source": [
    "core_indices = np.where(λ > 0.01)[0]\n",
    "Λ̄ = np.diag(λ[core_indices])\n",
    "V̄ = V[:, core_indices]\n",
    "Aᑦ = V̄ @ Λ̄ @ V̄.T\n",
    "pretty_np_array(Aᑦ, title='Core Reconstruction')"
   ]
  }
 ],
 "metadata": {
  "kernelspec": {
   "display_name": "Python 3",
   "language": "python",
   "name": "python3"
  },
  "language_info": {
   "codemirror_mode": {
    "name": "ipython",
    "version": 3
   },
   "file_extension": ".py",
   "mimetype": "text/x-python",
   "name": "python",
   "nbconvert_exporter": "python",
   "pygments_lexer": "ipython3",
   "version": "3.8.10"
  }
 },
 "nbformat": 4,
 "nbformat_minor": 2
}
