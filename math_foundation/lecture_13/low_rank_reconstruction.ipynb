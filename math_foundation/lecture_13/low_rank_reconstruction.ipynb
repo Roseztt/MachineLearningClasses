{
 "cells": [
  {
   "cell_type": "code",
   "execution_count": 1,
   "metadata": {
    "execution": {
     "iopub.execute_input": "2025-05-07T13:26:13.477697Z",
     "iopub.status.busy": "2025-05-07T13:26:13.477264Z",
     "iopub.status.idle": "2025-05-07T13:26:13.577606Z",
     "shell.execute_reply": "2025-05-07T13:26:13.576393Z"
    }
   },
   "outputs": [],
   "source": [
    "#!/usr/bin/env python\n",
    "import numpy as np\n",
    "from numpy.linalg import eig, eigh, norm\n",
    "np.set_printoptions(suppress=True, precision=4)"
   ]
  },
  {
   "cell_type": "code",
   "execution_count": 2,
   "metadata": {
    "execution": {
     "iopub.execute_input": "2025-05-07T13:26:13.583651Z",
     "iopub.status.busy": "2025-05-07T13:26:13.582923Z",
     "iopub.status.idle": "2025-05-07T13:26:13.590501Z",
     "shell.execute_reply": "2025-05-07T13:26:13.589365Z"
    }
   },
   "outputs": [],
   "source": [
    "def pretty_np_array(m, title=None, end_space=''):\n",
    "\tm = str(m)\n",
    "\tL1 = m.split('\\n')\n",
    "\tL1_max_width = len(max(L1, key=len))\n",
    "\tif title is not None:\n",
    "\t\tt1 = str.center(title, L1_max_width)\n",
    "\t\tm = t1 + '\\n' + m + end_space\n",
    "\telse: m = m + end_space\n",
    "\tprint(m, '\\n')"
   ]
  },
  {
   "cell_type": "markdown",
   "metadata": {},
   "source": [
    "Original matrix A and eigenvalue matrix Λ"
   ]
  },
  {
   "cell_type": "code",
   "execution_count": 3,
   "metadata": {
    "execution": {
     "iopub.execute_input": "2025-05-07T13:26:13.596105Z",
     "iopub.status.busy": "2025-05-07T13:26:13.595375Z",
     "iopub.status.idle": "2025-05-07T13:26:13.601662Z",
     "shell.execute_reply": "2025-05-07T13:26:13.600534Z"
    }
   },
   "outputs": [],
   "source": [
    "A = np.array([\n",
    "    [2, -2, 0, 0],\n",
    "    [-2, 2, 0, 0],\n",
    "    [0, 0, 2.5005, -2.4995],\n",
    "    [0, 0, -2.4995, 2.5005]\n",
    "])"
   ]
  },
  {
   "cell_type": "markdown",
   "metadata": {},
   "source": [
    "Eigen-decomposition (A should already be symmetric)"
   ]
  },
  {
   "cell_type": "code",
   "execution_count": 4,
   "metadata": {
    "execution": {
     "iopub.execute_input": "2025-05-07T13:26:13.604808Z",
     "iopub.status.busy": "2025-05-07T13:26:13.604627Z",
     "iopub.status.idle": "2025-05-07T13:26:13.607630Z",
     "shell.execute_reply": "2025-05-07T13:26:13.607004Z"
    }
   },
   "outputs": [],
   "source": [
    "λ, V = eigh(A)  # `eigh` guarantees real symmetric output and orthonormal V"
   ]
  },
  {
   "cell_type": "markdown",
   "metadata": {},
   "source": [
    "Verify A = V Λ Vᵀ"
   ]
  },
  {
   "cell_type": "code",
   "execution_count": 5,
   "metadata": {
    "execution": {
     "iopub.execute_input": "2025-05-07T13:26:13.610254Z",
     "iopub.status.busy": "2025-05-07T13:26:13.610061Z",
     "iopub.status.idle": "2025-05-07T13:26:13.614715Z",
     "shell.execute_reply": "2025-05-07T13:26:13.614080Z"
    }
   },
   "outputs": [
    {
     "name": "stdout",
     "output_type": "stream",
     "text": [
      " Original Reconstruction A = V Λ Vᵀ\n",
      "[[ 2.     -2.      0.      0.    ]\n",
      " [-2.      2.      0.      0.    ]\n",
      " [ 0.      0.      2.5005 -2.4995]\n",
      " [ 0.      0.     -2.4995  2.5005]] \n",
      "\n"
     ]
    }
   ],
   "source": [
    "Λ = np.diag(λ)\n",
    "Aᣳ = V @ Λ @ V.T\n",
    "pretty_np_array(Aᣳ, title='Original Reconstruction A = V Λ Vᵀ')"
   ]
  },
  {
   "cell_type": "markdown",
   "metadata": {},
   "source": [
    "Step 2 - Remove trivial eigenvalue (0)"
   ]
  },
  {
   "cell_type": "code",
   "execution_count": 6,
   "metadata": {
    "execution": {
     "iopub.execute_input": "2025-05-07T13:26:13.649600Z",
     "iopub.status.busy": "2025-05-07T13:26:13.649352Z",
     "iopub.status.idle": "2025-05-07T13:26:13.656512Z",
     "shell.execute_reply": "2025-05-07T13:26:13.655579Z"
    }
   },
   "outputs": [
    {
     "name": "stdout",
     "output_type": "stream",
     "text": [
      "Non-trivial reconstruction : Ã = Ṽ Λ̃ Ṽᵀ\n",
      "[[ 2.     -2.      0.      0.    ]\n",
      " [-2.      2.      0.      0.    ]\n",
      " [ 0.      0.      2.5005 -2.4995]\n",
      " [ 0.      0.     -2.4995  2.5005]] \n",
      "\n"
     ]
    }
   ],
   "source": [
    "non_trivial_indices = np.where(λ > 1e-10)[0]\n",
    "Λ̃ = np.diag(λ[non_trivial_indices])\n",
    "Ṽ = V[:, non_trivial_indices]\n",
    "Ã = Ṽ @ Λ̃ @ Ṽ.T\n",
    "pretty_np_array(Ã, title='Non-trivial reconstruction : Ã = Ṽ Λ̃ Ṽᵀ')"
   ]
  },
  {
   "cell_type": "markdown",
   "metadata": {},
   "source": [
    "Step 3 - Remove trivial and *almost* trivial (e.g., eigenvalue < 0.01)"
   ]
  },
  {
   "cell_type": "code",
   "execution_count": 7,
   "metadata": {
    "execution": {
     "iopub.execute_input": "2025-05-07T13:26:13.659853Z",
     "iopub.status.busy": "2025-05-07T13:26:13.659544Z",
     "iopub.status.idle": "2025-05-07T13:26:13.664208Z",
     "shell.execute_reply": "2025-05-07T13:26:13.663633Z"
    }
   },
   "outputs": [
    {
     "name": "stdout",
     "output_type": "stream",
     "text": [
      "        Core Reconstruction        \n",
      "[[ 2.     -2.      0.      0.    ]\n",
      " [-2.      2.      0.      0.    ]\n",
      " [ 0.      0.      2.5005 -2.4995]\n",
      " [ 0.      0.     -2.4995  2.5005]] \n",
      "\n"
     ]
    }
   ],
   "source": [
    "core_indices = np.where(λ > 0.01)[0]\n",
    "Λ̄ = np.diag(λ[core_indices])\n",
    "V̄ = V[:, core_indices]\n",
    "Aᑦ = V̄ @ Λ̄ @ V̄.T\n",
    "pretty_np_array(Ã, title='Core Reconstruction')"
   ]
  }
 ],
 "metadata": {
  "kernelspec": {
   "display_name": "Python 3",
   "language": "python",
   "name": "python3"
  },
  "language_info": {
   "codemirror_mode": {
    "name": "ipython",
    "version": 3
   },
   "file_extension": ".py",
   "mimetype": "text/x-python",
   "name": "python",
   "nbconvert_exporter": "python",
   "pygments_lexer": "ipython3",
   "version": "3.8.10"
  }
 },
 "nbformat": 4,
 "nbformat_minor": 2
}
