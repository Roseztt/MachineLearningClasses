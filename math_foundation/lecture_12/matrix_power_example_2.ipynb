{
 "cells": [
  {
   "cell_type": "code",
   "execution_count": 1,
   "metadata": {
    "execution": {
     "iopub.execute_input": "2025-05-05T13:47:50.757660Z",
     "iopub.status.busy": "2025-05-05T13:47:50.757191Z",
     "iopub.status.idle": "2025-05-05T13:47:50.763228Z",
     "shell.execute_reply": "2025-05-05T13:47:50.762326Z"
    }
   },
   "outputs": [],
   "source": [
    "#!/usr/bin/env python"
   ]
  },
  {
   "cell_type": "code",
   "execution_count": 2,
   "metadata": {
    "execution": {
     "iopub.execute_input": "2025-05-05T13:47:50.767100Z",
     "iopub.status.busy": "2025-05-05T13:47:50.766832Z",
     "iopub.status.idle": "2025-05-05T13:47:50.889107Z",
     "shell.execute_reply": "2025-05-05T13:47:50.887867Z"
    }
   },
   "outputs": [],
   "source": [
    "import numpy as np\n",
    "from numpy.linalg import norm, eig, matrix_power, inv\n",
    "np.set_printoptions(precision=4, suppress=True)"
   ]
  },
  {
   "cell_type": "markdown",
   "metadata": {},
   "source": [
    "Define a symmetric (and thus diagonalizable) 3×3 matrix"
   ]
  },
  {
   "cell_type": "code",
   "execution_count": 3,
   "metadata": {
    "execution": {
     "iopub.execute_input": "2025-05-05T13:47:50.893352Z",
     "iopub.status.busy": "2025-05-05T13:47:50.893144Z",
     "iopub.status.idle": "2025-05-05T13:47:50.896457Z",
     "shell.execute_reply": "2025-05-05T13:47:50.895854Z"
    }
   },
   "outputs": [],
   "source": [
    "A = np.array([\n",
    "    [2, 0, 0],\n",
    "    [0, 3, 1],\n",
    "    [0, 1, 3]\n",
    "], dtype=float)"
   ]
  },
  {
   "cell_type": "code",
   "execution_count": 4,
   "metadata": {
    "execution": {
     "iopub.execute_input": "2025-05-05T13:47:50.899314Z",
     "iopub.status.busy": "2025-05-05T13:47:50.899115Z",
     "iopub.status.idle": "2025-05-05T13:47:50.902243Z",
     "shell.execute_reply": "2025-05-05T13:47:50.901615Z"
    }
   },
   "outputs": [],
   "source": [
    "B = np.array([\n",
    "    [4, 0],\n",
    "    [3, 0],\n",
    "    [0, 5]\n",
    "], dtype=float)"
   ]
  },
  {
   "cell_type": "markdown",
   "metadata": {},
   "source": [
    "Eigendecomposition: A = VΛVˉᣳ"
   ]
  },
  {
   "cell_type": "code",
   "execution_count": 5,
   "metadata": {
    "execution": {
     "iopub.execute_input": "2025-05-05T13:47:50.905346Z",
     "iopub.status.busy": "2025-05-05T13:47:50.905148Z",
     "iopub.status.idle": "2025-05-05T13:47:50.909441Z",
     "shell.execute_reply": "2025-05-05T13:47:50.908628Z"
    }
   },
   "outputs": [],
   "source": [
    "λ, V = eig(A)\n",
    "Λ = np.diag(λ)\n",
    "Vˉᣳ = inv(V)  # inverse of V\n",
    "v = V[:,0].reshape(-1,1) # the dominant eigenvector"
   ]
  },
  {
   "cell_type": "markdown",
   "metadata": {},
   "source": [
    "Power to raise A"
   ]
  },
  {
   "cell_type": "code",
   "execution_count": 6,
   "metadata": {
    "execution": {
     "iopub.execute_input": "2025-05-05T13:47:50.941934Z",
     "iopub.status.busy": "2025-05-05T13:47:50.941603Z",
     "iopub.status.idle": "2025-05-05T13:47:50.945552Z",
     "shell.execute_reply": "2025-05-05T13:47:50.944689Z"
    }
   },
   "outputs": [],
   "source": [
    "n = 100 "
   ]
  },
  {
   "cell_type": "markdown",
   "metadata": {},
   "source": [
    "Naive method: repeated matrix power"
   ]
  },
  {
   "cell_type": "code",
   "execution_count": 7,
   "metadata": {
    "execution": {
     "iopub.execute_input": "2025-05-05T13:47:50.950390Z",
     "iopub.status.busy": "2025-05-05T13:47:50.950067Z",
     "iopub.status.idle": "2025-05-05T13:47:50.954473Z",
     "shell.execute_reply": "2025-05-05T13:47:50.953454Z"
    }
   },
   "outputs": [],
   "source": [
    "A_naive = matrix_power(A, n)"
   ]
  },
  {
   "cell_type": "markdown",
   "metadata": {},
   "source": [
    "Diagonalization trick: Aⁿ = VΛⁿVˉᣳ"
   ]
  },
  {
   "cell_type": "code",
   "execution_count": 8,
   "metadata": {
    "execution": {
     "iopub.execute_input": "2025-05-05T13:47:50.958151Z",
     "iopub.status.busy": "2025-05-05T13:47:50.957828Z",
     "iopub.status.idle": "2025-05-05T13:47:50.961614Z",
     "shell.execute_reply": "2025-05-05T13:47:50.960796Z"
    }
   },
   "outputs": [],
   "source": [
    "Λⁿ = np.diag(λ**n)\n",
    "Aᣳᵒᵒ = V @ Λⁿ @ Vˉᣳ"
   ]
  },
  {
   "cell_type": "markdown",
   "metadata": {},
   "source": [
    "Output comparison"
   ]
  },
  {
   "cell_type": "code",
   "execution_count": 9,
   "metadata": {
    "execution": {
     "iopub.execute_input": "2025-05-05T13:47:50.964820Z",
     "iopub.status.busy": "2025-05-05T13:47:50.964600Z",
     "iopub.status.idle": "2025-05-05T13:47:50.969689Z",
     "shell.execute_reply": "2025-05-05T13:47:50.968680Z"
    }
   },
   "outputs": [
    {
     "name": "stdout",
     "output_type": "stream",
     "text": [
      "Naive Aⁿ:\n",
      " [[1.2677e+30 0.0000e+00 0.0000e+00]\n",
      " [0.0000e+00 8.0347e+59 8.0347e+59]\n",
      " [0.0000e+00 8.0347e+59 8.0347e+59]]\n",
      "\n",
      "Smart Aⁿ using VΛⁿVˉᣳ:\n",
      " [[1.2677e+30 0.0000e+00 0.0000e+00]\n",
      " [0.0000e+00 8.0347e+59 8.0347e+59]\n",
      " [0.0000e+00 8.0347e+59 8.0347e+59]]\n"
     ]
    }
   ],
   "source": [
    "print(\"Naive Aⁿ:\\n\", A_naive)\n",
    "print(\"\\nSmart Aⁿ using VΛⁿVˉᣳ:\\n\", Aᣳᵒᵒ)"
   ]
  },
  {
   "cell_type": "markdown",
   "metadata": {},
   "source": [
    "--------------------"
   ]
  },
  {
   "cell_type": "code",
   "execution_count": 10,
   "metadata": {
    "execution": {
     "iopub.execute_input": "2025-05-05T13:47:51.034531Z",
     "iopub.status.busy": "2025-05-05T13:47:51.034174Z",
     "iopub.status.idle": "2025-05-05T13:47:51.041884Z",
     "shell.execute_reply": "2025-05-05T13:47:51.040785Z"
    }
   },
   "outputs": [
    {
     "name": "stdout",
     "output_type": "stream",
     "text": [
      "\n",
      "The dominant eigenvector of the msg\n",
      " [[0.    ]\n",
      " [0.7071]\n",
      " [0.7071]]\n",
      "\n",
      "Your mind after 100 exposures\n",
      " [[0.     0.    ]\n",
      " [0.7071 0.7071]\n",
      " [0.7071 0.7071]]\n"
     ]
    }
   ],
   "source": [
    "C = Aᣳᵒᵒ @ B\n",
    "C = C/norm(C, axis=0)\n",
    "print('\\nThe dominant eigenvector of the msg\\n',v)\n",
    "print('\\nYour mind after 100 exposures\\n',C)"
   ]
  }
 ],
 "metadata": {
  "kernelspec": {
   "display_name": "Python 3",
   "language": "python",
   "name": "python3"
  },
  "language_info": {
   "codemirror_mode": {
    "name": "ipython",
    "version": 3
   },
   "file_extension": ".py",
   "mimetype": "text/x-python",
   "name": "python",
   "nbconvert_exporter": "python",
   "pygments_lexer": "ipython3",
   "version": "3.8.10"
  }
 },
 "nbformat": 4,
 "nbformat_minor": 2
}
