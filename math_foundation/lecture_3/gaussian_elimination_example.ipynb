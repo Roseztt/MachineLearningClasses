{
 "cells": [
  {
   "cell_type": "code",
   "execution_count": 1,
   "metadata": {
    "execution": {
     "iopub.execute_input": "2025-09-02T18:39:27.744455Z",
     "iopub.status.busy": "2025-09-02T18:39:27.743976Z",
     "iopub.status.idle": "2025-09-02T18:39:27.878613Z",
     "shell.execute_reply": "2025-09-02T18:39:27.877936Z"
    }
   },
   "outputs": [],
   "source": [
    "#!/usr/bin/env python\n",
    "import numpy as np"
   ]
  },
  {
   "cell_type": "markdown",
   "metadata": {},
   "source": [
    "Coefficient matrix A"
   ]
  },
  {
   "cell_type": "code",
   "execution_count": 2,
   "metadata": {
    "execution": {
     "iopub.execute_input": "2025-09-02T18:39:27.882114Z",
     "iopub.status.busy": "2025-09-02T18:39:27.881907Z",
     "iopub.status.idle": "2025-09-02T18:39:27.885673Z",
     "shell.execute_reply": "2025-09-02T18:39:27.885123Z"
    }
   },
   "outputs": [],
   "source": [
    "A = np.array([\n",
    "    [2,  1, -1,  3,  2],\n",
    "    [1,  3,  2, -1,  4],\n",
    "    [3, -1,  4,  2,  1],\n",
    "    [2,  2,  1,  1,  3],\n",
    "    [1, -1,  3,  2,  2]\n",
    "], dtype=float)"
   ]
  },
  {
   "cell_type": "markdown",
   "metadata": {},
   "source": [
    "Right-hand side vector b"
   ]
  },
  {
   "cell_type": "code",
   "execution_count": 3,
   "metadata": {
    "execution": {
     "iopub.execute_input": "2025-09-02T18:39:27.888615Z",
     "iopub.status.busy": "2025-09-02T18:39:27.888434Z",
     "iopub.status.idle": "2025-09-02T18:39:27.891500Z",
     "shell.execute_reply": "2025-09-02T18:39:27.890944Z"
    }
   },
   "outputs": [],
   "source": [
    "b = np.array([7, -2, 5, 3, 2], dtype=float)"
   ]
  },
  {
   "cell_type": "markdown",
   "metadata": {},
   "source": [
    "Solve Ax = b using NumPy"
   ]
  },
  {
   "cell_type": "code",
   "execution_count": 4,
   "metadata": {
    "execution": {
     "iopub.execute_input": "2025-09-02T18:39:27.894420Z",
     "iopub.status.busy": "2025-09-02T18:39:27.894243Z",
     "iopub.status.idle": "2025-09-02T18:39:27.897316Z",
     "shell.execute_reply": "2025-09-02T18:39:27.896563Z"
    }
   },
   "outputs": [],
   "source": [
    "x = np.linalg.solve(A, b)"
   ]
  },
  {
   "cell_type": "markdown",
   "metadata": {},
   "source": [
    "Print solution<br>\n",
    " = np.array([[1],[1],[0],[2],[-1]]) # actual solution"
   ]
  },
  {
   "cell_type": "code",
   "execution_count": 5,
   "metadata": {
    "execution": {
     "iopub.execute_input": "2025-09-02T18:39:27.900414Z",
     "iopub.status.busy": "2025-09-02T18:39:27.900205Z",
     "iopub.status.idle": "2025-09-02T18:39:27.904507Z",
     "shell.execute_reply": "2025-09-02T18:39:27.903730Z"
    }
   },
   "outputs": [
    {
     "name": "stdout",
     "output_type": "stream",
     "text": [
      "Solution vector x:\n",
      "[ 1.0000000e+00  1.0000000e+00 -1.0658141e-14  2.0000000e+00\n",
      " -1.0000000e+00]\n"
     ]
    }
   ],
   "source": [
    "print(\"Solution vector x:\")\n",
    "print(x)"
   ]
  },
  {
   "cell_type": "markdown",
   "metadata": {},
   "source": [
    "Verify the solution"
   ]
  },
  {
   "cell_type": "code",
   "execution_count": 6,
   "metadata": {
    "execution": {
     "iopub.execute_input": "2025-09-02T18:39:27.949194Z",
     "iopub.status.busy": "2025-09-02T18:39:27.948897Z",
     "iopub.status.idle": "2025-09-02T18:39:27.955819Z",
     "shell.execute_reply": "2025-09-02T18:39:27.954408Z"
    }
   },
   "outputs": [
    {
     "name": "stdout",
     "output_type": "stream",
     "text": [
      "\n",
      "Check A @ x:\n",
      "[ 7. -2.  5.  3.  2.]\n",
      "Should equal b:\n",
      "[ 7. -2.  5.  3.  2.]\n"
     ]
    }
   ],
   "source": [
    "print(\"\\nCheck A @ x:\")\n",
    "print(A @ x)\n",
    "print(\"Should equal b:\")\n",
    "print(b)"
   ]
  }
 ],
 "metadata": {
  "kernelspec": {
   "display_name": "Python 3",
   "language": "python",
   "name": "python3"
  },
  "language_info": {
   "codemirror_mode": {
    "name": "ipython",
    "version": 3
   },
   "file_extension": ".py",
   "mimetype": "text/x-python",
   "name": "python",
   "nbconvert_exporter": "python",
   "pygments_lexer": "ipython3",
   "version": "3.8.10"
  }
 },
 "nbformat": 4,
 "nbformat_minor": 2
}
