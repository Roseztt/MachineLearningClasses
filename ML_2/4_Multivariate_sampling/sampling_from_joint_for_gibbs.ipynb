{
 "cells": [
  {
   "cell_type": "code",
   "execution_count": 1,
   "metadata": {
    "execution": {
     "iopub.execute_input": "2025-02-10T13:36:33.309936Z",
     "iopub.status.busy": "2025-02-10T13:36:33.309552Z",
     "iopub.status.idle": "2025-02-10T13:36:33.315091Z",
     "shell.execute_reply": "2025-02-10T13:36:33.314030Z"
    }
   },
   "outputs": [],
   "source": [
    "#!/usr/bin/env python"
   ]
  },
  {
   "cell_type": "code",
   "execution_count": 2,
   "metadata": {
    "execution": {
     "iopub.execute_input": "2025-02-10T13:36:33.318399Z",
     "iopub.status.busy": "2025-02-10T13:36:33.318162Z",
     "iopub.status.idle": "2025-02-10T13:36:34.019277Z",
     "shell.execute_reply": "2025-02-10T13:36:34.018623Z"
    }
   },
   "outputs": [],
   "source": [
    "import numpy as np\n",
    "from numpy import exp as ē\n",
    "from numpy import sqrt\n",
    "from numpy.linalg import inv\n",
    "import matplotlib.pyplot as plt\n",
    "import matplotlib as mpl\n",
    "from scipy.stats import multivariate_normal\n",
    "from scipy.stats import norm"
   ]
  },
  {
   "cell_type": "markdown",
   "metadata": {},
   "source": [
    "pl.rcParams['savefig.directory'] = '/home/chieh/code/MachineLearningClasses/ML_2/4_Multivariate_sampling'"
   ]
  },
  {
   "cell_type": "markdown",
   "metadata": {},
   "source": [
    "Set random seed"
   ]
  },
  {
   "cell_type": "code",
   "execution_count": 3,
   "metadata": {
    "execution": {
     "iopub.execute_input": "2025-02-10T13:36:34.022843Z",
     "iopub.status.busy": "2025-02-10T13:36:34.022675Z",
     "iopub.status.idle": "2025-02-10T13:36:34.025639Z",
     "shell.execute_reply": "2025-02-10T13:36:34.025005Z"
    }
   },
   "outputs": [],
   "source": [
    "np.random.seed(42)\n",
    "Զπ = 2*np.pi"
   ]
  },
  {
   "cell_type": "markdown",
   "metadata": {},
   "source": [
    "Parameters"
   ]
  },
  {
   "cell_type": "code",
   "execution_count": 4,
   "metadata": {
    "execution": {
     "iopub.execute_input": "2025-02-10T13:36:34.029152Z",
     "iopub.status.busy": "2025-02-10T13:36:34.028991Z",
     "iopub.status.idle": "2025-02-10T13:36:34.032363Z",
     "shell.execute_reply": "2025-02-10T13:36:34.031805Z"
    }
   },
   "outputs": [],
   "source": [
    "μ = np.array([[3], [2]])\n",
    "Σ = np.array([[1, 1], [1, 2]])\n",
    "Σˉᣳ = inv(Σ)\n",
    "xշ = 1"
   ]
  },
  {
   "cell_type": "code",
   "execution_count": 5,
   "metadata": {
    "execution": {
     "iopub.execute_input": "2025-02-10T13:36:34.035169Z",
     "iopub.status.busy": "2025-02-10T13:36:34.034979Z",
     "iopub.status.idle": "2025-02-10T13:36:34.039758Z",
     "shell.execute_reply": "2025-02-10T13:36:34.039088Z"
    }
   },
   "outputs": [],
   "source": [
    "def conditional_gaussian(μ, Σ, xշ, n):\n",
    "\tμₐ = μ[0,0]\n",
    "\tμᵦ = μ[1,0]\n",
    "\txᵦ = xշ\n",
    "#\n",
    "\tΣₐₐ = 1\n",
    "\tΣᵦᵦ = 2\n",
    "\tΣₐᵦ = 1\n",
    "#\n",
    "\tΣᵦᵦˉᣳ = 1/Σᵦᵦ\n",
    "\tμₐӏᵦ = μₐ + Σₐᵦ * Σᵦᵦˉᣳ * (xᵦ - μᵦ)\n",
    "\tΣₐӏᵦ = Σₐₐ - Σₐᵦ * Σᵦᵦˉᣳ * Σₐᵦ\n",
    "\tσ = sqrt(Σₐӏᵦ)\n",
    "\tsamples = np.random.normal(μₐӏᵦ, σ, n)\n",
    "\treturn μₐӏᵦ, σ, samples"
   ]
  },
  {
   "cell_type": "markdown",
   "metadata": {},
   "source": [
    " proposal distribution"
   ]
  },
  {
   "cell_type": "code",
   "execution_count": 6,
   "metadata": {
    "execution": {
     "iopub.execute_input": "2025-02-10T13:36:34.042779Z",
     "iopub.status.busy": "2025-02-10T13:36:34.042587Z",
     "iopub.status.idle": "2025-02-10T13:36:34.045901Z",
     "shell.execute_reply": "2025-02-10T13:36:34.045204Z"
    }
   },
   "outputs": [],
   "source": [
    "def kq(xₗ):\n",
    "\tk = 1\n",
    "\treturn k*norm.pdf(xₗ, 3, 1.5)"
   ]
  },
  {
   "cell_type": "markdown",
   "metadata": {},
   "source": [
    "sampling distribution"
   ]
  },
  {
   "cell_type": "code",
   "execution_count": 7,
   "metadata": {
    "execution": {
     "iopub.execute_input": "2025-02-10T13:36:34.072051Z",
     "iopub.status.busy": "2025-02-10T13:36:34.071760Z",
     "iopub.status.idle": "2025-02-10T13:36:34.080319Z",
     "shell.execute_reply": "2025-02-10T13:36:34.079481Z"
    }
   },
   "outputs": [],
   "source": [
    "def p(xₗ):\n",
    "\tk = 2\n",
    "\td = 2\n",
    "\t#\tif pass in a list of values\n",
    "\tif type(xₗ).__name__ == 'ndarray': \n",
    "\t\tL = []\n",
    "\t\tfor xᵢ in xₗ:\n",
    "\t\t\tԶπᒄᐟᒾӏΣӏᣳᐟᒾ = sqrt(Զπ**d) * sqrt(np.linalg.det(Σ))\n",
    "\t\t\tΔ = np.array([[xᵢ.item()],[xշ]]) - μ\n",
    "\t\t\tL.append((1/(ԶπᒄᐟᒾӏΣӏᣳᐟᒾ)*ē(-0.5*Δ.T @ Σˉᣳ @  Δ)).item())\n",
    "\t\treturn np.array(L)\n",
    "\t#\tif pass in a single value\n",
    "\telse:\n",
    "\t\tԶπᒄᐟᒾӏΣӏᣳᐟᒾ = sqrt(Զπ**d) * sqrt(np.linalg.det(Σ))\n",
    "\t\tΔ = np.array([[xₗ],[xշ]]) - μ\n",
    "\t\treturn 1/(ԶπᒄᐟᒾӏΣӏᣳᐟᒾ)*ē(0.5*Δ.T @ Σˉᣳ @  Δ)"
   ]
  },
  {
   "cell_type": "code",
   "execution_count": 8,
   "metadata": {
    "execution": {
     "iopub.execute_input": "2025-02-10T13:36:34.083562Z",
     "iopub.status.busy": "2025-02-10T13:36:34.083366Z",
     "iopub.status.idle": "2025-02-10T13:36:34.087611Z",
     "shell.execute_reply": "2025-02-10T13:36:34.086910Z"
    }
   },
   "outputs": [],
   "source": [
    "def rejection_sampling():\n",
    "\tn = 35000\n",
    "\tr = np.random.rand(n)\n",
    "\tv = 1.5*np.random.randn(n) + 3\n",
    "\tu = r*kq(v)\n",
    "\tpᵛ = p(v)\n",
    "#\n",
    "\tsamples = v[u < pᵛ] \n",
    "\tμᵣ = np.mean(samples)\n",
    "\tσᵣ = np.std(samples)\n",
    "#\t\n",
    "\treturn μᵣ, σᵣ, samples"
   ]
  },
  {
   "cell_type": "markdown",
   "metadata": {},
   "source": [
    "Double check the kq(x) is \"always\" above p(x) by plotting"
   ]
  },
  {
   "cell_type": "code",
   "execution_count": 9,
   "metadata": {
    "execution": {
     "iopub.execute_input": "2025-02-10T13:36:34.091447Z",
     "iopub.status.busy": "2025-02-10T13:36:34.091224Z",
     "iopub.status.idle": "2025-02-10T13:36:34.131624Z",
     "shell.execute_reply": "2025-02-10T13:36:34.130658Z"
    }
   },
   "outputs": [],
   "source": [
    "xln= np.linspace(0, 8, 40)\n",
    "kq1 = kq(xln)\n",
    "px = p(xln)"
   ]
  },
  {
   "cell_type": "code",
   "execution_count": 10,
   "metadata": {
    "execution": {
     "iopub.execute_input": "2025-02-10T13:36:34.135524Z",
     "iopub.status.busy": "2025-02-10T13:36:34.135234Z",
     "iopub.status.idle": "2025-02-10T13:36:34.511582Z",
     "shell.execute_reply": "2025-02-10T13:36:34.510823Z"
    }
   },
   "outputs": [
    {
     "data": {
      "image/png": "[encoded data removed]",
      "text/plain": [
       "<Figure size 640x480 with 1 Axes>"
      ]
     },
     "metadata": {},
     "output_type": "display_data"
    }
   ],
   "source": [
    "plt.plot(xln, px, color='red', label='p(x)')\n",
    "plt.plot(xln, kq1, color='blue', label='kq(x)')\n",
    "plt.legend()\n",
    "plt.title('Ensure that kq(x) is always above p(x) for Rejection Sampling')\n",
    "plt.show()"
   ]
  },
  {
   "cell_type": "markdown",
   "metadata": {},
   "source": [
    " Generate samples"
   ]
  },
  {
   "cell_type": "code",
   "execution_count": 11,
   "metadata": {
    "execution": {
     "iopub.execute_input": "2025-02-10T13:36:34.552252Z",
     "iopub.status.busy": "2025-02-10T13:36:34.552074Z",
     "iopub.status.idle": "2025-02-10T13:36:35.351976Z",
     "shell.execute_reply": "2025-02-10T13:36:35.351156Z"
    }
   },
   "outputs": [],
   "source": [
    "μᶜ, σᶜ, samplesᶜ = conditional_gaussian(μ, Σ, xշ, 9000)\n",
    "μᵣ, σᵣ, samplesᵣ = rejection_sampling()"
   ]
  },
  {
   "cell_type": "markdown",
   "metadata": {},
   "source": [
    "Plot"
   ]
  },
  {
   "cell_type": "code",
   "execution_count": 12,
   "metadata": {
    "execution": {
     "iopub.execute_input": "2025-02-10T13:36:35.356661Z",
     "iopub.status.busy": "2025-02-10T13:36:35.356498Z",
     "iopub.status.idle": "2025-02-10T13:36:35.363235Z",
     "shell.execute_reply": "2025-02-10T13:36:35.362572Z"
    }
   },
   "outputs": [
    {
     "data": {
      "text/plain": [
       "<Figure size 1200x500 with 0 Axes>"
      ]
     },
     "execution_count": 12,
     "metadata": {},
     "output_type": "execute_result"
    }
   ],
   "source": [
    "plt.figure(figsize=(12, 5))"
   ]
  },
  {
   "cell_type": "markdown",
   "metadata": {},
   "source": [
    "Conditional Sampling subplot"
   ]
  },
  {
   "cell_type": "code",
   "execution_count": 13,
   "metadata": {
    "execution": {
     "iopub.execute_input": "2025-02-10T13:36:35.368115Z",
     "iopub.status.busy": "2025-02-10T13:36:35.367919Z",
     "iopub.status.idle": "2025-02-10T13:36:35.667912Z",
     "shell.execute_reply": "2025-02-10T13:36:35.667233Z"
    }
   },
   "outputs": [
    {
     "data": {
      "text/plain": [
       "<matplotlib.legend.Legend at 0x7f79258614c0>"
      ]
     },
     "execution_count": 13,
     "metadata": {},
     "output_type": "execute_result"
    }
   ],
   "source": [
    "plt.subplot(1, 2, 1)\n",
    "hist_cond, bins_cond, _ = plt.hist(samplesᶜ, bins=50, density=False, alpha=0.7)\n",
    "max_height_cond = np.max(hist_cond)\n",
    "plt.axhline(y=max_height_cond, color='red', linestyle='--', label='Peak')\n",
    "plt.title(f'Sampling from Conditional $p(x_1|x_2=1)$\\nμ={μᶜ:.2f}, σ={σᶜ:.2f}')\n",
    "plt.xlabel('x1')\n",
    "plt.ylabel('Density')\n",
    "plt.ylim([0,600])\n",
    "plt.legend()"
   ]
  },
  {
   "cell_type": "markdown",
   "metadata": {},
   "source": [
    "Rejection Sampling subplot"
   ]
  },
  {
   "cell_type": "code",
   "execution_count": 14,
   "metadata": {
    "execution": {
     "iopub.execute_input": "2025-02-10T13:36:35.673376Z",
     "iopub.status.busy": "2025-02-10T13:36:35.673210Z",
     "iopub.status.idle": "2025-02-10T13:36:35.846536Z",
     "shell.execute_reply": "2025-02-10T13:36:35.845737Z"
    }
   },
   "outputs": [
    {
     "data": {
      "text/plain": [
       "<matplotlib.legend.Legend at 0x7f792594ae20>"
      ]
     },
     "execution_count": 14,
     "metadata": {},
     "output_type": "execute_result"
    }
   ],
   "source": [
    "plt.subplot(1, 2, 2)\n",
    "hist_rej, bins_rej, _ = plt.hist(samplesᵣ , bins=50, density=False, alpha=0.7)\n",
    "max_height_rej = np.max(hist_rej)\n",
    "plt.axhline(y=max_height_rej, color='red', linestyle='--', label='Peak')\n",
    "plt.title(f'Sampling from Joint $p(x_1,x_2=1)$\\nμ={μᵣ:.2f}, σ={σᵣ:.2f}')\n",
    "plt.xlabel('x1')\n",
    "plt.ylabel('Density')\n",
    "plt.ylim([0,600])\n",
    "plt.legend()"
   ]
  },
  {
   "cell_type": "code",
   "execution_count": 15,
   "metadata": {
    "execution": {
     "iopub.execute_input": "2025-02-10T13:36:35.850900Z",
     "iopub.status.busy": "2025-02-10T13:36:35.850718Z",
     "iopub.status.idle": "2025-02-10T13:36:36.194999Z",
     "shell.execute_reply": "2025-02-10T13:36:36.194244Z"
    }
   },
   "outputs": [
    {
     "data": {
      "image/png": "[encoded data removed]",
      "text/plain": [
       "<Figure size 1200x500 with 2 Axes>"
      ]
     },
     "metadata": {},
     "output_type": "display_data"
    }
   ],
   "source": [
    "plt.tight_layout()\n",
    "plt.show()"
   ]
  }
 ],
 "metadata": {
  "kernelspec": {
   "display_name": "Python 3",
   "language": "python",
   "name": "python3"
  },
  "language_info": {
   "codemirror_mode": {
    "name": "ipython",
    "version": 3
   },
   "file_extension": ".py",
   "mimetype": "text/x-python",
   "name": "python",
   "nbconvert_exporter": "python",
   "pygments_lexer": "ipython3",
   "version": "3.8.10"
  }
 },
 "nbformat": 4,
 "nbformat_minor": 2
}
