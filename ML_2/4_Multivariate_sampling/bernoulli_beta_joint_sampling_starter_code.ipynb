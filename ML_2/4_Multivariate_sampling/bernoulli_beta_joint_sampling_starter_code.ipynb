{
 "cells": [
  {
   "cell_type": "code",
   "execution_count": 1,
   "metadata": {
    "execution": {
     "iopub.execute_input": "2025-01-23T21:41:07.038175Z",
     "iopub.status.busy": "2025-01-23T21:41:07.037749Z",
     "iopub.status.idle": "2025-01-23T21:41:07.043520Z",
     "shell.execute_reply": "2025-01-23T21:41:07.042481Z"
    }
   },
   "outputs": [],
   "source": [
    "#!/usr/bin/env python"
   ]
  },
  {
   "cell_type": "code",
   "execution_count": 2,
   "metadata": {
    "execution": {
     "iopub.execute_input": "2025-01-23T21:41:07.047200Z",
     "iopub.status.busy": "2025-01-23T21:41:07.046943Z",
     "iopub.status.idle": "2025-01-23T21:41:07.234295Z",
     "shell.execute_reply": "2025-01-23T21:41:07.233560Z"
    }
   },
   "outputs": [],
   "source": [
    "import matplotlib as mpl\n",
    "mpl.rcParams['savefig.directory'] = '/home/chieh/code/MachineLearningClasses/ML_2/3_Multivariate_sampling'"
   ]
  },
  {
   "cell_type": "code",
   "execution_count": 3,
   "metadata": {
    "execution": {
     "iopub.execute_input": "2025-01-23T21:41:07.237260Z",
     "iopub.status.busy": "2025-01-23T21:41:07.237096Z",
     "iopub.status.idle": "2025-01-23T21:41:07.482591Z",
     "shell.execute_reply": "2025-01-23T21:41:07.481721Z"
    }
   },
   "outputs": [],
   "source": [
    "import numpy as np\n",
    "import matplotlib.pyplot as plt"
   ]
  },
  {
   "cell_type": "markdown",
   "metadata": {},
   "source": [
    "Parameters"
   ]
  },
  {
   "cell_type": "code",
   "execution_count": 4,
   "metadata": {
    "execution": {
     "iopub.execute_input": "2025-01-23T21:41:07.486776Z",
     "iopub.status.busy": "2025-01-23T21:41:07.486602Z",
     "iopub.status.idle": "2025-01-23T21:41:07.489677Z",
     "shell.execute_reply": "2025-01-23T21:41:07.488949Z"
    }
   },
   "outputs": [],
   "source": [
    "α = 1.0    # Beta distribution parameter (heavily skewed toward 0)\n",
    "β = 19.0    # Beta distribution parameter\n",
    "n = 30000  # Number of samples"
   ]
  },
  {
   "cell_type": "markdown",
   "metadata": {},
   "source": [
    "Step 1: Generate n samples from Beta(α, β) : p(i)"
   ]
  },
  {
   "cell_type": "code",
   "execution_count": 5,
   "metadata": {
    "execution": {
     "iopub.execute_input": "2025-01-23T21:41:07.493953Z",
     "iopub.status.busy": "2025-01-23T21:41:07.493788Z",
     "iopub.status.idle": "2025-01-23T21:41:07.499517Z",
     "shell.execute_reply": "2025-01-23T21:41:07.498555Z"
    }
   },
   "outputs": [],
   "source": [
    "ĩ =  #  fill in here , it is supposed to be an np.array of size 30k"
   ]
  },
  {
   "cell_type": "markdown",
   "metadata": {},
   "source": [
    "Step 2: Sample t from Bernoulli(ĩ) for each ĩ"
   ]
  },
  {
   "cell_type": "code",
   "execution_count": 6,
   "metadata": {
    "execution": {
     "iopub.execute_input": "2025-01-23T21:41:07.502281Z",
     "iopub.status.busy": "2025-01-23T21:41:07.502088Z",
     "iopub.status.idle": "2025-01-23T21:41:07.507465Z",
     "shell.execute_reply": "2025-01-23T21:41:07.506709Z"
    }
   },
   "outputs": [],
   "source": [
    "t =  # fill in here , it is supposed to be an np.array of size 30k"
   ]
  },
  {
   "cell_type": "markdown",
   "metadata": {},
   "source": [
    "Step 3: Create a 2D histogram (heatmap)"
   ]
  },
  {
   "cell_type": "code",
   "execution_count": 7,
   "metadata": {
    "execution": {
     "iopub.execute_input": "2025-01-23T21:41:07.510429Z",
     "iopub.status.busy": "2025-01-23T21:41:07.510210Z",
     "iopub.status.idle": "2025-01-23T21:41:07.517438Z",
     "shell.execute_reply": "2025-01-23T21:41:07.516594Z"
    }
   },
   "outputs": [],
   "source": [
    "heatmap, xedges, yedges = np.histogram2d(\n",
    "    ĩ, t, \n",
    "    bins=[100, 2],  # 50 bins for p, 2 bins for t (0 and 1)\n",
    "    range=[[0, 0.1], [-0.5, 1.5]]  # p: [0, 1], t: [-0.5, 1.5]\n",
    ")"
   ]
  },
  {
   "cell_type": "markdown",
   "metadata": {},
   "source": [
    "This matrix, each value is a single pixel"
   ]
  },
  {
   "cell_type": "code",
   "execution_count": 8,
   "metadata": {
    "execution": {
     "iopub.execute_input": "2025-01-23T21:41:07.535051Z",
     "iopub.status.busy": "2025-01-23T21:41:07.534784Z",
     "iopub.status.idle": "2025-01-23T21:41:07.538899Z",
     "shell.execute_reply": "2025-01-23T21:41:07.537872Z"
    }
   },
   "outputs": [],
   "source": [
    "heatmap = heatmap.T  # Transpose and flip rows to align t=0 and t=1"
   ]
  },
  {
   "cell_type": "markdown",
   "metadata": {},
   "source": [
    "Plot the heatmap"
   ]
  },
  {
   "cell_type": "code",
   "execution_count": 9,
   "metadata": {
    "execution": {
     "iopub.execute_input": "2025-01-23T21:41:07.543348Z",
     "iopub.status.busy": "2025-01-23T21:41:07.543048Z",
     "iopub.status.idle": "2025-01-23T21:41:07.650410Z",
     "shell.execute_reply": "2025-01-23T21:41:07.649583Z"
    }
   },
   "outputs": [
    {
     "data": {
      "text/plain": [
       "<matplotlib.image.AxesImage at 0x7f9715b03a00>"
      ]
     },
     "execution_count": 9,
     "metadata": {},
     "output_type": "execute_result"
    }
   ],
   "source": [
    "plt.figure(figsize=(10, 4))\n",
    "plt.imshow(\n",
    "    heatmap, \n",
    "    extent=[0, 1, -0.5, 1.5],  # Axis limits (x: p, y: t)\n",
    "    aspect=\"auto\", \n",
    "    cmap=\"viridis\", \n",
    "    origin=\"lower\"  # Ensure t=0 is at the bottom\n",
    ")"
   ]
  },
  {
   "cell_type": "markdown",
   "metadata": {},
   "source": [
    "Customize the plot"
   ]
  },
  {
   "cell_type": "code",
   "execution_count": 10,
   "metadata": {
    "execution": {
     "iopub.execute_input": "2025-01-23T21:41:07.653760Z",
     "iopub.status.busy": "2025-01-23T21:41:07.653555Z",
     "iopub.status.idle": "2025-01-23T21:41:07.737300Z",
     "shell.execute_reply": "2025-01-23T21:41:07.736655Z"
    }
   },
   "outputs": [
    {
     "data": {
      "text/plain": [
       "Text(0.5, 1.0, 'Heatmap of Ancestral Sampling (Beta(1,19) → Bernoulli)')"
      ]
     },
     "execution_count": 10,
     "metadata": {},
     "output_type": "execute_result"
    }
   ],
   "source": [
    "plt.colorbar(label=\"Frequency\")\n",
    "plt.xlabel(\"i (Beta distribution)\")\n",
    "plt.ylabel(\"t (Bernoulli samples)\")\n",
    "plt.yticks([0, 1], [\"0\", \"1\"])  # Label y-axis with t=0 and t=1\n",
    "plt.title(\"Heatmap of Ancestral Sampling (Beta(1,19) → Bernoulli)\")"
   ]
  },
  {
   "cell_type": "code",
   "execution_count": 11,
   "metadata": {
    "execution": {
     "iopub.execute_input": "2025-01-23T21:41:07.741068Z",
     "iopub.status.busy": "2025-01-23T21:41:07.740891Z",
     "iopub.status.idle": "2025-01-23T21:41:07.878739Z",
     "shell.execute_reply": "2025-01-23T21:41:07.878020Z"
    }
   },
   "outputs": [
    {
     "data": {
      "image/png": "[encoded data removed]",
      "text/plain": [
       "<Figure size 1000x400 with 2 Axes>"
      ]
     },
     "metadata": {},
     "output_type": "display_data"
    }
   ],
   "source": [
    "plt.show()"
   ]
  }
 ],
 "metadata": {
  "kernelspec": {
   "display_name": "Python 3",
   "language": "python",
   "name": "python3"
  },
  "language_info": {
   "codemirror_mode": {
    "name": "ipython",
    "version": 3
   },
   "file_extension": ".py",
   "mimetype": "text/x-python",
   "name": "python",
   "nbconvert_exporter": "python",
   "pygments_lexer": "ipython3",
   "version": "3.8.10"
  }
 },
 "nbformat": 4,
 "nbformat_minor": 2
}
