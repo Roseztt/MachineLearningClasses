{
 "cells": [
  {
   "cell_type": "code",
   "execution_count": 1,
   "metadata": {
    "execution": {
     "iopub.execute_input": "2025-01-16T16:03:47.229405Z",
     "iopub.status.busy": "2025-01-16T16:03:47.228990Z",
     "iopub.status.idle": "2025-01-16T16:03:47.719348Z",
     "shell.execute_reply": "2025-01-16T16:03:47.718558Z"
    }
   },
   "outputs": [
    {
     "name": "stdout",
     "output_type": "stream",
     "text": [
      "Your own Beta function:  0.5\n",
      "Python's Beta function:  0.5\n"
     ]
    }
   ],
   "source": [
    "#!/usr/bin/env python\n",
    "#\n",
    "from scipy.integrate import quad\n",
    "from scipy.special import beta as Ɓᴾʸ\n",
    "from scipy.stats import beta as pᴾʸ\n",
    "#\n",
    "# Define the Beta function using numerical integration\n",
    "def B(α, β):\n",
    "\tdef f(t): return t**(α - 1) * (1 - t)**(β - 1)\n",
    "\tresult, _ = quad(f, 0, 1)\n",
    "\treturn result\n",
    "#\n",
    "# Compare the results\n",
    "print(\"Your own Beta function: \", B(1, 2))\n",
    "print(\"Python's Beta function: \", Ɓᴾʸ(1, 2))\n",
    "#"
   ]
  },
  {
   "cell_type": "code",
   "execution_count": 2,
   "metadata": {
    "execution": {
     "iopub.execute_input": "2025-01-16T16:03:47.778294Z",
     "iopub.status.busy": "2025-01-16T16:03:47.777932Z",
     "iopub.status.idle": "2025-01-16T16:03:47.787549Z",
     "shell.execute_reply": "2025-01-16T16:03:47.786447Z"
    }
   },
   "outputs": [
    {
     "name": "stdout",
     "output_type": "stream",
     "text": [
      "Your own Beta probability of i = 0.4:  1.7279999999999998\n",
      "Python's Beta probability of i = 0.4:  1.728\n"
     ]
    }
   ],
   "source": [
    "def p(i, α, β):\n",
    "\treturn (i**(α-1) * (1 - i)**(β-1)) / B(α,β)\n",
    "#\n",
    "# Compare the results\n",
    "print(\"Your own Beta probability of i = 0.4: \", p(0.4, 2, 4))\n",
    "print(\"Python's Beta probability of i = 0.4: \", pᴾʸ.pdf(0.4, 2, 4))\n",
    "#"
   ]
  }
 ],
 "metadata": {
  "kernelspec": {
   "display_name": "Python 3",
   "language": "python",
   "name": "python3"
  },
  "language_info": {
   "codemirror_mode": {
    "name": "ipython",
    "version": 3
   },
   "file_extension": ".py",
   "mimetype": "text/x-python",
   "name": "python",
   "nbconvert_exporter": "python",
   "pygments_lexer": "ipython3",
   "version": "3.8.10"
  }
 },
 "nbformat": 4,
 "nbformat_minor": 2
}
