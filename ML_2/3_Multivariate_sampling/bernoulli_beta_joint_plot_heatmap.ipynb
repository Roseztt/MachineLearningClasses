{
 "cells": [
  {
   "cell_type": "code",
   "execution_count": 1,
   "metadata": {
    "execution": {
     "iopub.execute_input": "2025-01-27T17:16:56.211538Z",
     "iopub.status.busy": "2025-01-27T17:16:56.211108Z",
     "iopub.status.idle": "2025-01-27T17:16:56.216603Z",
     "shell.execute_reply": "2025-01-27T17:16:56.215455Z"
    }
   },
   "outputs": [],
   "source": [
    "#!/usr/bin/env python"
   ]
  },
  {
   "cell_type": "code",
   "execution_count": 2,
   "metadata": {
    "execution": {
     "iopub.execute_input": "2025-01-27T17:16:56.220023Z",
     "iopub.status.busy": "2025-01-27T17:16:56.219801Z",
     "iopub.status.idle": "2025-01-27T17:16:56.406281Z",
     "shell.execute_reply": "2025-01-27T17:16:56.405422Z"
    }
   },
   "outputs": [],
   "source": [
    "import matplotlib as mpl\n",
    "mpl.rcParams['savefig.directory'] = '/home/chieh/code/MachineLearningClasses/ML_2/3_Multivariate_sampling'"
   ]
  },
  {
   "cell_type": "code",
   "execution_count": 3,
   "metadata": {
    "execution": {
     "iopub.execute_input": "2025-01-27T17:16:56.409735Z",
     "iopub.status.busy": "2025-01-27T17:16:56.409579Z",
     "iopub.status.idle": "2025-01-27T17:16:56.743155Z",
     "shell.execute_reply": "2025-01-27T17:16:56.741918Z"
    }
   },
   "outputs": [],
   "source": [
    "import numpy as np\n",
    "import matplotlib.pyplot as plt\n",
    "from scipy.special import beta as beta_function"
   ]
  },
  {
   "cell_type": "markdown",
   "metadata": {},
   "source": [
    "Parameters for the Beta distribution"
   ]
  },
  {
   "cell_type": "code",
   "execution_count": 4,
   "metadata": {
    "execution": {
     "iopub.execute_input": "2025-01-27T17:16:56.749513Z",
     "iopub.status.busy": "2025-01-27T17:16:56.749159Z",
     "iopub.status.idle": "2025-01-27T17:16:56.754271Z",
     "shell.execute_reply": "2025-01-27T17:16:56.753163Z"
    }
   },
   "outputs": [],
   "source": [
    "alpha_1 = 1.0\n",
    "beta_1 = 19.0"
   ]
  },
  {
   "cell_type": "markdown",
   "metadata": {},
   "source": [
    "Define the Beta distribution PDF"
   ]
  },
  {
   "cell_type": "code",
   "execution_count": 5,
   "metadata": {
    "execution": {
     "iopub.execute_input": "2025-01-27T17:16:56.759635Z",
     "iopub.status.busy": "2025-01-27T17:16:56.759014Z",
     "iopub.status.idle": "2025-01-27T17:16:56.765017Z",
     "shell.execute_reply": "2025-01-27T17:16:56.763908Z"
    }
   },
   "outputs": [],
   "source": [
    "def beta_pdf(i, alpha, beta):\n",
    "    return (i ** (alpha - 1)) * ((1 - i) ** (beta - 1)) / beta_function(alpha, beta)"
   ]
  },
  {
   "cell_type": "markdown",
   "metadata": {},
   "source": [
    "Define the Bernoulli distribution PMF"
   ]
  },
  {
   "cell_type": "code",
   "execution_count": 6,
   "metadata": {
    "execution": {
     "iopub.execute_input": "2025-01-27T17:16:56.792782Z",
     "iopub.status.busy": "2025-01-27T17:16:56.792530Z",
     "iopub.status.idle": "2025-01-27T17:16:56.796623Z",
     "shell.execute_reply": "2025-01-27T17:16:56.795749Z"
    }
   },
   "outputs": [],
   "source": [
    "def bernoulli_pmf(t, i):\n",
    "    return (i ** t) * ((1 - i) ** (1 - t))"
   ]
  },
  {
   "cell_type": "markdown",
   "metadata": {},
   "source": [
    "Define the joint distribution PDF"
   ]
  },
  {
   "cell_type": "code",
   "execution_count": 7,
   "metadata": {
    "execution": {
     "iopub.execute_input": "2025-01-27T17:16:56.801458Z",
     "iopub.status.busy": "2025-01-27T17:16:56.801223Z",
     "iopub.status.idle": "2025-01-27T17:16:56.804995Z",
     "shell.execute_reply": "2025-01-27T17:16:56.804270Z"
    }
   },
   "outputs": [],
   "source": [
    "def joint_pdf(i, t, alpha, beta):\n",
    "    return bernoulli_pmf(t, i) * beta_pdf(i, alpha, beta)"
   ]
  },
  {
   "cell_type": "markdown",
   "metadata": {},
   "source": [
    "Create a grid of i values (from 0 to 1)"
   ]
  },
  {
   "cell_type": "code",
   "execution_count": 8,
   "metadata": {
    "execution": {
     "iopub.execute_input": "2025-01-27T17:16:56.809209Z",
     "iopub.status.busy": "2025-01-27T17:16:56.808945Z",
     "iopub.status.idle": "2025-01-27T17:16:56.813092Z",
     "shell.execute_reply": "2025-01-27T17:16:56.812195Z"
    }
   },
   "outputs": [],
   "source": [
    "i_values = np.linspace(0, 0.1, 100)"
   ]
  },
  {
   "cell_type": "markdown",
   "metadata": {},
   "source": [
    "Evaluate the joint PDF for t = 0 and t = 1"
   ]
  },
  {
   "cell_type": "code",
   "execution_count": 9,
   "metadata": {
    "execution": {
     "iopub.execute_input": "2025-01-27T17:16:56.816232Z",
     "iopub.status.busy": "2025-01-27T17:16:56.815972Z",
     "iopub.status.idle": "2025-01-27T17:16:56.838811Z",
     "shell.execute_reply": "2025-01-27T17:16:56.837930Z"
    }
   },
   "outputs": [],
   "source": [
    "Z0 = joint_pdf(i_values, 0, alpha_1, beta_1)  # t = 0\n",
    "Z1 = joint_pdf(i_values, 1, alpha_1, beta_1)  # t = 1"
   ]
  },
  {
   "cell_type": "markdown",
   "metadata": {},
   "source": [
    "Combine the results into a 2D array for the heatmap"
   ]
  },
  {
   "cell_type": "code",
   "execution_count": 10,
   "metadata": {
    "execution": {
     "iopub.execute_input": "2025-01-27T17:16:56.844251Z",
     "iopub.status.busy": "2025-01-27T17:16:56.843901Z",
     "iopub.status.idle": "2025-01-27T17:16:56.848560Z",
     "shell.execute_reply": "2025-01-27T17:16:56.847533Z"
    }
   },
   "outputs": [],
   "source": [
    "Z = np.vstack([Z1, Z0])  # t = 1 on top, t = 0 at the bottom"
   ]
  },
  {
   "cell_type": "markdown",
   "metadata": {},
   "source": [
    "Plot the heatmap"
   ]
  },
  {
   "cell_type": "code",
   "execution_count": 11,
   "metadata": {
    "execution": {
     "iopub.execute_input": "2025-01-27T17:16:56.852179Z",
     "iopub.status.busy": "2025-01-27T17:16:56.851935Z",
     "iopub.status.idle": "2025-01-27T17:16:56.869326Z",
     "shell.execute_reply": "2025-01-27T17:16:56.868747Z"
    }
   },
   "outputs": [
    {
     "data": {
      "text/plain": [
       "<Figure size 1000x400 with 0 Axes>"
      ]
     },
     "execution_count": 11,
     "metadata": {},
     "output_type": "execute_result"
    }
   ],
   "source": [
    "plt.figure(figsize=(10, 4))"
   ]
  },
  {
   "cell_type": "markdown",
   "metadata": {},
   "source": [
    "Use extent to center t = 0 and t = 1 in their respective regions"
   ]
  },
  {
   "cell_type": "code",
   "execution_count": 12,
   "metadata": {
    "execution": {
     "iopub.execute_input": "2025-01-27T17:16:56.909955Z",
     "iopub.status.busy": "2025-01-27T17:16:56.909779Z",
     "iopub.status.idle": "2025-01-27T17:16:56.985906Z",
     "shell.execute_reply": "2025-01-27T17:16:56.985165Z"
    }
   },
   "outputs": [
    {
     "data": {
      "text/plain": [
       "<matplotlib.image.AxesImage at 0x7f2071ad90a0>"
      ]
     },
     "execution_count": 12,
     "metadata": {},
     "output_type": "execute_result"
    }
   ],
   "source": [
    "plt.imshow(Z, extent=[0, 1, 0.25, 1.75], aspect='auto', cmap='viridis', origin='upper')"
   ]
  },
  {
   "cell_type": "markdown",
   "metadata": {},
   "source": [
    "Add color bar"
   ]
  },
  {
   "cell_type": "code",
   "execution_count": 13,
   "metadata": {
    "execution": {
     "iopub.execute_input": "2025-01-27T17:16:56.990198Z",
     "iopub.status.busy": "2025-01-27T17:16:56.990018Z",
     "iopub.status.idle": "2025-01-27T17:16:57.070661Z",
     "shell.execute_reply": "2025-01-27T17:16:57.069826Z"
    }
   },
   "outputs": [],
   "source": [
    "cbar = plt.colorbar()\n",
    "cbar.set_label('Joint Probability Density')"
   ]
  },
  {
   "cell_type": "markdown",
   "metadata": {},
   "source": [
    "Set labels"
   ]
  },
  {
   "cell_type": "code",
   "execution_count": 14,
   "metadata": {
    "execution": {
     "iopub.execute_input": "2025-01-27T17:16:57.074952Z",
     "iopub.status.busy": "2025-01-27T17:16:57.074784Z",
     "iopub.status.idle": "2025-01-27T17:16:57.127967Z",
     "shell.execute_reply": "2025-01-27T17:16:57.127248Z"
    }
   },
   "outputs": [
    {
     "data": {
      "text/plain": [
       "Text(87.59722222222221, 0.5, 't (Bernoulli)')"
      ]
     },
     "execution_count": 14,
     "metadata": {},
     "output_type": "execute_result"
    }
   ],
   "source": [
    "plt.xlabel('i (Beta)')\n",
    "plt.ylabel('t (Bernoulli)')"
   ]
  },
  {
   "cell_type": "markdown",
   "metadata": {},
   "source": [
    "Set y-axis ticks to 0.5 and 1.5 (middle of the regions for t = 0 and t = 1)"
   ]
  },
  {
   "cell_type": "code",
   "execution_count": 15,
   "metadata": {
    "execution": {
     "iopub.execute_input": "2025-01-27T17:16:57.132451Z",
     "iopub.status.busy": "2025-01-27T17:16:57.132283Z",
     "iopub.status.idle": "2025-01-27T17:16:57.179025Z",
     "shell.execute_reply": "2025-01-27T17:16:57.178313Z"
    }
   },
   "outputs": [
    {
     "data": {
      "text/plain": [
       "([<matplotlib.axis.YTick at 0x7f2071aaa190>,\n",
       "  <matplotlib.axis.YTick at 0x7f2073c94c10>],\n",
       " [Text(0, 0.5, '0'), Text(0, 1.5, '1')])"
      ]
     },
     "execution_count": 15,
     "metadata": {},
     "output_type": "execute_result"
    }
   ],
   "source": [
    "plt.yticks([0.5, 1.5], ['0', '1'])"
   ]
  },
  {
   "cell_type": "markdown",
   "metadata": {},
   "source": [
    "Add title"
   ]
  },
  {
   "cell_type": "code",
   "execution_count": 16,
   "metadata": {
    "execution": {
     "iopub.execute_input": "2025-01-27T17:16:57.182955Z",
     "iopub.status.busy": "2025-01-27T17:16:57.182788Z",
     "iopub.status.idle": "2025-01-27T17:16:57.235522Z",
     "shell.execute_reply": "2025-01-27T17:16:57.234814Z"
    }
   },
   "outputs": [
    {
     "data": {
      "text/plain": [
       "Text(0.5, 1.0, 'Joint Distribution of Bernoulli and Beta (α=1.0, β=19.0)')"
      ]
     },
     "execution_count": 16,
     "metadata": {},
     "output_type": "execute_result"
    }
   ],
   "source": [
    "plt.title(f'Joint Distribution of Bernoulli and Beta (α={alpha_1}, β={beta_1})')"
   ]
  },
  {
   "cell_type": "markdown",
   "metadata": {},
   "source": [
    "Show the plot"
   ]
  },
  {
   "cell_type": "code",
   "execution_count": 17,
   "metadata": {
    "execution": {
     "iopub.execute_input": "2025-01-27T17:16:57.239901Z",
     "iopub.status.busy": "2025-01-27T17:16:57.239737Z",
     "iopub.status.idle": "2025-01-27T17:16:57.383947Z",
     "shell.execute_reply": "2025-01-27T17:16:57.383320Z"
    }
   },
   "outputs": [
    {
     "data": {
      "image/png": "[encoded data removed]",
      "text/plain": [
       "<Figure size 1000x400 with 2 Axes>"
      ]
     },
     "metadata": {},
     "output_type": "display_data"
    }
   ],
   "source": [
    "plt.show()"
   ]
  }
 ],
 "metadata": {
  "kernelspec": {
   "display_name": "Python 3",
   "language": "python",
   "name": "python3"
  },
  "language_info": {
   "codemirror_mode": {
    "name": "ipython",
    "version": 3
   },
   "file_extension": ".py",
   "mimetype": "text/x-python",
   "name": "python",
   "nbconvert_exporter": "python",
   "pygments_lexer": "ipython3",
   "version": "3.8.10"
  }
 },
 "nbformat": 4,
 "nbformat_minor": 2
}
